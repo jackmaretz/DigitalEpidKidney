{
 "cells": [
  {
   "cell_type": "markdown",
   "metadata": {},
   "source": [
    "# DIGITAL EPIDEMIOLOGY\n",
    "\n",
    "\n",
    "# Assignment 2 - A study of the Chronic Kidney Disease\n",
    "\n",
    "\n",
    "# Giacomo Maretto, Gabriel Nespoli"
   ]
  },
  {
   "cell_type": "markdown",
   "metadata": {},
   "source": [
    "# PART 1: CORRELATION STUDY\n",
    "\n",
    "# 1.1\n",
    "\n",
    "Study the correlation between the ground truth data and the Google Trends data. Explore multiple features of the ground truth data (e.g., crude prevalence, age-adjusted prevalence, etc.), and multiple keywords or entity types for querying the Google Trends data. Check for stability (or lack there of) across different years."
   ]
  },
  {
   "cell_type": "code",
   "execution_count": 1,
   "metadata": {},
   "outputs": [],
   "source": [
    "import pandas as pd\n",
    "import matplotlib.pyplot as plt\n",
    "from scipy.stats.stats import pearsonr\n",
    "import numpy as np\n",
    "from sklearn.model_selection import train_test_split\n",
    "from sklearn import linear_model\n",
    "from sklearn.linear_model import Lasso,Ridge\n",
    "import random\n",
    "random.seed(123)\n",
    "import warnings\n",
    "warnings.filterwarnings(action='ignore')"
   ]
  },
  {
   "cell_type": "code",
   "execution_count": 2,
   "metadata": {},
   "outputs": [],
   "source": [
    "# from a dataframe |keyword|correlation|, get a subset of this dataframe according to the threshold for the correlation.\n",
    "# It will return the keywords with correlation greater or equal than threshold.\n",
    "def get_most_correlated_terms_df(df, threshold=0.1):\n",
    "    # order the keywords by the correlation average value\n",
    "    df.sort_values(by=\"correlation\", ascending=False, inplace=True)\n",
    "    \n",
    "    # check if the threshold passed is a float and return a subset of the dataset, otherwise raise an exception\n",
    "    if isinstance(threshold, float):\n",
    "        return df.loc[df[\"correlation\"] >= threshold]\n",
    "    raise AttributeError(\"Exception in get_most_correlated_terms method. 'threshold' must be float.\")"
   ]
  },
  {
   "cell_type": "code",
   "execution_count": 3,
   "metadata": {},
   "outputs": [],
   "source": [
    "# Load all the dataframes of correlations and get the keywords with the best correlation between the \n",
    "# ground truth and google dataset, considering all the years in 'years'\n",
    "def get_compound_most_correlated_terms_df(file_type=\"AA\", \n",
    "                                          years = [2011,2012,2013,2014,2015,2016], threshold=0.1):\n",
    "    # create an empty dataset that will be filled and returned later\n",
    "    most_correlated_df = pd.DataFrame(columns=[\"keyword\",\"correlation\"])\n",
    "    \n",
    "    # sufix defines the right file to be read, according to the ground-truth data to be analyzed\n",
    "    sufix = \"\"\n",
    "    if file_type == 'AA':\n",
    "        sufix = \"_\" + file_type\n",
    "    \n",
    "    # iterate over the years populating the aforementioned empty dataframe with the keywords that\n",
    "    # have a high correlation with the GT data. The resulting dataframe will be a long table\n",
    "    # with words of each year that attend the condition 'correlation >= threshold'.\n",
    "    for year in years:\n",
    "        df = pd.read_csv('overall_correlation_'+ str(year) + sufix + '.csv', sep=';')\n",
    "        df = get_most_correlated_terms_df(df, threshold=threshold)\n",
    "        most_correlated_df = most_correlated_df.append(get_most_correlated_terms_df(df, threshold=threshold))\n",
    "    \n",
    "    # sort the dataframe by the correlation and drop the repeated keywords, preserving the highest correlated copy\n",
    "    df.sort_values(by=\"correlation\", ascending=False, inplace=True)\n",
    "    most_correlated_df.drop_duplicates(subset=\"keyword\", keep=\"first\", inplace=True)\n",
    "    most_correlated_df.reset_index(drop=True, inplace=True)\n",
    "    return most_correlated_df"
   ]
  },
  {
   "cell_type": "code",
   "execution_count": 4,
   "metadata": {},
   "outputs": [],
   "source": [
    "# plot the correlation between the Google Trends keywords and the ground-truth data over the years.\n",
    "# The y-axis shows the correlation value (between 0 and 1), and the x-axis presents the keywords that\n",
    "# appear with a high correlation (>=threshold) in all the years. Each line of the graph represents a year.\n",
    "def plot_keywords_correlation(file_type=\"AA\", years = [2011,2012,2013,2014,2015,2016], threshold=0.1):\n",
    "    \n",
    "    # creates an empty dataframe that will be store the values of the plot\n",
    "    corr_keywords_plot = pd.DataFrame(columns=[\"keyword\", \"correlation\"])\n",
    "    years = list(reversed(years))  # the most recent year appears first\n",
    "    \n",
    "    # mark the first loop of the iteration. It will define if the corr_keywords_plot will be initialized or,\n",
    "    # if exists, updated.\n",
    "    first_execution = True\n",
    "    \n",
    "    # create a dataframe with the correlation containing only the terms that repeated in all 'years'. That is,\n",
    "    # an inner join is done.\n",
    "    for year in years:\n",
    "        corr_df = get_compound_most_correlated_terms_df(file_type=file_type, years = [year], threshold=threshold)\n",
    "        if first_execution:\n",
    "            corr_keywords_plot = corr_df\n",
    "            first_execution = False\n",
    "        else:\n",
    "            # do an inner join based on the keyword. Only keywords that appear in all the years\n",
    "            # will be in the plot\n",
    "            corr_keywords_plot = corr_keywords_plot.merge(corr_df, on=[\"keyword\"], how=\"inner\")\n",
    "    \n",
    "    # rename the columns, assigning the year to them\n",
    "    corr_keywords_plot.columns = [\"keyword\"] + years\n",
    "    \n",
    "    # initialize the plot variables\n",
    "    fig, ax = plt.subplots()\n",
    "    \n",
    "    # plot the curve for each year\n",
    "    for year in years:\n",
    "        corr_keywords_plot[year].plot(ax=ax)\n",
    "    \n",
    "    # reduce the font size of the legend and move it outside the boxplot\n",
    "    ax.legend(fontsize=\"small\", bbox_to_anchor=(1, 1))\n",
    "    \n",
    "    # define the title and the labels\n",
    "    if file_type == \"AA\":\n",
    "        file_type = \"age-adjusted prevalence\"\n",
    "    elif file_type == \"CP\":\n",
    "        file_type = \"crude prevalence\"\n",
    "    plt.title(\"Correlation comparison for the \" + file_type + \" ground-truth data using Google Trends keywords\")\n",
    "    plt.ylabel(\"Correlation\")\n",
    "    plt.xlabel(\"Query\")\n",
    "    \n",
    "    # The plot prints in the x-axis just the position of the keywords (ie. 1,2,3..), not the keywords themselves.\n",
    "    # A workaround is to map the position to the keyword that it represents\n",
    "    x_label_sequence = list(range(len(corr_keywords_plot[\"keyword\"].values)))\n",
    "    plt.xticks(x_label_sequence, corr_keywords_plot[\"keyword\"].values, rotation=90)\n"
   ]
  },
  {
   "cell_type": "code",
   "execution_count": 5,
   "metadata": {
    "scrolled": false
   },
   "outputs": [],
   "source": [
    "plot_keywords_correlation()"
   ]
  },
  {
   "cell_type": "markdown",
   "metadata": {},
   "source": [
    "The above graph shows the searched terms on Google Trends with highest correlation with the ground-truth data (age-adjusted) in repeated years. This means that only these eight terms had a correlation with the ground-truth higher than 0.1 from 2011 to 2016."
   ]
  },
  {
   "cell_type": "markdown",
   "metadata": {},
   "source": [
    "With few counter examples, it is shown that the more recent is the year, the better is the correlation. This can be explained through the growing in the Internet access and usage. This recent increase was specially observed in the older and poorer population. The idea is that the population is more informed and using more Internet to search for symptoms, treatment and prevention of diseases."
   ]
  },
  {
   "cell_type": "markdown",
   "metadata": {},
   "source": [
    "Studying deeper the terms, it comes out that they are very significant terms in the universe of the Chronic Kidney Disease, and this affirmation is confirmed by studies, available in the links below:\n",
    "\n",
    "high blood pressure: https://www.niddk.nih.gov/health-information/kidney-disease/chronic-kidney-disease-ckd/high-blood-pressure\n",
    "\n",
    "dialysis: https://emedicine.medscape.com/article/238798-treatment\n",
    "\n",
    "cor pulmonale: https://www.ncbi.nlm.nih.gov/pubmed/22669490\n",
    "\n",
    "fatty liver kidney: http://care.diabetesjournals.org/content/39/10/1830\n",
    "\n",
    "gout: https://www.kidney.org/atoz/content/gout\n",
    "\n",
    "nephroptosis: http://medsideen.bitballoon.com/urinology15/nephroptosis-nephro395.html\n",
    "\n",
    "renal insuficiency: https://www.ncbi.nlm.nih.gov/pubmed/16344727"
   ]
  },
  {
   "cell_type": "code",
   "execution_count": 6,
   "metadata": {},
   "outputs": [],
   "source": [
    "plot_keywords_correlation(file_type=\"CP\")"
   ]
  },
  {
   "cell_type": "markdown",
   "metadata": {},
   "source": [
    "It was found five more terms with significant correlation with the ground-truth data (crude prevalence): diabetes insipidus, renal failure, lupus, diabetic and myotonic muscular dystrophy.\n",
    "\n",
    "diabetes insipidus: https://www.niddk.nih.gov/health-information/kidney-disease/diabetes-insipidus\n",
    "\n",
    "renal failure: https://emedicine.medscape.com/article/238798-overview\n",
    "\n",
    "lupus: https://www.kidney.org/atoz/content/lupus\n",
    "\n",
    "diabetic: https://www.kidney.org/news/newsroom/factsheets/Diabetes-And-CKD\n",
    "\n",
    "myotonic muscular dystrophy: https://www.ncbi.nlm.nih.gov/pubmed/29029879"
   ]
  },
  {
   "cell_type": "markdown",
   "metadata": {},
   "source": [
    "It can be seen the same relation through the years with the ground-truth crude prevalence dataset, except for the keywords gout, nephroptosis, renal insufficiency and myotonic muscular dystrophy."
   ]
  },
  {
   "cell_type": "markdown",
   "metadata": {},
   "source": [
    "# 1.2\n",
    "\n",
    "Study the correlation of your target ground truth feature with income/poverty features."
   ]
  },
  {
   "cell_type": "code",
   "execution_count": 7,
   "metadata": {},
   "outputs": [],
   "source": [
    "# define the list of states of the ground truth to be used (it varies according to the year)\n",
    "df_gt = pd.read_csv('2012_AA.csv', sep=\";\",usecols=[\"LocationDesc\"])\n",
    "df_gt.dropna(subset=['LocationDesc'], inplace=True)\n",
    "df_gt.drop(df_gt.tail(2).index, inplace=True)\n",
    "states = df_gt[\"LocationDesc\"]\n",
    "\n",
    "# Calculate the correlation between the average household income of the states and the ground-truth\n",
    "# data over the years.\n",
    "def get_income_correlation_df(gt_type=\"AA\", years = [2011,2012,2013,2014,2015,2016]):\n",
    "    corr = []\n",
    "    output_df = pd.DataFrame(columns=[\"year\", \"correlation\"])\n",
    "    income_df = pd.read_csv(\"income_per_vector_2011-2016.csv\", sep=\";\")\n",
    "    \n",
    "    # gt_type defines the GT that will be used to calculate the correlation with the income\n",
    "    if gt_type == \"AA\":\n",
    "        gt_type = \"_AA\"\n",
    "    if gt_type == \"CP\":\n",
    "        gt_type = \"\"\n",
    "    \n",
    "    #iterate over the years calculating the correlation of the income with each GT dataset\n",
    "    for year in years:\n",
    "        gt_filename = str(year) + gt_type + '.csv'\n",
    "        gt_df = pd.read_csv(gt_filename, sep=\";\", usecols=[\"LocationDesc\", \"Data_Value\"])\n",
    "        gt_df = gt_df.loc[gt_df[\"LocationDesc\"].isin(states)]  # guarantees that only the 51 states will be used\n",
    "        corr.append(pearsonr(income_df[str(year)], gt_df[\"Data_Value\"])[0])\n",
    "    \n",
    "    # the output is the correlation per year: |year|correlation|\n",
    "    output_df[\"year\"] = years\n",
    "    output_df[\"correlation\"] = corr\n",
    "    output_df.set_index(\"year\", inplace=True)\n",
    "    \n",
    "    return output_df"
   ]
  },
  {
   "cell_type": "code",
   "execution_count": 8,
   "metadata": {},
   "outputs": [],
   "source": [
    "# plot the correlation between the average household income of the states of USA and the ground-truth data\n",
    "# over the years. The y-axis shows the correlation value (between 0 and 1), and the x-axis presents the years.\n",
    "# Each line of the graph represents a ground-truth dataset [age-adjusted prevalence, crude prevalence].\n",
    "def plot_income_correlation(years = [2011,2012,2013,2014,2015,2016]):\n",
    "    income_df = get_income_correlation_df()\n",
    "    income_df[\"Crude Prevalence\"] = get_income_correlation_df(gt_type=\"CP\")\n",
    "    \n",
    "    # rename the columns of the dataframe\n",
    "    income_df.columns = [\"age-adjusted prevalence\", \"crude prevalence\"]\n",
    "    # plot the curve for each year\n",
    "    income_df.plot()\n",
    "    \n",
    "    # set title and labels of the graph\n",
    "    plt.title(\"Correlation comparison of the ground truth data and the average household income\")\n",
    "    plt.ylabel(\"Correlation\")\n",
    "    plt.xlabel(\"Year\")\n",
    "    plt.clf()"
   ]
  },
  {
   "cell_type": "code",
   "execution_count": 9,
   "metadata": {},
   "outputs": [],
   "source": [
    "plot_income_correlation()"
   ]
  },
  {
   "cell_type": "markdown",
   "metadata": {},
   "source": [
    "The graph exibit a negative correlation between the average household income of the state in United State and the incidence of the Chronic Kidney Disease. Important factors to sustain this relation is that infectious diseases, poor sanitation, inadequate supply of safe water, environmental pollutants and high concentrations of disease-transmitting vectors  play an important role in the development of CKD in low-income sites. African-Americans, historically a poorer population in USA, can have more than three times more risk to suffer from CKD.\n",
    "\n",
    "It was also found that there is a circular effect between the poverty and CKD, which means that the patients tends to decrease their income over time.\n",
    "\n",
    "The aforementioned affirmations are confirmed in the following studies:\n",
    "\n",
    "https://academic.oup.com/ckj/article/8/1/3/434867\n",
    "https://www.sciencedirect.com/science/article/pii/S2468024917304795\n",
    "https://www.kidney.org/news/newsroom/nr/Low-Income-Linked-to-Higher-Levels-of-Kidney-Disease\n",
    "\n",
    "Moreover, it is noticed that the correlation is higher when the age standardization is applied over the dataset, correcting the discrepancy in the age profile of the population of each state."
   ]
  },
  {
   "cell_type": "markdown",
   "metadata": {},
   "source": [
    "# 2.1"
   ]
  },
  {
   "cell_type": "code",
   "execution_count": 10,
   "metadata": {},
   "outputs": [
    {
     "data": {
      "text/html": [
       "<div>\n",
       "<style>\n",
       "    .dataframe thead tr:only-child th {\n",
       "        text-align: right;\n",
       "    }\n",
       "\n",
       "    .dataframe thead th {\n",
       "        text-align: left;\n",
       "    }\n",
       "\n",
       "    .dataframe tbody tr th {\n",
       "        vertical-align: top;\n",
       "    }\n",
       "</style>\n",
       "<table border=\"1\" class=\"dataframe\">\n",
       "  <thead>\n",
       "    <tr style=\"text-align: right;\">\n",
       "      <th></th>\n",
       "      <th>State</th>\n",
       "      <th>Year</th>\n",
       "      <th>nephroptosis</th>\n",
       "      <th>necrobiosis lipoidica</th>\n",
       "      <th>renal insufficiency</th>\n",
       "      <th>high blood pressure</th>\n",
       "      <th>iron overload</th>\n",
       "      <th>pyelitis</th>\n",
       "      <th>pulmonary emphysema</th>\n",
       "      <th>gout</th>\n",
       "      <th>...</th>\n",
       "      <th>sepsis</th>\n",
       "      <th>pemphigus</th>\n",
       "      <th>erythropoietin</th>\n",
       "      <th>diabetes mellitus</th>\n",
       "      <th>Kawasaki Disease</th>\n",
       "      <th>chronic renal failure</th>\n",
       "      <th>rheumatic fever</th>\n",
       "      <th>ballottement</th>\n",
       "      <th>rheumatism</th>\n",
       "      <th>Data_Value</th>\n",
       "    </tr>\n",
       "  </thead>\n",
       "  <tbody>\n",
       "    <tr>\n",
       "      <th>0</th>\n",
       "      <td>Alabama</td>\n",
       "      <td>2011</td>\n",
       "      <td>0</td>\n",
       "      <td>0</td>\n",
       "      <td>0</td>\n",
       "      <td>79</td>\n",
       "      <td>0</td>\n",
       "      <td>0</td>\n",
       "      <td>0</td>\n",
       "      <td>76</td>\n",
       "      <td>...</td>\n",
       "      <td>85</td>\n",
       "      <td>41</td>\n",
       "      <td>72</td>\n",
       "      <td>63</td>\n",
       "      <td>66</td>\n",
       "      <td>0</td>\n",
       "      <td>47</td>\n",
       "      <td>0</td>\n",
       "      <td>58</td>\n",
       "      <td>2.5</td>\n",
       "    </tr>\n",
       "    <tr>\n",
       "      <th>1</th>\n",
       "      <td>Alaska</td>\n",
       "      <td>2011</td>\n",
       "      <td>0</td>\n",
       "      <td>0</td>\n",
       "      <td>0</td>\n",
       "      <td>68</td>\n",
       "      <td>0</td>\n",
       "      <td>0</td>\n",
       "      <td>0</td>\n",
       "      <td>81</td>\n",
       "      <td>...</td>\n",
       "      <td>57</td>\n",
       "      <td>0</td>\n",
       "      <td>0</td>\n",
       "      <td>30</td>\n",
       "      <td>54</td>\n",
       "      <td>0</td>\n",
       "      <td>0</td>\n",
       "      <td>0</td>\n",
       "      <td>0</td>\n",
       "      <td>2.5</td>\n",
       "    </tr>\n",
       "    <tr>\n",
       "      <th>2</th>\n",
       "      <td>Arizona</td>\n",
       "      <td>2011</td>\n",
       "      <td>100</td>\n",
       "      <td>0</td>\n",
       "      <td>0</td>\n",
       "      <td>67</td>\n",
       "      <td>0</td>\n",
       "      <td>0</td>\n",
       "      <td>0</td>\n",
       "      <td>78</td>\n",
       "      <td>...</td>\n",
       "      <td>68</td>\n",
       "      <td>41</td>\n",
       "      <td>41</td>\n",
       "      <td>74</td>\n",
       "      <td>52</td>\n",
       "      <td>35</td>\n",
       "      <td>38</td>\n",
       "      <td>0</td>\n",
       "      <td>43</td>\n",
       "      <td>3.4</td>\n",
       "    </tr>\n",
       "    <tr>\n",
       "      <th>3</th>\n",
       "      <td>Arkansas</td>\n",
       "      <td>2011</td>\n",
       "      <td>0</td>\n",
       "      <td>0</td>\n",
       "      <td>0</td>\n",
       "      <td>89</td>\n",
       "      <td>0</td>\n",
       "      <td>0</td>\n",
       "      <td>0</td>\n",
       "      <td>83</td>\n",
       "      <td>...</td>\n",
       "      <td>79</td>\n",
       "      <td>42</td>\n",
       "      <td>45</td>\n",
       "      <td>63</td>\n",
       "      <td>57</td>\n",
       "      <td>0</td>\n",
       "      <td>62</td>\n",
       "      <td>0</td>\n",
       "      <td>41</td>\n",
       "      <td>2.8</td>\n",
       "    </tr>\n",
       "    <tr>\n",
       "      <th>4</th>\n",
       "      <td>California</td>\n",
       "      <td>2011</td>\n",
       "      <td>14</td>\n",
       "      <td>22</td>\n",
       "      <td>55</td>\n",
       "      <td>57</td>\n",
       "      <td>68</td>\n",
       "      <td>84</td>\n",
       "      <td>70</td>\n",
       "      <td>66</td>\n",
       "      <td>...</td>\n",
       "      <td>58</td>\n",
       "      <td>37</td>\n",
       "      <td>43</td>\n",
       "      <td>52</td>\n",
       "      <td>48</td>\n",
       "      <td>34</td>\n",
       "      <td>29</td>\n",
       "      <td>51</td>\n",
       "      <td>50</td>\n",
       "      <td>2.5</td>\n",
       "    </tr>\n",
       "  </tbody>\n",
       "</table>\n",
       "<p>5 rows × 111 columns</p>\n",
       "</div>"
      ],
      "text/plain": [
       "        State  Year  nephroptosis  necrobiosis lipoidica  renal insufficiency  \\\n",
       "0     Alabama  2011             0                      0                    0   \n",
       "1      Alaska  2011             0                      0                    0   \n",
       "2     Arizona  2011           100                      0                    0   \n",
       "3    Arkansas  2011             0                      0                    0   \n",
       "4  California  2011            14                     22                   55   \n",
       "\n",
       "   high blood pressure  iron overload  pyelitis  pulmonary emphysema  gout  \\\n",
       "0                   79              0         0                    0    76   \n",
       "1                   68              0         0                    0    81   \n",
       "2                   67              0         0                    0    78   \n",
       "3                   89              0         0                    0    83   \n",
       "4                   57             68        84                   70    66   \n",
       "\n",
       "      ...      sepsis  pemphigus  erythropoietin  diabetes mellitus  \\\n",
       "0     ...          85         41              72                 63   \n",
       "1     ...          57          0               0                 30   \n",
       "2     ...          68         41              41                 74   \n",
       "3     ...          79         42              45                 63   \n",
       "4     ...          58         37              43                 52   \n",
       "\n",
       "   Kawasaki Disease  chronic renal failure  rheumatic fever  ballottement  \\\n",
       "0                66                      0               47             0   \n",
       "1                54                      0                0             0   \n",
       "2                52                     35               38             0   \n",
       "3                57                      0               62             0   \n",
       "4                48                     34               29            51   \n",
       "\n",
       "   rheumatism  Data_Value  \n",
       "0          58         2.5  \n",
       "1           0         2.5  \n",
       "2          43         3.4  \n",
       "3          41         2.8  \n",
       "4          50         2.5  \n",
       "\n",
       "[5 rows x 111 columns]"
      ]
     },
     "execution_count": 10,
     "metadata": {},
     "output_type": "execute_result"
    }
   ],
   "source": [
    "df = pd.read_csv(\"output_complete.csv\",sep=\";\") # loading dataframe build in previous steps.\n",
    "df.head()"
   ]
  },
  {
   "cell_type": "code",
   "execution_count": 11,
   "metadata": {},
   "outputs": [],
   "source": [
    "train, validation = train_test_split(df, test_size=0.2)"
   ]
  },
  {
   "cell_type": "markdown",
   "metadata": {},
   "source": [
    "### In the following steps we selected three linear regression models : a simple linear model, Ridge and Lasso.\n",
    "### For each model we computed the mean squared error."
   ]
  },
  {
   "cell_type": "markdown",
   "metadata": {},
   "source": [
    "# Spatial Cross validation\n",
    "In order to make spatial cross validation we used a sort of Leave-one(state)-out cross validation technique, for each state infact, we splitted the dataframe in train and test set and fitted the models and get a mean."
   ]
  },
  {
   "cell_type": "code",
   "execution_count": 13,
   "metadata": {},
   "outputs": [
    {
     "name": "stdout",
     "output_type": "stream",
     "text": [
      "Mean mse LM: 0.433332578231\n",
      "Mean mse Lasso: 0.440626188007\n",
      "Mean mse Ridge: 0.391216395532\n",
      "Mean mse in spatial cv:  0.421725053923\n"
     ]
    }
   ],
   "source": [
    "mseLM = []\n",
    "mseLasso = []\n",
    "mseRidge = []\n",
    "# LOO CrossValidation\n",
    "\n",
    "trainS=train.drop([\"Year\"],axis=1)\n",
    "\n",
    "\n",
    "for state in states:\n",
    "    trainK = trainS.loc[train[\"State\"] == state]\n",
    "    testK = trainS.drop(trainK.index)\n",
    "\n",
    "\n",
    "\n",
    "    #LM\n",
    "    lm = linear_model.LinearRegression()\n",
    "    model = lm.fit(trainK.iloc[:,1:-1],trainK.iloc[:,-1])\n",
    "    predictions = lm.predict(testK.iloc[:,1:-1])\n",
    "    mseLM.append(np.mean((predictions - testK.iloc[:,-1])**2))\n",
    "\n",
    "    #Lasso\n",
    "    trainKnum = trainK.apply(pd.to_numeric, errors='coerce')\n",
    "    testKnum = testK.apply(pd.to_numeric, errors='coerce')\n",
    "    trainKnum.fillna(0, inplace=True)\n",
    "    testKnum.fillna(0, inplace=True)\n",
    "    \n",
    "    lassoReg = Lasso()\n",
    "    lassoReg.fit(trainK.iloc[:,1:-1],trainK.iloc[:,-1])\n",
    "    predLasso = lassoReg.predict(testK.iloc[:,1:-1])\n",
    "    mseLasso.append(np.mean((predLasso - testK.iloc[:,-1])**2))\n",
    "\n",
    "    #Ridge\n",
    "    ridgeReg = Ridge()\n",
    "    ridgeReg.fit(trainK.iloc[:,1:-1],trainK.iloc[:,-1])\n",
    "    predRidge = ridgeReg.predict(testK.iloc[:,1:-1])\n",
    "    mseRidge.append(np.mean((predRidge - testK.iloc[:,-1])**2))\n",
    "\n",
    "lmod = np.mean(mseLM)\n",
    "las = np.mean(mseLasso)\n",
    "ridge = np.mean(mseRidge)\n",
    "\n",
    "\n",
    "print(\"Mean mse LM:\",np.mean(mseLM))\n",
    "print(\"Mean mse Lasso:\",np.mean(mseLasso))\n",
    "print(\"Mean mse Ridge:\",np.mean(mseRidge))\n",
    "print(\"Mean mse in spatial cv: \", np.mean([np.mean(mseLM),np.mean(mseLasso),np.mean(mseRidge)]))"
   ]
  },
  {
   "cell_type": "markdown",
   "metadata": {},
   "source": [
    "# Temporal cross validation\n",
    "In order to make a temporal cross validation, we divided in folds the dataset , one for each year and divided in train test set according to this division, computed the models in each fold and get a mean of the error."
   ]
  },
  {
   "cell_type": "code",
   "execution_count": 14,
   "metadata": {},
   "outputs": [
    {
     "name": "stdout",
     "output_type": "stream",
     "text": [
      "Mean mse LM: 0.293664975433\n",
      "Mean mse Lasso: 0.230461425668\n",
      "Mean mse Ridge: 0.292939451243\n",
      "Mean mse in temporal cv:  0.272355284114\n"
     ]
    }
   ],
   "source": [
    "mseLM = []\n",
    "mseLasso = []\n",
    "mseRidge = []\n",
    "trainY=train.drop([\"State\"],axis=1)\n",
    "\n",
    "\n",
    "for year in [2011,2012,2013,2014,2015,2016]:\n",
    "    trainK = trainY.loc[train.Year == year]\n",
    "    testK = trainY.drop(trainK.index)\n",
    "    \n",
    "    \n",
    "    #lm\n",
    "    lm = linear_model.LinearRegression()\n",
    "    model = lm.fit(trainK.iloc[:,1:-1],trainK.iloc[:,-1])\n",
    "    predictions = lm.predict(testK.iloc[:,1:-1])\n",
    "    mseLM.append(np.mean((predictions - testK.iloc[:,-1])**2))\n",
    "\n",
    "\n",
    "    \n",
    "    #Lasso\n",
    "    trainKnum = trainK.apply(pd.to_numeric, errors='coerce')\n",
    "    testKnum = testK.apply(pd.to_numeric, errors='coerce')\n",
    "    trainKnum.fillna(0, inplace=True)\n",
    "    testKnum.fillna(0, inplace=True)\n",
    "    \n",
    "    lassoReg = Lasso()\n",
    "    lassoReg.fit(trainK.iloc[:,1:-1],trainK.iloc[:,-1])\n",
    "    predLasso = lassoReg.predict(testK.iloc[:,1:-1])\n",
    "    mseLasso.append(np.mean((predLasso - testK.iloc[:,-1])**2))\n",
    "\n",
    "    #Ridge\n",
    "    ridgeReg = Ridge()\n",
    "    ridgeReg.fit(trainK.iloc[:,1:-1],trainK.iloc[:,-1])\n",
    "    predRidge = ridgeReg.predict(testK.iloc[:,1:-1])\n",
    "    mseRidge.append(np.mean((predRidge - testK.iloc[:,-1])**2))\n",
    "\n",
    "lm2 = np.mean(mseLM)\n",
    "las2 = np.mean(mseLasso)\n",
    "ridge2 = np.mean(mseRidge)\n",
    "\n",
    " \n",
    "\n",
    "print(\"Mean mse LM:\",np.mean(mseLM))\n",
    "print(\"Mean mse Lasso:\",np.mean(mseLasso))\n",
    "print(\"Mean mse Ridge:\",np.mean(mseRidge))\n",
    "print(\"Mean mse in temporal cv: \", np.mean([np.mean(mseLM),np.mean(mseLasso),np.mean(mseRidge)]))"
   ]
  },
  {
   "cell_type": "markdown",
   "metadata": {},
   "source": [
    "#### Generalizability-wise, we could see from the errors that temporal cross validation is better.\n",
    "##### Mean mse in temporal cv:  ```0.272355284```, we in spatial cv:  ```0.421725053```\n"
   ]
  },
  {
   "cell_type": "markdown",
   "metadata": {},
   "source": [
    "## Mean of each model error in the two cross validation types"
   ]
  },
  {
   "cell_type": "code",
   "execution_count": 15,
   "metadata": {},
   "outputs": [
    {
     "name": "stdout",
     "output_type": "stream",
     "text": [
      "lm: 0.363498776832\n",
      "lasso: 0.335543806837\n",
      "ridge: 0.342077923387\n"
     ]
    }
   ],
   "source": [
    "print(\"lm:\", np.mean([lmod,lm2]))\n",
    "print(\"lasso:\", np.mean([las,las2]))\n",
    "print(\"ridge:\", np.mean([ridge,ridge2]))"
   ]
  },
  {
   "cell_type": "markdown",
   "metadata": {},
   "source": [
    "## Lasso was the best performing model so we selected it to train on all the train set and test it on the validation set (not used till now)"
   ]
  },
  {
   "cell_type": "code",
   "execution_count": 16,
   "metadata": {},
   "outputs": [
    {
     "name": "stdout",
     "output_type": "stream",
     "text": [
      "mse:  0.1276571395421433\n",
      "R squared:  0.377740242962\n"
     ]
    }
   ],
   "source": [
    "from sklearn.linear_model import Lasso\n",
    "lassoReg = Lasso(0.2)\n",
    "lassoReg.fit(train.iloc[:,1:-1],train.iloc[:,-1])\n",
    "pred2 = lassoReg.predict(validation.iloc[:,1:-1])\n",
    "# calculating mse\n",
    "mse = np.mean((pred2 - validation.iloc[:,-1])**2)\n",
    "print(\"mse: \",mse)\n",
    "print(\"R squared: \",lassoReg.score(validation.iloc[:,1:-1],validation.iloc[:,-1]))"
   ]
  },
  {
   "cell_type": "markdown",
   "metadata": {},
   "source": [
    "## We let the Lasso linear model select the variables for us, giving them a null coefficients so making their predicting effect absent in the final model."
   ]
  },
  {
   "cell_type": "code",
   "execution_count": 29,
   "metadata": {},
   "outputs": [
    {
     "data": {
      "image/png": "[encoded data removed]",
      "text/plain": [
       "<matplotlib.figure.Figure at 0x117a51cf8>"
      ]
     },
     "metadata": {},
     "output_type": "display_data"
    },
    {
     "name": "stdout",
     "output_type": "stream",
     "text": [
      "[  0.00000000e+00   0.00000000e+00   8.19051460e-04   2.21984309e-03\n",
      "   0.00000000e+00   9.24327818e-03  -0.00000000e+00   0.00000000e+00\n",
      "   3.61949191e-04   0.00000000e+00   4.08071287e-03  -5.46431286e-04\n",
      "  -2.41347569e-03   0.00000000e+00  -2.93977942e-03   1.80271006e-03\n",
      "   0.00000000e+00   0.00000000e+00   7.51548637e-04  -2.43416186e-04\n",
      "   3.16904375e-03   1.68339671e-03   6.71993740e-04   6.89873041e-04\n",
      "   4.47538340e-03   0.00000000e+00   0.00000000e+00   0.00000000e+00\n",
      "  -0.00000000e+00   2.66145959e-03   1.15395863e-03   5.22679706e-04\n",
      "   3.44424234e-03   0.00000000e+00   0.00000000e+00   2.17755972e-04\n",
      "  -0.00000000e+00   1.92504455e-03   2.37822497e-03   1.73290390e-03\n",
      "  -6.61687352e-04  -0.00000000e+00   1.27426768e-03  -6.36961159e-04\n",
      "   2.13344610e-03   5.24114926e-03   1.28994039e-03   0.00000000e+00\n",
      "  -0.00000000e+00   2.47588551e-04  -1.04935933e-03   5.93940476e-04\n",
      "  -0.00000000e+00  -3.96912411e-05   1.04391739e-03   0.00000000e+00\n",
      "  -0.00000000e+00   5.43911251e-04   0.00000000e+00  -2.36679867e-03\n",
      "   1.15460540e-03   2.15427161e-03  -0.00000000e+00   0.00000000e+00\n",
      "   0.00000000e+00  -0.00000000e+00   0.00000000e+00  -0.00000000e+00\n",
      "   2.00485826e-04   0.00000000e+00   2.43767726e-04  -8.28078824e-04\n",
      "  -0.00000000e+00   1.29691374e-04   0.00000000e+00  -3.26399179e-04\n",
      "  -1.65994150e-03  -3.20668883e-04  -7.49925346e-03   0.00000000e+00\n",
      "  -0.00000000e+00  -0.00000000e+00   0.00000000e+00  -3.84823055e-04\n",
      "   0.00000000e+00  -3.22448552e-03  -0.00000000e+00   0.00000000e+00\n",
      "  -0.00000000e+00  -3.70939886e-03  -1.87812949e-03  -1.74545449e-03\n",
      "  -0.00000000e+00  -4.57152338e-04  -0.00000000e+00   0.00000000e+00\n",
      "  -9.83478710e-04  -0.00000000e+00  -0.00000000e+00  -5.31919881e-03\n",
      "   0.00000000e+00  -0.00000000e+00   0.00000000e+00  -0.00000000e+00\n",
      "  -1.01003699e-03  -1.09947527e-04   1.29576790e-04  -0.00000000e+00\n",
      "  -2.83811856e-03  -0.00000000e+00  -5.92129830e-03]\n"
     ]
    }
   ],
   "source": [
    "predictors = train.iloc[:,1:-1].columns\n",
    "coef = pd.Series(lassoReg.coef_,predictors).sort_values()\n",
    "plt.figure(figsize=(20,10))\n",
    "coef.plot(kind='bar', title='Lasso Coefficients per variable',grid=True)\n",
    "plt.show()\n",
    "print(lassoReg.coef_)\n"
   ]
  },
  {
   "cell_type": "markdown",
   "metadata": {},
   "source": [
    "## Added to our model census features at the US state level (income data)\n",
    "## Adding the income variable we notice from the mse values that the predicting performance of our lasso model got better.\n",
    "\n",
    "\n"
   ]
  },
  {
   "cell_type": "code",
   "execution_count": 18,
   "metadata": {},
   "outputs": [],
   "source": [
    "income= pd.read_csv(\"income.csv\", sep=\";\")\n",
    "_2011i = income.iloc[:,1]\n",
    "_2012i = income.iloc[:,2]\n",
    "_2013i = income.iloc[:,3]\n",
    "_2014i = income.iloc[:,4]\n",
    "_2015i = income.iloc[:,5]\n",
    "_2016i = income.iloc[:,6]\n",
    "income=pd.concat([_2011i,_2012i,_2013i,_2014i,_2015i,_2016i])"
   ]
  },
  {
   "cell_type": "code",
   "execution_count": 19,
   "metadata": {},
   "outputs": [],
   "source": [
    "train[\"income\"] = income.iloc[train.index].values\n",
    "validation[\"income\"] = income.iloc[validation.index].values"
   ]
  },
  {
   "cell_type": "code",
   "execution_count": 30,
   "metadata": {},
   "outputs": [
    {
     "name": "stdout",
     "output_type": "stream",
     "text": [
      "mse with income variable: 0.12794188960858524\n",
      "R squared:  0.376352239849\n"
     ]
    }
   ],
   "source": [
    "from sklearn.linear_model import Lasso\n",
    "train = train.apply(pd.to_numeric, errors='coerce')\n",
    "validation = validation.apply(pd.to_numeric, errors='coerce')\n",
    "train.fillna(0, inplace=True)\n",
    "validation.fillna(0, inplace=True)\n",
    "lassoReg = Lasso(alpha=0.2)\n",
    "lassoReg.fit(train.drop([\"Data_Value\"],axis=1),train.Data_Value)\n",
    "pred2 = lassoReg.predict(validation.drop([\"Data_Value\"],axis=1))\n",
    "# calculating mse\n",
    "\n",
    "mse = np.mean((pred2 - validation.Data_Value)**2)\n",
    "print(\"mse with income variable:\",mse)\n",
    "print(\"R squared: \",lassoReg.score(validation.drop([\"Data_Value\"],axis=1),validation.Data_Value))"
   ]
  },
  {
   "cell_type": "markdown",
   "metadata": {},
   "source": [
    "### As a result we get better results mse reduction adding the \"income\" variable."
   ]
  },
  {
   "cell_type": "markdown",
   "metadata": {},
   "source": [
    "## We also added a state Health Insurance coverage indicator, for all the years"
   ]
  },
  {
   "cell_type": "code",
   "execution_count": 21,
   "metadata": {},
   "outputs": [],
   "source": [
    "health = pd.read_csv(\"health.csv\",sep=(\";\"))"
   ]
  },
  {
   "cell_type": "code",
   "execution_count": 22,
   "metadata": {},
   "outputs": [],
   "source": [
    "_2011 = health.iloc[:,1]\n",
    "_2012 = health.iloc[:,2]\n",
    "_2013 = health.iloc[:,3]\n",
    "_2014 = health.iloc[:,4]\n",
    "_2015 = health.iloc[:,5]\n",
    "_2016 = health.iloc[:,6]"
   ]
  },
  {
   "cell_type": "code",
   "execution_count": 23,
   "metadata": {},
   "outputs": [],
   "source": [
    "health=pd.concat([_2011,_2012,_2013,_2014,_2015,_2016])"
   ]
  },
  {
   "cell_type": "code",
   "execution_count": 24,
   "metadata": {},
   "outputs": [],
   "source": [
    "train[\"health\"] = health.iloc[train.index].values\n",
    "validation[\"health\"] = health.iloc[validation.index].values"
   ]
  },
  {
   "cell_type": "code",
   "execution_count": 25,
   "metadata": {},
   "outputs": [
    {
     "name": "stdout",
     "output_type": "stream",
     "text": [
      "mse : 0.12794188960858524\n",
      "R squared:  0.376352239849\n"
     ]
    }
   ],
   "source": [
    "\n",
    "lassoReg1 = Lasso(alpha=0.2)\n",
    "lassoReg1.fit(train.drop([\"Data_Value\"],axis=1),train.Data_Value)\n",
    "pred3 = lassoReg1.predict(validation.drop([\"Data_Value\"],axis=1))\n",
    "# calculating mse\n",
    "\n",
    "mse = np.mean((pred3 - validation.Data_Value)**2)\n",
    "print(\"mse :\",mse)\n",
    "print(\"R squared: \",lassoReg1.score(validation.drop([\"Data_Value\"],axis=1),validation.Data_Value))"
   ]
  },
  {
   "cell_type": "markdown",
   "metadata": {},
   "source": [
    "## Strangely we got exact same results of the previous model, so we can see that the model excluded the \"health\" variable giving a null coefficient, estimating not usefull for an improvement."
   ]
  },
  {
   "cell_type": "code",
   "execution_count": 26,
   "metadata": {},
   "outputs": [
    {
     "name": "stdout",
     "output_type": "stream",
     "text": [
      "Coefficient of health variable: 0.0\n"
     ]
    }
   ],
   "source": [
    "print(\"Coefficient of health variable:\",lassoReg1.coef_[-1])"
   ]
  }
 ],
 "metadata": {
  "kernelspec": {
   "display_name": "Python 3",
   "language": "python",
   "name": "python3"
  },
  "language_info": {
   "codemirror_mode": {
    "name": "ipython",
    "version": 3
   },
   "file_extension": ".py",
   "mimetype": "text/x-python",
   "name": "python",
   "nbconvert_exporter": "python",
   "pygments_lexer": "ipython3",
   "version": "3.6.3"
  }
 },
 "nbformat": 4,
 "nbformat_minor": 2
}
