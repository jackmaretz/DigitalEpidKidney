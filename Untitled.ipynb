{
 "cells": [
  {
   "cell_type": "markdown",
   "metadata": {},
   "source": [
    "# es 2"
   ]
  },
  {
   "cell_type": "code",
   "execution_count": 1,
   "metadata": {},
   "outputs": [],
   "source": [
    "import pandas as pd\n",
    "import numpy as np\n",
    "import matplotlib.pyplot as plt"
   ]
  },
  {
   "cell_type": "code",
   "execution_count": 11,
   "metadata": {},
   "outputs": [],
   "source": [
    "df_gt = pd.read_csv(\"data/BRFSS/2011.csv\", sep=\";\")#2016 210\n",
    "df_gt = df_gt.append(pd.read_csv(\"data/BRFSS/2012.csv\", sep=\";\"))\n",
    "df_gt = df_gt.append(pd.read_csv(\"data/BRFSS/2013.csv\", sep=\";\"))\n",
    "df_gt = df_gt.append(pd.read_csv(\"data/BRFSS/2014.csv\", sep=\";\"))\n",
    "df_gt = df_gt.append(pd.read_csv(\"data/BRFSS/2015.csv\", sep=\";\"))\n",
    "df_gt = df_gt.append(pd.read_csv(\"data/BRFSS/2016.csv\", sep=\";\"))\n",
    "\n",
    "#df_gt = df_gt.append(pd.read_csv(\"data/BRFSS/2011_AA.csv\", sep=\";\"))\n",
    "#df_gt = df_gt.append(pd.read_csv(\"data/BRFSS/2012_AA.csv\", sep=\";\"))\n",
    "#df_gt = df_gt.append(pd.read_csv(\"data/BRFSS/2013_AA.csv\", sep=\";\"))\n",
    "#df_gt = df_gt.append(pd.read_csv(\"data/BRFSS/2014_AA.csv\", sep=\";\"))\n",
    "#df_gt = df_gt.append(pd.read_csv(\"data/BRFSS/2015_AA.csv\", sep=\";\"))\n",
    "#df_gt = df_gt.append(pd.read_csv(\"data/BRFSS/2016_AA.csv\", sep=\";\"))\n",
    "df_gt = df_gt[np.logical_not(pd.to_numeric(df_gt.LocationAbbr, errors='coerce').notnull())]\n",
    "df_gt = df_gt.dropna(subset=['LocationAbbr'])  \n",
    "# df_gt = y response variable"
   ]
  },
  {
   "cell_type": "code",
   "execution_count": null,
   "metadata": {},
   "outputs": [],
   "source": [
    "#df_gt.Data_Value #long 331"
   ]
  },
  {
   "cell_type": "markdown",
   "metadata": {},
   "source": [
    "# Retrieving kewords resuslts from google"
   ]
  },
  {
   "cell_type": "code",
   "execution_count": 14,
   "metadata": {},
   "outputs": [],
   "source": [
    "from pytrends.request import TrendReq\n",
    "pytrends = TrendReq(hl='en-US', tz=360)"
   ]
  },
  {
   "cell_type": "markdown",
   "metadata": {},
   "source": [
    "## for each kword i create a list of values"
   ]
  },
  {
   "cell_type": "code",
   "execution_count": 268,
   "metadata": {},
   "outputs": [
    {
     "name": "stdout",
     "output_type": "stream",
     "text": [
      "51\n",
      "[81, 68, 78, 85, 61, 65, 73, 71, 69, 71, 81, 77, 71, 70, 76, 71, 68, 90, 81, 78, 73, 67, 79, 72, 90, 76, 71, 74, 71, 71, 69, 82, 66, 82, 84, 81, 80, 69, 78, 69, 81, 81, 88, 70, 75, 73, 74, 71, 100, 70, 63, 85, 70, 80, 87, 63, 68, 73, 81, 72, 73, 81, 80, 73, 72, 78, 71, 72, 92, 84, 79, 74, 72, 77, 72, 89, 81, 73, 76, 68, 70, 70, 74, 65, 81, 72, 85, 76, 70, 77, 72, 85, 73, 89, 70, 73, 70, 70, 74, 100, 72, 69, 95, 77, 81, 92, 63, 70, 74, 88, 67, 75, 81, 86, 83, 71, 84, 75, 75, 96, 89, 81, 75, 72, 81, 78, 92, 82, 71, 76, 76, 77, 71, 78, 68, 82, 80, 86, 91, 52, 85, 73, 89, 75, 94, 74, 82, 74, 76, 76, 100, 78, 65, 92, 74, 82, 87, 62, 67, 71, 86, 67, 75, 77, 80, 75, 70, 79, 71, 69, 95, 84, 75, 75, 70, 78, 74, 90, 80, 71, 75, 71, 66, 69, 79, 67, 79, 80, 81, 85, 45, 78, 70, 85, 83, 92, 69, 73, 71, 58, 73, 100, 72, 76, 88, 66, 76, 80, 59, 64, 67, 77, 66, 69, 76, 73, 72, 66, 78, 71, 57, 89, 76, 73, 69, 63, 76, 68, 90, 77, 66, 66, 66, 65, 64, 76, 61, 72, 77, 78, 73, 51, 74, 62, 78, 75, 83, 66, 70, 69, 47, 68, 100, 69, 68, 83, 68, 75, 78, 56, 61, 67, 72, 60, 65, 76, 72, 72, 64, 74, 64, 64, 87, 73, 77, 65, 61, 74, 65, 84, 74, 68, 63, 62, 71, 65, 71, 61, 71, 70, 72, 76, 62, 74, 61, 78, 70, 82, 65, 70, 63, 67, 63, 100, 66, 63]\n"
     ]
    }
   ],
   "source": [
    "kw_list = ['kidney']\n",
    "year = [\"'2011-01-01 2011-12-31'\",\"'2012-01-01 2012-12-31'\",\"'2013-01-01 2013-12-31'\",\"'2014-01-01 2014-12-31'\",\"'2015-01-01 2015-12-31'\",\"'2016-01-01 2016-12-31'\"]\n",
    "k1 =[]\n",
    "pytrends.build_payload(kw_list, cat=0, timeframe='2011-01-01 2011-12-31', geo='US', gprop='')\n",
    "\n",
    "k1.extend(pytrends.interest_by_region().values)\n",
    "print(len(k1))\n",
    "\n",
    "\n",
    "pytrends.build_payload(kw_list, cat=0, timeframe='2012-01-01 2012-12-31', geo='US', gprop='')\n",
    "k1.extend(pytrends.interest_by_region().values)\n",
    "pytrends.build_payload(kw_list, cat=0, timeframe='2013-01-01 2013-12-31', geo='US', gprop='')\n",
    "k1.extend(pytrends.interest_by_region().values)\n",
    "pytrends.build_payload(kw_list, cat=0, timeframe='2014-01-01 2014-12-31', geo='US', gprop='')\n",
    "k1.extend(pytrends.interest_by_region().values)\n",
    "pytrends.build_payload(kw_list, cat=0, timeframe='2015-01-01 2015-12-31', geo='US', gprop='')\n",
    "k1.extend(pytrends.interest_by_region().values)\n",
    "pytrends.build_payload(kw_list, cat=0, timeframe='2016-01-01 2016-12-31', geo='US', gprop='')\n",
    "k1.extend(pytrends.interest_by_region().values)\n",
    "\n",
    "for i in range(len(k1)):\n",
    "    k1[i]=int(k1[i])\n",
    "print(k1)"
   ]
  },
  {
   "cell_type": "code",
   "execution_count": 226,
   "metadata": {},
   "outputs": [
    {
     "data": {
      "text/plain": [
       "['k', 'i', 'd', 'n', 'e', 'y']"
      ]
     },
     "execution_count": 226,
     "metadata": {},
     "output_type": "execute_result"
    }
   ],
   "source": []
  },
  {
   "cell_type": "code",
   "execution_count": 257,
   "metadata": {},
   "outputs": [],
   "source": [
    "kw_list = [\"kidney\",\"CKD\",\"Dysplasia\"]\n",
    "k = np.zeros(shape=(306,len(kw_list)))"
   ]
  },
  {
   "cell_type": "code",
   "execution_count": 258,
   "metadata": {},
   "outputs": [],
   "source": [
    "def buildDF(kword):\n",
    "    k1 =[]\n",
    "    print( \" calculating indexes for \" ,kword)\n",
    "    pytrends.build_payload(kword, cat=0, timeframe='2011-01-01 2011-12-31', geo='US', gprop='')\n",
    "    k1.extend(pytrends.interest_by_region().values)\n",
    "    pytrends.build_payload(kword, cat=0, timeframe='2012-01-01 2012-12-31', geo='US', gprop='')\n",
    "    k1.extend(pytrends.interest_by_region().values)\n",
    "    pytrends.build_payload(kword, cat=0, timeframe='2013-01-01 2013-12-31', geo='US', gprop='')\n",
    "    k1.extend(pytrends.interest_by_region().values)\n",
    "    pytrends.build_payload(kword, cat=0, timeframe='2014-01-01 2014-12-31', geo='US', gprop='')\n",
    "    k1.extend(pytrends.interest_by_region().values)\n",
    "    pytrends.build_payload(kword, cat=0, timeframe='2015-01-01 2015-12-31', geo='US', gprop='')\n",
    "    k1.extend(pytrends.interest_by_region().values)\n",
    "    pytrends.build_payload(kword, cat=0, timeframe='2016-01-01 2016-12-31', geo='US', gprop='')\n",
    "    k1.extend(pytrends.interest_by_region().values)\n",
    "    #print(k1)\n",
    "    for i in range(len(k1)):\n",
    "        k1[i]= int(k1[i][0])\n",
    "        #print(int(k[i][0]))\n",
    "    return k1"
   ]
  },
  {
   "cell_type": "code",
   "execution_count": 260,
   "metadata": {},
   "outputs": [
    {
     "name": "stdout",
     "output_type": "stream",
     "text": [
      "['kidney', 'CKD', 'Dysplasia']\n",
      " calculating indexes for  ['kidney']\n",
      " calculating indexes for  ['CKD']\n",
      " calculating indexes for  ['Dysplasia']\n"
     ]
    }
   ],
   "source": [
    "\n",
    "i=0\n",
    "for word in kw_list:\n",
    "    k[:,i] = buildDF([word])\n",
    "    i +=1\n",
    "    "
   ]
  },
  {
   "cell_type": "code",
   "execution_count": 264,
   "metadata": {},
   "outputs": [
    {
     "data": {
      "text/html": [
       "<div>\n",
       "<style>\n",
       "    .dataframe thead tr:only-child th {\n",
       "        text-align: right;\n",
       "    }\n",
       "\n",
       "    .dataframe thead th {\n",
       "        text-align: left;\n",
       "    }\n",
       "\n",
       "    .dataframe tbody tr th {\n",
       "        vertical-align: top;\n",
       "    }\n",
       "</style>\n",
       "<table border=\"1\" class=\"dataframe\">\n",
       "  <thead>\n",
       "    <tr style=\"text-align: right;\">\n",
       "      <th></th>\n",
       "      <th>kidney</th>\n",
       "      <th>CKD</th>\n",
       "      <th>Dysplasia</th>\n",
       "    </tr>\n",
       "  </thead>\n",
       "  <tbody>\n",
       "    <tr>\n",
       "      <th>0</th>\n",
       "      <td>83.0</td>\n",
       "      <td>58.0</td>\n",
       "      <td>79.0</td>\n",
       "    </tr>\n",
       "    <tr>\n",
       "      <th>1</th>\n",
       "      <td>71.0</td>\n",
       "      <td>67.0</td>\n",
       "      <td>83.0</td>\n",
       "    </tr>\n",
       "    <tr>\n",
       "      <th>2</th>\n",
       "      <td>78.0</td>\n",
       "      <td>57.0</td>\n",
       "      <td>67.0</td>\n",
       "    </tr>\n",
       "    <tr>\n",
       "      <th>3</th>\n",
       "      <td>80.0</td>\n",
       "      <td>74.0</td>\n",
       "      <td>80.0</td>\n",
       "    </tr>\n",
       "    <tr>\n",
       "      <th>4</th>\n",
       "      <td>62.0</td>\n",
       "      <td>48.0</td>\n",
       "      <td>50.0</td>\n",
       "    </tr>\n",
       "  </tbody>\n",
       "</table>\n",
       "</div>"
      ],
      "text/plain": [
       "   kidney   CKD  Dysplasia\n",
       "0    83.0  58.0       79.0\n",
       "1    71.0  67.0       83.0\n",
       "2    78.0  57.0       67.0\n",
       "3    80.0  74.0       80.0\n",
       "4    62.0  48.0       50.0"
      ]
     },
     "execution_count": 264,
     "metadata": {},
     "output_type": "execute_result"
    }
   ],
   "source": [
    "pd.DataFrame(data=k,columns=kw_list).head()"
   ]
  },
  {
   "cell_type": "code",
   "execution_count": null,
   "metadata": {},
   "outputs": [],
   "source": []
  }
 ],
 "metadata": {
  "kernelspec": {
   "display_name": "Python 3",
   "language": "python",
   "name": "python3"
  },
  "language_info": {
   "codemirror_mode": {
    "name": "ipython",
    "version": 3
   },
   "file_extension": ".py",
   "mimetype": "text/x-python",
   "name": "python",
   "nbconvert_exporter": "python",
   "pygments_lexer": "ipython3",
   "version": "3.6.3"
  }
 },
 "nbformat": 4,
 "nbformat_minor": 2
}
