{
 "cells": [
  {
   "cell_type": "markdown",
   "metadata": {},
   "source": [
    "##### 1.1a\n",
    "- Rescaling values required\n",
    "- I want to get a correlation value per state (crude)\n",
    "- I want to get a correlation value per state (age adjusted)"
   ]
  },
  {
   "cell_type": "markdown",
   "metadata": {},
   "source": [
    "##### 1.1b\n",
    "- I want to get a correlation per year of all the states.\n",
    "so: "
   ]
  },
  {
   "cell_type": "markdown",
   "metadata": {},
   "source": [
    "for states in states:\n",
    "    cor.append(cor(statesYear1,stateYear1))\n",
    "    "
   ]
  },
  {
   "cell_type": "code",
   "execution_count": 2,
   "metadata": {},
   "outputs": [],
   "source": [
    "import pandas as pd\n",
    "import numpy as np\n",
    "import matplotlib.pyplot as plt\n",
    "from scipy.stats.stats import pearsonr\n",
    "import warnings\n",
    "warnings.filterwarnings('ignore')"
   ]
  },
  {
   "cell_type": "code",
   "execution_count": 3,
   "metadata": {},
   "outputs": [],
   "source": [
    "states = {\n",
    "        'AK': 'Alaska',\n",
    "        'AL': 'Alabama',\n",
    "        'AR': 'Arkansas',\n",
    "        'AS': 'American Samoa',\n",
    "        'AZ': 'Arizona',\n",
    "        'CA': 'California',\n",
    "        'CO': 'Colorado',\n",
    "        'CT': 'Connecticut',\n",
    "        'DC': 'District of Columbia',\n",
    "        'DE': 'Delaware',\n",
    "        'FL': 'Florida',\n",
    "        'GA': 'Georgia',\n",
    "        'GU': 'Guam',\n",
    "        'HI': 'Hawaii',\n",
    "        'IA': 'Iowa',\n",
    "        'ID': 'Idaho',\n",
    "        'IL': 'Illinois',\n",
    "        'IN': 'Indiana',\n",
    "        'KS': 'Kansas',\n",
    "        'KY': 'Kentucky',\n",
    "        'LA': 'Louisiana',\n",
    "        'MA': 'Massachusetts',\n",
    "        'MD': 'Maryland',\n",
    "        'ME': 'Maine',\n",
    "        'MI': 'Michigan',\n",
    "        'MN': 'Minnesota',\n",
    "        'MO': 'Missouri',\n",
    "        'MP': 'Northern Mariana Islands',\n",
    "        'MS': 'Mississippi',\n",
    "        'MT': 'Montana',\n",
    "        'NA': 'National',\n",
    "        'NC': 'North Carolina',\n",
    "        'ND': 'North Dakota',\n",
    "        'NE': 'Nebraska',\n",
    "        'NH': 'New Hampshire',\n",
    "        'NJ': 'New Jersey',\n",
    "        'NM': 'New Mexico',\n",
    "        'NV': 'Nevada',\n",
    "        'NY': 'New York',\n",
    "        'OH': 'Ohio',\n",
    "        'OK': 'Oklahoma',\n",
    "        'OR': 'Oregon',\n",
    "        'PA': 'Pennsylvania',\n",
    "        'PR': 'Puerto Rico',\n",
    "        'RI': 'Rhode Island',\n",
    "        'SC': 'South Carolina',\n",
    "        'SD': 'South Dakota',\n",
    "        'TN': 'Tennessee',\n",
    "        'TX': 'Texas',\n",
    "        'UT': 'Utah',\n",
    "        'VA': 'Virginia',\n",
    "        'VI': 'Virgin Islands',\n",
    "        'VT': 'Vermont',\n",
    "        'WA': 'Washington',\n",
    "        'WI': 'Wisconsin',\n",
    "        'WV': 'West Virginia',\n",
    "        'WY': 'Wyoming'\n",
    "}"
   ]
  },
  {
   "cell_type": "code",
   "execution_count": 4,
   "metadata": {},
   "outputs": [],
   "source": [
    "from pytrends.request import TrendReq\n",
    "\n",
    "pytrends = TrendReq(hl='en-US', tz=360)"
   ]
  },
  {
   "cell_type": "code",
   "execution_count": 108,
   "metadata": {},
   "outputs": [
    {
     "name": "stdout",
     "output_type": "stream",
     "text": [
      "                      kidney\n",
      "geoName                     \n",
      "Alabama                   83\n",
      "Alaska                    77\n",
      "Arizona                   79\n",
      "Arkansas                  85\n",
      "California                62\n",
      "Colorado                  68\n",
      "Connecticut               71\n",
      "Delaware                  69\n",
      "District of Columbia      69\n",
      "Florida                   73\n",
      "Georgia                   81\n",
      "Hawaii                    77\n",
      "Idaho                     79\n",
      "Illinois                  72\n",
      "Indiana                   78\n",
      "Iowa                      75\n",
      "Kansas                    73\n",
      "Kentucky                  91\n",
      "Louisiana                 82\n",
      "Maine                     82\n",
      "Maryland                  73\n",
      "Massachusetts             70\n",
      "Michigan                  76\n",
      "Minnesota                 74\n",
      "Mississippi               90\n",
      "Missouri                  81\n",
      "Montana                   72\n",
      "Nebraska                  76\n",
      "Nevada                    69\n",
      "New Hampshire             75\n",
      "New Jersey                72\n",
      "New Mexico                80\n",
      "New York                  69\n",
      "North Carolina            82\n",
      "North Dakota              80\n",
      "Ohio                      82\n",
      "Oklahoma                  82\n",
      "Oregon                    72\n",
      "Pennsylvania              81\n",
      "Rhode Island              72\n",
      "South Carolina            83\n",
      "South Dakota              81\n",
      "Tennessee                 90\n",
      "Texas                     71\n",
      "Utah                      73\n",
      "Vermont                   75\n",
      "Virginia                  74\n",
      "Washington                73\n",
      "West Virginia            100\n",
      "Wisconsin                 76\n",
      "Wyoming                   66\n"
     ]
    },
    {
     "data": {
      "text/plain": [
       "-0.027712478273965148"
      ]
     },
     "execution_count": 108,
     "metadata": {},
     "output_type": "execute_result"
    }
   ],
   "source": [
    "def getCor(query,type_,year):\n",
    "    \n",
    "    if type_ == 'AAP':\n",
    "        if year == 2011:\n",
    "            year = '2011-01-01 2011-12-31'\n",
    "            gt_Year_Type = 'data/BRFSS/2011_AA.csv'\n",
    "        if year == 2012:\n",
    "            year = '2012-01-01 2012-12-31'\n",
    "            gt_Year_Type = 'data/BRFSS/2012_AA.csv'\n",
    "        if year == 2013:\n",
    "            year = '2013-01-01 2013-12-31'\n",
    "            gt_Year_Type = 'data/BRFSS/2013_AA.csv'\n",
    "        if year == 2014:\n",
    "            year = '2014-01-01 2014-12-31'\n",
    "            gt_Year_Type = 'data/BRFSS/2014_AA.csv'\n",
    "        if year == 2015:\n",
    "            year = '2015-01-01 2015-12-31'\n",
    "            gt_Year_Type = 'data/BRFSS/2015_AA.csv'\n",
    "        if year == 2016:\n",
    "            year = '2016-01-01 2016-12-31'\n",
    "            gt_Year_Type = 'data/BRFSS/2016_AA.csv'\n",
    "        \n",
    "    if type == 'CP':\n",
    "        if year == 2011:\n",
    "            year = '2011-01-01 2011-12-31'\n",
    "            gt_Year_Type = 'data/BRFSS/2011.csv'\n",
    "        if year == 2012:\n",
    "            year = '2012-01-01 2012-12-31'\n",
    "            gt_Year_Type = 'data/BRFSS/2012.csv'\n",
    "        if year == 2013:\n",
    "            year = '2013-01-01 2013-12-31'\n",
    "            gt_Year_Type = 'data/BRFSS/2013.csv'\n",
    "        if year == 2014:\n",
    "            year = '2014-01-01 2014-12-31'\n",
    "            gt_Year_Type = 'data/BRFSS/2014.csv'\n",
    "        if year == 2015:\n",
    "            year = '2015-01-01 2015-12-31'\n",
    "            gt_Year_Type = 'data/BRFSS/2015.csv'\n",
    "        if year == 2016:\n",
    "            year = '2016-01-01 2016-12-31'\n",
    "            gt_Year_Type = 'data/BRFSS/2016.csv'\n",
    "    \n",
    "    kw_list = query\n",
    "    #kw_list=['kidney']\n",
    "    pytrends.build_payload(kw_list, cat=0, timeframe=year, geo='US', gprop='')\n",
    "    googleTrend = pytrends.interest_by_region()\n",
    "    df_gt = pd.read_csv(gt_Year_Type, sep=\";\")\n",
    "    df_gt = df_gt[np.logical_not(pd.to_numeric(df_gt.LocationAbbr, errors='coerce').notnull())]\n",
    "    df_gt = df_gt.dropna(subset=['LocationAbbr']) \n",
    "#   googleTrend = outputQueryAPI (query,year)  # GABRIEL API\n",
    "    #googleTrend = pd.read_csv(query,sep=\",\")\n",
    "\n",
    "    print(googleTrend)\n",
    "    g = (googleTrend[1:])\n",
    "    g = g.convert_objects(convert_numeric=True)\n",
    "    g = g.sort_index()\n",
    "    google_values = [x[0] for x in g.values]\n",
    "    google_states = []\n",
    "    st = dict((y,x) for x, y in states.items())\n",
    "    index = list(g.index)\n",
    "    google_states = []\n",
    "    for state in st:\n",
    "        if state in index:\n",
    "            google_states.append(st[state])\n",
    "    d = {'idx': google_values, 'stat': google_states}\n",
    "    d = pd.DataFrame(data=d)\n",
    "    df2_gt = df_gt\n",
    "    df2_gt = df2_gt[df2_gt['LocationAbbr'].isin(google_states)]\n",
    "\n",
    "    # create a compact ground truth dataframe\n",
    "    df2_gt = pd.DataFrame(data=list(df2_gt.Data_Value), index=list(df2_gt.LocationAbbr), columns=['value'],\n",
    "                          dtype=np.float)\n",
    "\n",
    "    google_df = pd.DataFrame(data=google_values, index=google_states, columns=['value'], dtype=np.float)\n",
    "\n",
    "    # normalizing\n",
    "    df2_gt = (df2_gt - df2_gt.mean())/df2_gt.std()\n",
    "    google_df = (google_df - google_df.mean())/google_df.std()\n",
    "\n",
    "    # order\n",
    "    df2_gt = df2_gt.sort_index()\n",
    "    google_df = google_df.sort_index()\n",
    "    cor = pearsonr(df2_gt, google_df)[0][0]\n",
    "    \n",
    "    \n",
    "    \n",
    "    return cor\n",
    "\n",
    "\n",
    "\n",
    "\n",
    "#getCor(gt_Year_Type=\"data/BRFSS/2013_AA.csv\",query=\"data/GoogleTrends/2013_kidneyDysplasia.csv\",year = 1,type_= \"AA\")\n",
    "nQueries = 10\n",
    "nYears = 6\n",
    "corrMat = np.empty(shape=(nQueries*nYears,2))\n",
    "\n",
    "\n",
    "queries = [\"kidney\"]\n",
    "getCor(query = queries,year = 2011,type_= \"AAP\")\n",
    "\n"
   ]
  },
  {
   "cell_type": "code",
   "execution_count": null,
   "metadata": {},
   "outputs": [],
   "source": [
    "google"
   ]
  },
  {
   "cell_type": "markdown",
   "metadata": {},
   "source": [
    "# 2013"
   ]
  },
  {
   "cell_type": "code",
   "execution_count": 94,
   "metadata": {},
   "outputs": [
    {
     "data": {
      "text/html": [
       "<div>\n",
       "<style>\n",
       "    .dataframe thead tr:only-child th {\n",
       "        text-align: right;\n",
       "    }\n",
       "\n",
       "    .dataframe thead th {\n",
       "        text-align: left;\n",
       "    }\n",
       "\n",
       "    .dataframe tbody tr th {\n",
       "        vertical-align: top;\n",
       "    }\n",
       "</style>\n",
       "<table border=\"1\" class=\"dataframe\">\n",
       "  <thead>\n",
       "    <tr style=\"text-align: right;\">\n",
       "      <th></th>\n",
       "      <th>Correlation</th>\n",
       "      <th>QTerm</th>\n",
       "    </tr>\n",
       "  </thead>\n",
       "  <tbody>\n",
       "    <tr>\n",
       "      <th>0</th>\n",
       "      <td>-0.034218</td>\n",
       "      <td>kidney</td>\n",
       "    </tr>\n",
       "    <tr>\n",
       "      <th>1</th>\n",
       "      <td>-0.286456</td>\n",
       "      <td>stones</td>\n",
       "    </tr>\n",
       "    <tr>\n",
       "      <th>2</th>\n",
       "      <td>0.005289</td>\n",
       "      <td>CKD</td>\n",
       "    </tr>\n",
       "    <tr>\n",
       "      <th>3</th>\n",
       "      <td>-0.201803</td>\n",
       "      <td>dysplasia</td>\n",
       "    </tr>\n",
       "    <tr>\n",
       "      <th>4</th>\n",
       "      <td>-0.163754</td>\n",
       "      <td>renal</td>\n",
       "    </tr>\n",
       "    <tr>\n",
       "      <th>5</th>\n",
       "      <td>-0.399316</td>\n",
       "      <td>disease</td>\n",
       "    </tr>\n",
       "    <tr>\n",
       "      <th>6</th>\n",
       "      <td>-0.238580</td>\n",
       "      <td>sun</td>\n",
       "    </tr>\n",
       "  </tbody>\n",
       "</table>\n",
       "</div>"
      ],
      "text/plain": [
       "   Correlation      QTerm\n",
       "0    -0.034218     kidney\n",
       "1    -0.286456     stones\n",
       "2     0.005289        CKD\n",
       "3    -0.201803  dysplasia\n",
       "4    -0.163754      renal\n",
       "5    -0.399316    disease\n",
       "6    -0.238580        sun"
      ]
     },
     "execution_count": 94,
     "metadata": {},
     "output_type": "execute_result"
    }
   ],
   "source": [
    "queries = [\"kidney\", \"stones\", \"CKD\",\"dysplasia\",\"renal\",\"disease\"]\n",
    "cor2013AA = []\n",
    "for qTerm in queries:\n",
    "   # for i in range(corrMat.shape(0)):\n",
    "        #for j in range(corrMat.shape(1))\n",
    "    cor2013AA.append(getCor(gt_Year_Type=\"data/BRFSS/2013_AA.csv\",query=[qTerm],year = 2013,type_= \"AA\"))\n",
    "d = {'QTerm': queries, 'Correlation': cor2013AA}\n",
    "df = pd.DataFrame(data=d)\n",
    "#print(df.to_string(index=False))\n",
    "df"
   ]
  },
  {
   "cell_type": "code",
   "execution_count": 95,
   "metadata": {},
   "outputs": [
    {
     "data": {
      "text/html": [
       "<div>\n",
       "<style>\n",
       "    .dataframe thead tr:only-child th {\n",
       "        text-align: right;\n",
       "    }\n",
       "\n",
       "    .dataframe thead th {\n",
       "        text-align: left;\n",
       "    }\n",
       "\n",
       "    .dataframe tbody tr th {\n",
       "        vertical-align: top;\n",
       "    }\n",
       "</style>\n",
       "<table border=\"1\" class=\"dataframe\">\n",
       "  <thead>\n",
       "    <tr style=\"text-align: right;\">\n",
       "      <th></th>\n",
       "      <th>Correlation</th>\n",
       "      <th>QTerm</th>\n",
       "    </tr>\n",
       "  </thead>\n",
       "  <tbody>\n",
       "    <tr>\n",
       "      <th>0</th>\n",
       "      <td>-0.037481</td>\n",
       "      <td>kidney</td>\n",
       "    </tr>\n",
       "    <tr>\n",
       "      <th>1</th>\n",
       "      <td>-0.307183</td>\n",
       "      <td>stones</td>\n",
       "    </tr>\n",
       "    <tr>\n",
       "      <th>2</th>\n",
       "      <td>-0.010989</td>\n",
       "      <td>CKD</td>\n",
       "    </tr>\n",
       "    <tr>\n",
       "      <th>3</th>\n",
       "      <td>-0.157735</td>\n",
       "      <td>dysplasia</td>\n",
       "    </tr>\n",
       "    <tr>\n",
       "      <th>4</th>\n",
       "      <td>-0.083448</td>\n",
       "      <td>renal</td>\n",
       "    </tr>\n",
       "    <tr>\n",
       "      <th>5</th>\n",
       "      <td>-0.363261</td>\n",
       "      <td>disease</td>\n",
       "    </tr>\n",
       "    <tr>\n",
       "      <th>6</th>\n",
       "      <td>-0.207938</td>\n",
       "      <td>sun</td>\n",
       "    </tr>\n",
       "  </tbody>\n",
       "</table>\n",
       "</div>"
      ],
      "text/plain": [
       "   Correlation      QTerm\n",
       "0    -0.037481     kidney\n",
       "1    -0.307183     stones\n",
       "2    -0.010989        CKD\n",
       "3    -0.157735  dysplasia\n",
       "4    -0.083448      renal\n",
       "5    -0.363261    disease\n",
       "6    -0.207938        sun"
      ]
     },
     "execution_count": 95,
     "metadata": {},
     "output_type": "execute_result"
    }
   ],
   "source": [
    "queries = [\"kidney\", \"stones\", \"CKD\",\"dysplasia\",\"renal\",\"disease\"]\n",
    "cor2013 = []\n",
    "for qTerm in queries:\n",
    "   # for i in range(corrMat.shape(0)):\n",
    "        #for j in range(corrMat.shape(1))\n",
    "    cor2013.append(getCor(gt_Year_Type=\"data/BRFSS/2013.csv\",query=[qTerm],year = 2013,type_= \"AA\"))\n",
    "d = {'QTerm': queries, 'Correlation': cor2013}\n",
    "df = pd.DataFrame(data=d)\n",
    "#print(df.to_string(index=False))\n",
    "df"
   ]
  },
  {
   "cell_type": "markdown",
   "metadata": {},
   "source": [
    "# 2014"
   ]
  },
  {
   "cell_type": "code",
   "execution_count": 96,
   "metadata": {},
   "outputs": [
    {
     "data": {
      "text/html": [
       "<div>\n",
       "<style>\n",
       "    .dataframe thead tr:only-child th {\n",
       "        text-align: right;\n",
       "    }\n",
       "\n",
       "    .dataframe thead th {\n",
       "        text-align: left;\n",
       "    }\n",
       "\n",
       "    .dataframe tbody tr th {\n",
       "        vertical-align: top;\n",
       "    }\n",
       "</style>\n",
       "<table border=\"1\" class=\"dataframe\">\n",
       "  <thead>\n",
       "    <tr style=\"text-align: right;\">\n",
       "      <th></th>\n",
       "      <th>0</th>\n",
       "    </tr>\n",
       "  </thead>\n",
       "  <tbody>\n",
       "    <tr>\n",
       "      <th>kidney</th>\n",
       "      <td>-0.017386</td>\n",
       "    </tr>\n",
       "    <tr>\n",
       "      <th>stones</th>\n",
       "      <td>-0.129865</td>\n",
       "    </tr>\n",
       "    <tr>\n",
       "      <th>CKD</th>\n",
       "      <td>0.086528</td>\n",
       "    </tr>\n",
       "    <tr>\n",
       "      <th>dysplasia</th>\n",
       "      <td>-0.182973</td>\n",
       "    </tr>\n",
       "    <tr>\n",
       "      <th>renal</th>\n",
       "      <td>-0.024556</td>\n",
       "    </tr>\n",
       "    <tr>\n",
       "      <th>disease</th>\n",
       "      <td>-0.185109</td>\n",
       "    </tr>\n",
       "    <tr>\n",
       "      <th>sun</th>\n",
       "      <td>-0.062298</td>\n",
       "    </tr>\n",
       "  </tbody>\n",
       "</table>\n",
       "</div>"
      ],
      "text/plain": [
       "                  0\n",
       "kidney    -0.017386\n",
       "stones    -0.129865\n",
       "CKD        0.086528\n",
       "dysplasia -0.182973\n",
       "renal     -0.024556\n",
       "disease   -0.185109\n",
       "sun       -0.062298"
      ]
     },
     "execution_count": 96,
     "metadata": {},
     "output_type": "execute_result"
    }
   ],
   "source": [
    "queries = [\"kidney\", \"stones\", \"CKD\",\"dysplasia\",\"renal\",\"disease\"]\n",
    "cor2014 = []\n",
    "for qTerm in queries:\n",
    "   # for i in range(corrMat.shape(0)):\n",
    "        #for j in range(corrMat.shape(1))\n",
    "    cor2014.append(getCor(gt_Year_Type=\"data/BRFSS/2014.csv\",query=[qTerm],year = 2014,type_= \"AA\"))\n",
    "d = {'QTerm': queries, 'Correlation': cor2014}\n",
    "df = pd.DataFrame(data=d['Correlation'],index=queries)\n",
    "\n",
    "#print(df.to_string(index=False))\n",
    "df"
   ]
  },
  {
   "cell_type": "code",
   "execution_count": 71,
   "metadata": {},
   "outputs": [
    {
     "data": {
      "text/html": [
       "<div>\n",
       "<style>\n",
       "    .dataframe thead tr:only-child th {\n",
       "        text-align: right;\n",
       "    }\n",
       "\n",
       "    .dataframe thead th {\n",
       "        text-align: left;\n",
       "    }\n",
       "\n",
       "    .dataframe tbody tr th {\n",
       "        vertical-align: top;\n",
       "    }\n",
       "</style>\n",
       "<table border=\"1\" class=\"dataframe\">\n",
       "  <thead>\n",
       "    <tr style=\"text-align: right;\">\n",
       "      <th></th>\n",
       "      <th>0</th>\n",
       "    </tr>\n",
       "  </thead>\n",
       "  <tbody>\n",
       "    <tr>\n",
       "      <th>kidney</th>\n",
       "      <td>-0.059186</td>\n",
       "    </tr>\n",
       "    <tr>\n",
       "      <th>stones</th>\n",
       "      <td>-0.080727</td>\n",
       "    </tr>\n",
       "    <tr>\n",
       "      <th>CKD</th>\n",
       "      <td>0.085619</td>\n",
       "    </tr>\n",
       "    <tr>\n",
       "      <th>dysplasia</th>\n",
       "      <td>-0.212655</td>\n",
       "    </tr>\n",
       "    <tr>\n",
       "      <th>renal</th>\n",
       "      <td>-0.138870</td>\n",
       "    </tr>\n",
       "    <tr>\n",
       "      <th>disease</th>\n",
       "      <td>-0.268379</td>\n",
       "    </tr>\n",
       "  </tbody>\n",
       "</table>\n",
       "</div>"
      ],
      "text/plain": [
       "                  0\n",
       "kidney    -0.059186\n",
       "stones    -0.080727\n",
       "CKD        0.085619\n",
       "dysplasia -0.212655\n",
       "renal     -0.138870\n",
       "disease   -0.268379"
      ]
     },
     "execution_count": 71,
     "metadata": {},
     "output_type": "execute_result"
    }
   ],
   "source": [
    "queries = [\"kidney\", \"stones\", \"CKD\",\"dysplasia\",\"renal\",\"disease\"]\n",
    "cor2014AA = []\n",
    "for qTerm in queries:\n",
    "   # for i in range(corrMat.shape(0)):\n",
    "        #for j in range(corrMat.shape(1))\n",
    "    cor2014AA.append(getCor(gt_Year_Type=\"data/BRFSS/2014_AA.csv\",query=[qTerm],year = 2014,type_= \"AA\"))\n",
    "d = {'QTerm': queries, 'Correlation': cor2014AA}\n",
    "df = pd.DataFrame(data=d['Correlation'],index=queries)\n",
    "#print(df.to_string(index=False))\n",
    "df"
   ]
  },
  {
   "cell_type": "code",
   "execution_count": 98,
   "metadata": {},
   "outputs": [
    {
     "data": {
      "image/png": "[encoded data removed]",
      "text/plain": [
       "<matplotlib.figure.Figure at 0x1a124fec50>"
      ]
     },
     "metadata": {},
     "output_type": "display_data"
    }
   ],
   "source": [
    "plt.figure(figsize=(13,7))\n",
    "plt.plot(cor2013AA, label =\"Age Adjusted prevalence 13\")\n",
    "plt.plot(cor2013, label = \"Crude prevalence 13\")\n",
    "plt.plot(cor2014AA, label =\"Age Adjusted prevalence 14\")\n",
    "plt.plot(cor2014, label = \"Crude prevalence 14\")\n",
    "plt.legend(fontsize=\"small\")\n",
    "plt.xlabel(\"query term\")\n",
    "plt.ylabel(\"Cor value \")\n",
    "plt.title(\"Correlation\")\n",
    "plt.grid()\n",
    "#plt.xticks(queries)\n",
    "\n",
    "plt.show()"
   ]
  },
  {
   "cell_type": "code",
   "execution_count": 91,
   "metadata": {},
   "outputs": [
    {
     "data": {
      "text/plain": [
       "[-0.034778776713537927,\n",
       " -0.31905788971195209,\n",
       " 0.019878731537653023,\n",
       " -0.20046605879422852,\n",
       " -0.076879881386819546,\n",
       " -0.36495013506534713]"
      ]
     },
     "execution_count": 91,
     "metadata": {},
     "output_type": "execute_result"
    }
   ],
   "source": [
    "cor2013"
   ]
  },
  {
   "cell_type": "code",
   "execution_count": 52,
   "metadata": {},
   "outputs": [
    {
     "data": {
      "text/plain": [
       "60"
      ]
     },
     "execution_count": 52,
     "metadata": {},
     "output_type": "execute_result"
    }
   ],
   "source": [
    "corrMat.shape[0]"
   ]
  },
  {
   "cell_type": "code",
   "execution_count": null,
   "metadata": {},
   "outputs": [],
   "source": [
    "corrMat[0,0] = getCor(gt_Year_Type=\"data/BRFSS/2013_AA.csv\",query=\"data/GoogleTrends/2013_kidneyDysplasia.csv\",year = 1,type_= \"AA\")\n",
    "\n",
    "corrMat"
   ]
  },
  {
   "cell_type": "markdown",
   "metadata": {},
   "source": [
    "### Ground Truth data treatment"
   ]
  },
  {
   "cell_type": "code",
   "execution_count": 24,
   "metadata": {},
   "outputs": [],
   "source": [
    "df_gt = pd.read_csv(\"data/BRFSS/2013_AA.csv\", sep=\";\")#2016 210\n",
    "df_gt = df_gt[np.logical_not(pd.to_numeric(df_gt.LocationAbbr, errors='coerce').notnull())]\n",
    "df_gt = df_gt.dropna(subset=['LocationAbbr'])   #Drop only if NaN in specific column (as asked in the question)"
   ]
  },
  {
   "cell_type": "markdown",
   "metadata": {},
   "source": [
    "### Google data treatment"
   ]
  },
  {
   "cell_type": "code",
   "execution_count": 25,
   "metadata": {},
   "outputs": [
    {
     "name": "stdout",
     "output_type": "stream",
     "text": [
      "                      Category: Health\n",
      "Alabama                            100\n",
      "Arizona                             12\n",
      "California                          13\n",
      "Colorado                            17\n",
      "Connecticut                         19\n",
      "District of Columbia                37\n",
      "Florida                             11\n",
      "Georgia                             13\n",
      "Illinois                            18\n",
      "Indiana                             36\n",
      "Kentucky                            43\n",
      "Louisiana                           20\n",
      "Maryland                            34\n",
      "Massachusetts                       34\n",
      "Michigan                            29\n",
      "Minnesota                           11\n",
      "Missouri                            27\n",
      "New Jersey                          19\n",
      "New York                            13\n",
      "North Carolina                      17\n",
      "Ohio                                13\n",
      "Oklahoma                            23\n",
      "Oregon                              16\n",
      "Pennsylvania                        20\n",
      "South Carolina                      31\n",
      "Tennessee                           13\n",
      "Texas                               18\n",
      "Virginia                            30\n",
      "Washington                          28\n",
      "Wisconsin                           20\n"
     ]
    },
    {
     "name": "stderr",
     "output_type": "stream",
     "text": [
      "/Users/giacomomaretto/anaconda3/lib/python3.6/site-packages/ipykernel_launcher.py:3: FutureWarning: convert_objects is deprecated.  Use the data-type specific converters pd.to_datetime, pd.to_timedelta and pd.to_numeric.\n",
      "  This is separate from the ipykernel package so we can avoid doing imports until\n"
     ]
    }
   ],
   "source": [
    "gk2011 = pd.read_csv(\"data/GoogleTrends/2013_kidneyDysplasia.csv\",sep=\",\")\n",
    "g = (gk2011[1:])\n",
    "g = g.convert_objects(convert_numeric=True)\n",
    "g = g.sort_index()\n",
    "#g= dict(keys=list(g.index),values = g.values)\n",
    "print((g))\n",
    "google_values = [x[0] for x in g.values]"
   ]
  },
  {
   "cell_type": "code",
   "execution_count": 26,
   "metadata": {},
   "outputs": [
    {
     "data": {
      "text/plain": [
       "['Alabama',\n",
       " 'Arizona',\n",
       " 'California',\n",
       " 'Colorado',\n",
       " 'Connecticut',\n",
       " 'District of Columbia',\n",
       " 'Florida',\n",
       " 'Georgia',\n",
       " 'Illinois',\n",
       " 'Indiana',\n",
       " 'Kentucky',\n",
       " 'Louisiana',\n",
       " 'Maryland',\n",
       " 'Massachusetts',\n",
       " 'Michigan',\n",
       " 'Minnesota',\n",
       " 'Missouri',\n",
       " 'New Jersey',\n",
       " 'New York',\n",
       " 'North Carolina',\n",
       " 'Ohio',\n",
       " 'Oklahoma',\n",
       " 'Oregon',\n",
       " 'Pennsylvania',\n",
       " 'South Carolina',\n",
       " 'Tennessee',\n",
       " 'Texas',\n",
       " 'Virginia',\n",
       " 'Washington',\n",
       " 'Wisconsin']"
      ]
     },
     "execution_count": 26,
     "metadata": {},
     "output_type": "execute_result"
    }
   ],
   "source": [
    "list(g.index)"
   ]
  },
  {
   "cell_type": "code",
   "execution_count": null,
   "metadata": {},
   "outputs": [],
   "source": []
  },
  {
   "cell_type": "code",
   "execution_count": 27,
   "metadata": {},
   "outputs": [],
   "source": [
    "states = {\n",
    "        'AK': 'Alaska',\n",
    "        'AL': 'Alabama',\n",
    "        'AR': 'Arkansas',\n",
    "        'AS': 'American Samoa',\n",
    "        'AZ': 'Arizona',\n",
    "        'CA': 'California',\n",
    "        'CO': 'Colorado',\n",
    "        'CT': 'Connecticut',\n",
    "        'DC': 'District of Columbia',\n",
    "        'DE': 'Delaware',\n",
    "        'FL': 'Florida',\n",
    "        'GA': 'Georgia',\n",
    "        'GU': 'Guam',\n",
    "        'HI': 'Hawaii',\n",
    "        'IA': 'Iowa',\n",
    "        'ID': 'Idaho',\n",
    "        'IL': 'Illinois',\n",
    "        'IN': 'Indiana',\n",
    "        'KS': 'Kansas',\n",
    "        'KY': 'Kentucky',\n",
    "        'LA': 'Louisiana',\n",
    "        'MA': 'Massachusetts',\n",
    "        'MD': 'Maryland',\n",
    "        'ME': 'Maine',\n",
    "        'MI': 'Michigan',\n",
    "        'MN': 'Minnesota',\n",
    "        'MO': 'Missouri',\n",
    "        'MP': 'Northern Mariana Islands',\n",
    "        'MS': 'Mississippi',\n",
    "        'MT': 'Montana',\n",
    "        'NA': 'National',\n",
    "        'NC': 'North Carolina',\n",
    "        'ND': 'North Dakota',\n",
    "        'NE': 'Nebraska',\n",
    "        'NH': 'New Hampshire',\n",
    "        'NJ': 'New Jersey',\n",
    "        'NM': 'New Mexico',\n",
    "        'NV': 'Nevada',\n",
    "        'NY': 'New York',\n",
    "        'OH': 'Ohio',\n",
    "        'OK': 'Oklahoma',\n",
    "        'OR': 'Oregon',\n",
    "        'PA': 'Pennsylvania',\n",
    "        'PR': 'Puerto Rico',\n",
    "        'RI': 'Rhode Island',\n",
    "        'SC': 'South Carolina',\n",
    "        'SD': 'South Dakota',\n",
    "        'TN': 'Tennessee',\n",
    "        'TX': 'Texas',\n",
    "        'UT': 'Utah',\n",
    "        'VA': 'Virginia',\n",
    "        'VI': 'Virgin Islands',\n",
    "        'VT': 'Vermont',\n",
    "        'WA': 'Washington',\n",
    "        'WI': 'Wisconsin',\n",
    "        'WV': 'West Virginia',\n",
    "        'WY': 'Wyoming'\n",
    "}\n",
    "\n"
   ]
  },
  {
   "cell_type": "code",
   "execution_count": 28,
   "metadata": {},
   "outputs": [],
   "source": [
    "google_states = []\n",
    "st = dict((y,x) for x, y in states.items())\n",
    "index = list(g.index)\n",
    "google_states = []\n",
    "for state in st:\n",
    "    if state in index:\n",
    "        google_states.append(st[state])\n",
    "#print(len(google_states), len(google_values))\n",
    "#len(set(google_values).difference(set(google_states)))\n",
    "\n"
   ]
  },
  {
   "cell_type": "code",
   "execution_count": 29,
   "metadata": {},
   "outputs": [],
   "source": [
    "d = {'idx': google_values, 'stat': google_states}\n",
    "d = pd.DataFrame(data=d)\n",
    "#dpd.DataFrame(data = df, columns= ['idx','stat'])"
   ]
  },
  {
   "cell_type": "code",
   "execution_count": 30,
   "metadata": {},
   "outputs": [],
   "source": [
    "# select the same states on the GT and the Google data (standardize)\n",
    "df2_gt = df_gt\n",
    "df2_gt = df2_gt[df2_gt['LocationAbbr'].isin(google_states)]\n",
    "\n",
    "# create a compact ground truth dataframe\n",
    "df2_gt = pd.DataFrame(data=list(df2_gt.Data_Value), index=list(df2_gt.LocationAbbr), columns=['value'],\n",
    "                      dtype=np.float)\n",
    "\n",
    "google_df = pd.DataFrame(data=google_values, index=google_states, columns=['value'], dtype=np.float)\n",
    "\n",
    "# normalizing\n",
    "df2_gt = (df2_gt - df2_gt.mean())/df2_gt.std()\n",
    "google_df = (google_df - google_df.mean())/google_df.std()\n",
    "\n",
    "# order\n",
    "df2_gt = df2_gt.sort_index()\n",
    "google_df = google_df.sort_index()\n",
    "\n"
   ]
  },
  {
   "cell_type": "code",
   "execution_count": 31,
   "metadata": {},
   "outputs": [],
   "source": [
    "from pydoc import help\n",
    "from scipy.stats.stats import pearsonr\n",
    "#help(pearsonr)\n",
    "cor11 = pearsonr(df2_gt, google_df)[0][0]\n"
   ]
  },
  {
   "cell_type": "code",
   "execution_count": 32,
   "metadata": {},
   "outputs": [
    {
     "data": {
      "text/plain": [
       "0.07684409318748793"
      ]
     },
     "execution_count": 32,
     "metadata": {},
     "output_type": "execute_result"
    }
   ],
   "source": [
    "cor11"
   ]
  },
  {
   "cell_type": "code",
   "execution_count": null,
   "metadata": {},
   "outputs": [],
   "source": []
  }
 ],
 "metadata": {
  "kernelspec": {
   "display_name": "Python 3",
   "language": "python",
   "name": "python3"
  },
  "language_info": {
   "codemirror_mode": {
    "name": "ipython",
    "version": 3
   },
   "file_extension": ".py",
   "mimetype": "text/x-python",
   "name": "python",
   "nbconvert_exporter": "python",
   "pygments_lexer": "ipython3",
   "version": "3.6.3"
  }
 },
 "nbformat": 4,
 "nbformat_minor": 2
}
