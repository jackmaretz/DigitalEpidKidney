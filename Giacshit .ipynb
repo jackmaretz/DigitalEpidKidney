{
 "cells": [
  {
   "cell_type": "code",
   "execution_count": 15,
   "metadata": {},
   "outputs": [],
   "source": [
    "import pandas as pd\n",
    "import numpy as np\n",
    "from sklearn.model_selection import train_test_split\n",
    "from sklearn import linear_model\n",
    "import matplotlib.pyplot as plt\n",
    "from sklearn.linear_model import Lasso,Ridge\n",
    "import random\n",
    "random.seed(123)"
   ]
  },
  {
   "cell_type": "code",
   "execution_count": 16,
   "metadata": {},
   "outputs": [
    {
     "data": {
      "text/html": [
       "<div>\n",
       "<style>\n",
       "    .dataframe thead tr:only-child th {\n",
       "        text-align: right;\n",
       "    }\n",
       "\n",
       "    .dataframe thead th {\n",
       "        text-align: left;\n",
       "    }\n",
       "\n",
       "    .dataframe tbody tr th {\n",
       "        vertical-align: top;\n",
       "    }\n",
       "</style>\n",
       "<table border=\"1\" class=\"dataframe\">\n",
       "  <thead>\n",
       "    <tr style=\"text-align: right;\">\n",
       "      <th></th>\n",
       "      <th>State</th>\n",
       "      <th>Year</th>\n",
       "      <th>nephroptosis</th>\n",
       "      <th>necrobiosis lipoidica</th>\n",
       "      <th>renal insufficiency</th>\n",
       "      <th>high blood pressure</th>\n",
       "      <th>iron overload</th>\n",
       "      <th>pyelitis</th>\n",
       "      <th>pulmonary emphysema</th>\n",
       "      <th>gout</th>\n",
       "      <th>...</th>\n",
       "      <th>sepsis</th>\n",
       "      <th>pemphigus</th>\n",
       "      <th>erythropoietin</th>\n",
       "      <th>diabetes mellitus</th>\n",
       "      <th>Kawasaki Disease</th>\n",
       "      <th>chronic renal failure</th>\n",
       "      <th>rheumatic fever</th>\n",
       "      <th>ballottement</th>\n",
       "      <th>rheumatism</th>\n",
       "      <th>Data_Value</th>\n",
       "    </tr>\n",
       "  </thead>\n",
       "  <tbody>\n",
       "    <tr>\n",
       "      <th>0</th>\n",
       "      <td>Alabama</td>\n",
       "      <td>2011</td>\n",
       "      <td>0</td>\n",
       "      <td>0</td>\n",
       "      <td>0</td>\n",
       "      <td>79</td>\n",
       "      <td>0</td>\n",
       "      <td>0</td>\n",
       "      <td>0</td>\n",
       "      <td>76</td>\n",
       "      <td>...</td>\n",
       "      <td>85</td>\n",
       "      <td>41</td>\n",
       "      <td>72</td>\n",
       "      <td>63</td>\n",
       "      <td>66</td>\n",
       "      <td>0</td>\n",
       "      <td>47</td>\n",
       "      <td>0</td>\n",
       "      <td>58</td>\n",
       "      <td>2.5</td>\n",
       "    </tr>\n",
       "    <tr>\n",
       "      <th>1</th>\n",
       "      <td>Alaska</td>\n",
       "      <td>2011</td>\n",
       "      <td>0</td>\n",
       "      <td>0</td>\n",
       "      <td>0</td>\n",
       "      <td>68</td>\n",
       "      <td>0</td>\n",
       "      <td>0</td>\n",
       "      <td>0</td>\n",
       "      <td>81</td>\n",
       "      <td>...</td>\n",
       "      <td>57</td>\n",
       "      <td>0</td>\n",
       "      <td>0</td>\n",
       "      <td>30</td>\n",
       "      <td>54</td>\n",
       "      <td>0</td>\n",
       "      <td>0</td>\n",
       "      <td>0</td>\n",
       "      <td>0</td>\n",
       "      <td>2.5</td>\n",
       "    </tr>\n",
       "    <tr>\n",
       "      <th>2</th>\n",
       "      <td>Arizona</td>\n",
       "      <td>2011</td>\n",
       "      <td>100</td>\n",
       "      <td>0</td>\n",
       "      <td>0</td>\n",
       "      <td>67</td>\n",
       "      <td>0</td>\n",
       "      <td>0</td>\n",
       "      <td>0</td>\n",
       "      <td>78</td>\n",
       "      <td>...</td>\n",
       "      <td>68</td>\n",
       "      <td>41</td>\n",
       "      <td>41</td>\n",
       "      <td>74</td>\n",
       "      <td>52</td>\n",
       "      <td>35</td>\n",
       "      <td>38</td>\n",
       "      <td>0</td>\n",
       "      <td>43</td>\n",
       "      <td>3.4</td>\n",
       "    </tr>\n",
       "    <tr>\n",
       "      <th>3</th>\n",
       "      <td>Arkansas</td>\n",
       "      <td>2011</td>\n",
       "      <td>0</td>\n",
       "      <td>0</td>\n",
       "      <td>0</td>\n",
       "      <td>89</td>\n",
       "      <td>0</td>\n",
       "      <td>0</td>\n",
       "      <td>0</td>\n",
       "      <td>83</td>\n",
       "      <td>...</td>\n",
       "      <td>79</td>\n",
       "      <td>42</td>\n",
       "      <td>45</td>\n",
       "      <td>63</td>\n",
       "      <td>57</td>\n",
       "      <td>0</td>\n",
       "      <td>62</td>\n",
       "      <td>0</td>\n",
       "      <td>41</td>\n",
       "      <td>2.8</td>\n",
       "    </tr>\n",
       "    <tr>\n",
       "      <th>4</th>\n",
       "      <td>California</td>\n",
       "      <td>2011</td>\n",
       "      <td>14</td>\n",
       "      <td>22</td>\n",
       "      <td>55</td>\n",
       "      <td>57</td>\n",
       "      <td>68</td>\n",
       "      <td>84</td>\n",
       "      <td>70</td>\n",
       "      <td>66</td>\n",
       "      <td>...</td>\n",
       "      <td>58</td>\n",
       "      <td>37</td>\n",
       "      <td>43</td>\n",
       "      <td>52</td>\n",
       "      <td>48</td>\n",
       "      <td>34</td>\n",
       "      <td>29</td>\n",
       "      <td>51</td>\n",
       "      <td>50</td>\n",
       "      <td>2.5</td>\n",
       "    </tr>\n",
       "  </tbody>\n",
       "</table>\n",
       "<p>5 rows × 111 columns</p>\n",
       "</div>"
      ],
      "text/plain": [
       "        State  Year  nephroptosis  necrobiosis lipoidica  renal insufficiency  \\\n",
       "0     Alabama  2011             0                      0                    0   \n",
       "1      Alaska  2011             0                      0                    0   \n",
       "2     Arizona  2011           100                      0                    0   \n",
       "3    Arkansas  2011             0                      0                    0   \n",
       "4  California  2011            14                     22                   55   \n",
       "\n",
       "   high blood pressure  iron overload  pyelitis  pulmonary emphysema  gout  \\\n",
       "0                   79              0         0                    0    76   \n",
       "1                   68              0         0                    0    81   \n",
       "2                   67              0         0                    0    78   \n",
       "3                   89              0         0                    0    83   \n",
       "4                   57             68        84                   70    66   \n",
       "\n",
       "      ...      sepsis  pemphigus  erythropoietin  diabetes mellitus  \\\n",
       "0     ...          85         41              72                 63   \n",
       "1     ...          57          0               0                 30   \n",
       "2     ...          68         41              41                 74   \n",
       "3     ...          79         42              45                 63   \n",
       "4     ...          58         37              43                 52   \n",
       "\n",
       "   Kawasaki Disease  chronic renal failure  rheumatic fever  ballottement  \\\n",
       "0                66                      0               47             0   \n",
       "1                54                      0                0             0   \n",
       "2                52                     35               38             0   \n",
       "3                57                      0               62             0   \n",
       "4                48                     34               29            51   \n",
       "\n",
       "   rheumatism  Data_Value  \n",
       "0          58         2.5  \n",
       "1           0         2.5  \n",
       "2          43         3.4  \n",
       "3          41         2.8  \n",
       "4          50         2.5  \n",
       "\n",
       "[5 rows x 111 columns]"
      ]
     },
     "execution_count": 16,
     "metadata": {},
     "output_type": "execute_result"
    }
   ],
   "source": [
    "df = pd.read_csv(\"data/output/output_complete.csv\",sep=\";\") # loading dataframe build in previous steps.\n",
    "df.head()"
   ]
  },
  {
   "cell_type": "code",
   "execution_count": 17,
   "metadata": {},
   "outputs": [],
   "source": [
    "dfY=df.iloc[:,1:]\n",
    "dfS=df.drop([\"Year\"],axis=1)\n",
    "#train, validation = train_test_split(dfS, test_size=0.2)\n",
    "\n",
    "train, validation = train_test_split(df, test_size=0.2)"
   ]
  },
  {
   "cell_type": "markdown",
   "metadata": {},
   "source": [
    "### In the following steps we selected three linear regression models : a simple linear model, Ridge and Lasso.\n",
    "### For each model we computed the mean squared error."
   ]
  },
  {
   "cell_type": "markdown",
   "metadata": {},
   "source": [
    "# Spatial Cross validation\n",
    "In order to make spatial cross validation we used a sort of Leave-one(state)-out cross validation technique, for each state infact, we splitted the dataframe in train and test set and fitted the models and get a mean."
   ]
  },
  {
   "cell_type": "code",
   "execution_count": 18,
   "metadata": {},
   "outputs": [],
   "source": [
    "\n",
    "df_gt = pd.read_csv('data/BRFSS/2011_AA.csv', sep=\";\")\n",
    "states = df_gt[\"LocationDesc\"][0:51]\n"
   ]
  },
  {
   "cell_type": "code",
   "execution_count": 19,
   "metadata": {},
   "outputs": [
    {
     "name": "stdout",
     "output_type": "stream",
     "text": [
      "Mean mse LM: 0.426737028449\n",
      "Mean mse Lasso: 0.465323324995\n",
      "Mean mse Ridge: 0.413382207118\n",
      "Mean mse in spatial cv:  0.435147520187\n"
     ]
    }
   ],
   "source": [
    "\n",
    "\n",
    "mseLM = []\n",
    "mseLasso = []\n",
    "mseRidge = []\n",
    "# LOO CrossValidation\n",
    "\n",
    "trainS=train.drop([\"Year\"],axis=1)\n",
    "\n",
    "\n",
    "for state in states:\n",
    "    trainK = trainS.loc[train[\"State\"] == state]\n",
    "    testK = trainS.drop(trainK.index)\n",
    "\n",
    "\n",
    "\n",
    "    #LM\n",
    "    lm = linear_model.LinearRegression()\n",
    "    model = lm.fit(trainK.iloc[:,1:-1],trainK.iloc[:,-1])\n",
    "    predictions = lm.predict(testK.iloc[:,1:-1])\n",
    "    mseLM.append(np.mean((predictions - testK.iloc[:,-1])**2))\n",
    "\n",
    "    #Lasso\n",
    "    trainKnum = trainK.apply(pd.to_numeric, errors='coerce')\n",
    "    testKnum = testK.apply(pd.to_numeric, errors='coerce')\n",
    "    trainKnum.fillna(0, inplace=True)\n",
    "    testKnum.fillna(0, inplace=True)\n",
    "    \n",
    "    lassoReg = Lasso()\n",
    "    lassoReg.fit(trainK.iloc[:,1:-1],trainK.iloc[:,-1])\n",
    "    predLasso = lassoReg.predict(testK.iloc[:,1:-1])\n",
    "    mseLasso.append(np.mean((predLasso - testK.iloc[:,-1])**2))\n",
    "\n",
    "    #Ridge\n",
    "    ridgeReg = Ridge()\n",
    "    ridgeReg.fit(trainK.iloc[:,1:-1],trainK.iloc[:,-1])\n",
    "    predRidge = ridgeReg.predict(testK.iloc[:,1:-1])\n",
    "    mseRidge.append(np.mean((predRidge - testK.iloc[:,-1])**2))\n",
    "\n",
    "lmod = np.mean(mseLM)\n",
    "las = np.mean(mseLasso)\n",
    "ridge = np.mean(mseRidge)\n",
    "\n",
    "\n",
    "print(\"Mean mse LM:\",np.mean(mseLM))\n",
    "print(\"Mean mse Lasso:\",np.mean(mseLasso))\n",
    "print(\"Mean mse Ridge:\",np.mean(mseRidge))\n",
    "print(\"Mean mse in spatial cv: \", np.mean([np.mean(mseLM),np.mean(mseLasso),np.mean(mseRidge)]))"
   ]
  },
  {
   "cell_type": "code",
   "execution_count": null,
   "metadata": {},
   "outputs": [],
   "source": []
  },
  {
   "cell_type": "markdown",
   "metadata": {},
   "source": [
    "# Temporal cross validation\n",
    "In order to make a temporal cross validation, we divided in folds the dataset , one for each year and divided in train test set according to this division, computed the models in each fold and get a mean of the error."
   ]
  },
  {
   "cell_type": "code",
   "execution_count": null,
   "metadata": {},
   "outputs": [],
   "source": []
  },
  {
   "cell_type": "code",
   "execution_count": 20,
   "metadata": {},
   "outputs": [
    {
     "name": "stdout",
     "output_type": "stream",
     "text": [
      "Mean mse LM: 0.28391834401\n",
      "Mean mse Lasso: 0.226671007895\n",
      "Mean mse Ridge: 0.284155176499\n",
      "Mean mse in temporal cv:  0.264914842801\n"
     ]
    }
   ],
   "source": [
    "mseLM = []\n",
    "mseLasso = []\n",
    "mseRidge = []\n",
    "trainY=train.drop([\"State\"],axis=1)\n",
    "\n",
    "\n",
    "for year in [2011,2012,2013,2014,2015,2016]:\n",
    "    trainK = trainY.loc[train.Year == year]\n",
    "    testK = trainY.drop(trainK.index)\n",
    "    \n",
    "    \n",
    "    #lm\n",
    "    lm = linear_model.LinearRegression()\n",
    "    model = lm.fit(trainK.iloc[:,1:-1],trainK.iloc[:,-1])\n",
    "    predictions = lm.predict(testK.iloc[:,1:-1])\n",
    "    mseLM.append(np.mean((predictions - testK.iloc[:,-1])**2))\n",
    "\n",
    "\n",
    "    \n",
    "    #Lasso\n",
    "    trainKnum = trainK.apply(pd.to_numeric, errors='coerce')\n",
    "    testKnum = testK.apply(pd.to_numeric, errors='coerce')\n",
    "    trainKnum.fillna(0, inplace=True)\n",
    "    testKnum.fillna(0, inplace=True)\n",
    "    \n",
    "    lassoReg = Lasso()\n",
    "    lassoReg.fit(trainK.iloc[:,1:-1],trainK.iloc[:,-1])\n",
    "    predLasso = lassoReg.predict(testK.iloc[:,1:-1])\n",
    "    mseLasso.append(np.mean((predLasso - testK.iloc[:,-1])**2))\n",
    "\n",
    "    #Ridge\n",
    "    ridgeReg = Ridge()\n",
    "    ridgeReg.fit(trainK.iloc[:,1:-1],trainK.iloc[:,-1])\n",
    "    predRidge = ridgeReg.predict(testK.iloc[:,1:-1])\n",
    "    mseRidge.append(np.mean((predRidge - testK.iloc[:,-1])**2))\n",
    "\n",
    "lm2 = np.mean(mseLM)\n",
    "las2 = np.mean(mseLasso)\n",
    "ridge2 = np.mean(mseRidge)\n",
    "\n",
    "\n",
    "\n",
    "    \n",
    "\n",
    "print(\"Mean mse LM:\",np.mean(mseLM))\n",
    "print(\"Mean mse Lasso:\",np.mean(mseLasso))\n",
    "print(\"Mean mse Ridge:\",np.mean(mseRidge))\n",
    "print(\"Mean mse in temporal cv: \", np.mean([np.mean(mseLM),np.mean(mseLasso),np.mean(mseRidge)]))"
   ]
  },
  {
   "cell_type": "markdown",
   "metadata": {},
   "source": [
    "## Mean of each model error in the two cross validation types"
   ]
  },
  {
   "cell_type": "code",
   "execution_count": 21,
   "metadata": {},
   "outputs": [
    {
     "name": "stdout",
     "output_type": "stream",
     "text": [
      "lm: 0.355327686229\n",
      "lasso: 0.345997166445\n",
      "ridge: 0.348768691809\n"
     ]
    }
   ],
   "source": [
    "print(\"lm:\", np.mean([lmod,lm2]))\n",
    "print(\"lasso:\", np.mean([las,las2]))\n",
    "print(\"ridge:\", np.mean([ridge,ridge2]))"
   ]
  },
  {
   "cell_type": "markdown",
   "metadata": {},
   "source": [
    "## Lasso was the best performing model so we selected it to train on all the train set and test it on the validation set (not used till now)"
   ]
  },
  {
   "cell_type": "code",
   "execution_count": 22,
   "metadata": {},
   "outputs": [
    {
     "name": "stdout",
     "output_type": "stream",
     "text": [
      "mse:  0.12424223712946586\n",
      "R squared:  0.361685165029\n"
     ]
    }
   ],
   "source": [
    "# lasso best model\n",
    "from sklearn.linear_model import Lasso\n",
    "lassoReg = Lasso(0.2)\n",
    "lassoReg.fit(train.iloc[:,1:-1],train.iloc[:,-1])\n",
    "pred2 = lassoReg.predict(validation.iloc[:,1:-1])\n",
    "# calculating mse\n",
    "mse = np.mean((pred2 - validation.iloc[:,-1])**2)\n",
    "print(\"mse: \",mse)\n",
    "print(\"R squared: \",lassoReg.score(validation.iloc[:,1:-1],validation.iloc[:,-1]))"
   ]
  },
  {
   "cell_type": "markdown",
   "metadata": {},
   "source": [
    "## We let the Lasso linear model select the variables for us, giving them a null coefficients so making their predicting effect absent in the final model."
   ]
  },
  {
   "cell_type": "code",
   "execution_count": 23,
   "metadata": {},
   "outputs": [
    {
     "data": {
      "image/png": "[encoded data removed]",
      "text/plain": [
       "<matplotlib.figure.Figure at 0x1a1d4a9668>"
      ]
     },
     "metadata": {},
     "output_type": "display_data"
    },
    {
     "name": "stdout",
     "output_type": "stream",
     "text": [
      "[  0.00000000e+00   1.75307912e-03   3.12369770e-03   0.00000000e+00\n",
      "   9.40474197e-03  -0.00000000e+00   6.40202921e-04   3.45058178e-04\n",
      "   0.00000000e+00   1.51154323e-03  -8.52235493e-04  -1.12943581e-03\n",
      "  -0.00000000e+00  -1.91633845e-03   2.72040897e-03  -0.00000000e+00\n",
      "   0.00000000e+00   1.73574313e-04  -4.49297401e-04   9.28892188e-03\n",
      "   2.14234091e-03   0.00000000e+00   1.63069832e-03   3.10262844e-03\n",
      "   0.00000000e+00   0.00000000e+00   0.00000000e+00   0.00000000e+00\n",
      "   3.26652300e-03   1.29941678e-03   0.00000000e+00   7.51406708e-04\n",
      "   0.00000000e+00  -1.38493560e-04  -0.00000000e+00  -0.00000000e+00\n",
      "   1.86884648e-03   1.62200772e-03   2.01448302e-03  -9.29629317e-04\n",
      "  -2.32086726e-03   2.36911714e-03  -3.80786237e-04   1.17233021e-03\n",
      "   4.43504590e-03   1.79844379e-03   3.56038231e-04   0.00000000e+00\n",
      "   1.78526944e-03  -1.35703018e-03   2.29587407e-04  -4.81095968e-04\n",
      "  -0.00000000e+00   6.96475038e-04  -0.00000000e+00   0.00000000e+00\n",
      "   6.15738869e-04   0.00000000e+00  -2.80636864e-03   0.00000000e+00\n",
      "   3.94980689e-03  -0.00000000e+00   0.00000000e+00   0.00000000e+00\n",
      "  -0.00000000e+00  -0.00000000e+00  -0.00000000e+00   2.45181008e-04\n",
      "   0.00000000e+00   7.90785235e-05  -1.62245843e-04  -0.00000000e+00\n",
      "   1.07732275e-03   0.00000000e+00  -1.41648823e-03  -2.36500601e-03\n",
      "  -5.91988022e-04  -3.93276604e-03   0.00000000e+00  -6.36806942e-05\n",
      "  -0.00000000e+00   0.00000000e+00  -5.03503827e-04  -0.00000000e+00\n",
      "  -2.68611376e-03  -0.00000000e+00  -0.00000000e+00  -7.44957516e-05\n",
      "  -5.41316437e-03  -1.70846247e-03  -0.00000000e+00  -0.00000000e+00\n",
      "  -4.01961625e-04  -0.00000000e+00  -0.00000000e+00  -6.12705111e-04\n",
      "  -1.91117285e-03  -3.61323482e-04  -7.80644736e-03  -0.00000000e+00\n",
      "  -0.00000000e+00   0.00000000e+00  -4.68592895e-04  -2.83507504e-04\n",
      "  -0.00000000e+00   0.00000000e+00  -1.86507755e-04  -2.99850088e-03\n",
      "  -1.23702647e-03]\n"
     ]
    }
   ],
   "source": [
    "predictors = train.iloc[:,1:-1].columns\n",
    "coef = pd.Series(lassoReg.coef_,predictors).sort_values()\n",
    "plt.figure(figsize=(20,10))\n",
    "coef.plot(kind='bar', title='Modal Coefficients',grid=True)\n",
    "plt.show()\n",
    "print(lassoReg.coef_)"
   ]
  },
  {
   "cell_type": "markdown",
   "metadata": {},
   "source": [
    "## Added to our model census features at the US state level (income data)\n",
    "## Adding the income variable we notice from the mse values that the predicting performance of our lasso model got better.\n",
    "\n",
    "\n"
   ]
  },
  {
   "cell_type": "code",
   "execution_count": 24,
   "metadata": {},
   "outputs": [],
   "source": [
    "income= pd.read_csv(\"DELIVER/income.csv\", sep=\";\")\n",
    "_2011i = income.iloc[:,1]\n",
    "_2012i = income.iloc[:,2]\n",
    "_2013i = income.iloc[:,3]\n",
    "_2014i = income.iloc[:,4]\n",
    "_2015i = income.iloc[:,5]\n",
    "_2016i = income.iloc[:,6]\n",
    "income=pd.concat([_2011i,_2012i,_2013i,_2014i,_2015i,_2016i])"
   ]
  },
  {
   "cell_type": "code",
   "execution_count": 47,
   "metadata": {},
   "outputs": [],
   "source": [
    "train[\"income\"] = income.iloc[train.index].values\n",
    "validation[\"income\"] = income.iloc[validation.index].values\n",
    "#pd.concat([train.income,validation.income],axis=1)"
   ]
  },
  {
   "cell_type": "raw",
   "metadata": {},
   "source": [
    "#dfs=pd.concat([dfS,income],axis=1)\n",
    "dfs=df\n",
    "dfs[\"income\"]=income.values\n",
    "X = dfs.drop(\"Data_Value\", axis = 1) \n",
    "y = dfs.Data_Value\n",
    "X = X.apply(pd.to_numeric, errors='coerce')\n",
    "y = y.apply(pd.to_numeric, errors='coerce')\n",
    "X.fillna(0, inplace=True)\n",
    "y.fillna(0, inplace=True)\n"
   ]
  },
  {
   "cell_type": "code",
   "execution_count": 35,
   "metadata": {},
   "outputs": [],
   "source": [
    "#validation.drop([\"Data_Value\"],axis=1)"
   ]
  },
  {
   "cell_type": "code",
   "execution_count": 27,
   "metadata": {},
   "outputs": [
    {
     "name": "stdout",
     "output_type": "stream",
     "text": [
      "mse : 0.12465736180172675\n",
      "R squared:  0.359552394058\n"
     ]
    }
   ],
   "source": [
    "from sklearn.linear_model import Lasso\n",
    "train = train.apply(pd.to_numeric, errors='coerce')\n",
    "validation = validation.apply(pd.to_numeric, errors='coerce')\n",
    "train.fillna(0, inplace=True)\n",
    "validation.fillna(0, inplace=True)\n",
    "lassoReg = Lasso(alpha=0.2)\n",
    "lassoReg.fit(train.drop([\"Data_Value\"],axis=1),train.Data_Value)\n",
    "pred2 = lassoReg.predict(validation.drop([\"Data_Value\"],axis=1))\n",
    "# calculating mse\n",
    "\n",
    "mse = np.mean((pred2 - validation.Data_Value)**2)\n",
    "print(\"mse :\",mse)\n",
    "print(\"R squared: \",lassoReg.score(validation.drop([\"Data_Value\"],axis=1),validation.Data_Value))"
   ]
  },
  {
   "cell_type": "markdown",
   "metadata": {},
   "source": [
    "lm = linear_model.LinearRegression()\n",
    "model = lm.fit(X_train,y_train)\n",
    "predictions = lm.predict(X_test)\n",
    "(np.mean((predictions - y_test)**2))\n",
    "\n"
   ]
  },
  {
   "cell_type": "markdown",
   "metadata": {},
   "source": [
    "### As a result we get better results (mse reduction from 0.15 to 0.13) adding the \"income\" variable."
   ]
  },
  {
   "cell_type": "markdown",
   "metadata": {},
   "source": [
    "## We also added a state Health Insurance coverage indicator, for all the years"
   ]
  },
  {
   "cell_type": "code",
   "execution_count": 28,
   "metadata": {},
   "outputs": [],
   "source": [
    "health = pd.read_csv(\"DELIVER/health.csv\",sep=(\";\"))"
   ]
  },
  {
   "cell_type": "code",
   "execution_count": 29,
   "metadata": {},
   "outputs": [],
   "source": [
    "_2011 = health.iloc[:,1]\n",
    "_2012 = health.iloc[:,2]\n",
    "_2013 = health.iloc[:,3]\n",
    "_2014 = health.iloc[:,4]\n",
    "_2015 = health.iloc[:,5]\n",
    "_2016 = health.iloc[:,6]"
   ]
  },
  {
   "cell_type": "code",
   "execution_count": 30,
   "metadata": {},
   "outputs": [],
   "source": [
    "health=pd.concat([_2011,_2012,_2013,_2014,_2015,_2016])"
   ]
  },
  {
   "cell_type": "code",
   "execution_count": 48,
   "metadata": {},
   "outputs": [],
   "source": [
    "train[\"health\"] = health.iloc[train.index].values\n",
    "validation[\"health\"] = health.iloc[validation.index].values"
   ]
  },
  {
   "cell_type": "code",
   "execution_count": 32,
   "metadata": {},
   "outputs": [
    {
     "name": "stdout",
     "output_type": "stream",
     "text": [
      "mse : 0.12465736180172675\n",
      "R squared:  0.359552394058\n"
     ]
    }
   ],
   "source": [
    "\n",
    "lassoReg1 = Lasso(alpha=0.2)\n",
    "lassoReg1.fit(train.drop([\"Data_Value\"],axis=1),train.Data_Value)\n",
    "pred3 = lassoReg1.predict(validation.drop([\"Data_Value\"],axis=1))\n",
    "# calculating mse\n",
    "\n",
    "mse = np.mean((pred3 - validation.Data_Value)**2)\n",
    "print(\"mse :\",mse)\n",
    "print(\"R squared: \",lassoReg1.score(validation.drop([\"Data_Value\"],axis=1),validation.Data_Value))"
   ]
  },
  {
   "cell_type": "markdown",
   "metadata": {},
   "source": [
    "## Strangely we got exact same results of the previous model, so we can see that the model excluded the \"health\" variable giving a null coefficient, estimating not usefull for an improvement."
   ]
  },
  {
   "cell_type": "code",
   "execution_count": 39,
   "metadata": {},
   "outputs": [
    {
     "name": "stdout",
     "output_type": "stream",
     "text": [
      "Coefficient of health variable: 0.0\n"
     ]
    }
   ],
   "source": [
    "print(\"Coefficient of health variable:\",lassoReg1.coef_[-1])"
   ]
  },
  {
   "cell_type": "markdown",
   "metadata": {},
   "source": [
    "# WITH health and income"
   ]
  },
  {
   "cell_type": "code",
   "execution_count": 49,
   "metadata": {},
   "outputs": [
    {
     "data": {
      "text/plain": [
       "0.17382565874946015"
      ]
     },
     "execution_count": 49,
     "metadata": {},
     "output_type": "execute_result"
    }
   ],
   "source": [
    "#Ridge\n",
    "ridgeReg = Ridge()\n",
    "ridgeReg.fit(train.drop([\"Data_Value\"],axis=1),train.Data_Value)\n",
    "predRidge = ridgeReg.predict(validation.drop([\"Data_Value\"],axis=1))\n",
    "np.mean((predRidge - validation.Data_Value)**2)\n",
    "\n"
   ]
  },
  {
   "cell_type": "markdown",
   "metadata": {},
   "source": [
    " # with income"
   ]
  },
  {
   "cell_type": "code",
   "execution_count": 50,
   "metadata": {},
   "outputs": [
    {
     "data": {
      "text/plain": [
       "0.16825942905307473"
      ]
     },
     "execution_count": 50,
     "metadata": {},
     "output_type": "execute_result"
    }
   ],
   "source": [
    "train=train.drop([\"health\"],axis=1)\n",
    "validation=validation.drop([\"health\"],axis=1)\n",
    "#Ridge\n",
    "ridgeReg = Ridge()\n",
    "ridgeReg.fit(train.drop([\"Data_Value\"],axis=1),train.Data_Value)\n",
    "predRidge = ridgeReg.predict(validation.drop([\"Data_Value\"],axis=1))\n",
    "np.mean((predRidge - validation.Data_Value)**2)\n"
   ]
  },
  {
   "cell_type": "markdown",
   "metadata": {},
   "source": [
    "# with nothing"
   ]
  },
  {
   "cell_type": "code",
   "execution_count": 44,
   "metadata": {},
   "outputs": [
    {
     "data": {
      "text/plain": [
       "0.17793458781024157"
      ]
     },
     "execution_count": 44,
     "metadata": {},
     "output_type": "execute_result"
    }
   ],
   "source": [
    "train=train.drop([\"income\"],axis=1)\n",
    "validation=validation.drop([\"income\"],axis=1)\n",
    "#Ridge\n",
    "ridgeReg = Ridge()\n",
    "ridgeReg.fit(train.drop([\"Data_Value\"],axis=1),train.Data_Value)\n",
    "predRidge = ridgeReg.predict(validation.drop([\"Data_Value\"],axis=1))\n",
    "np.mean((predRidge - validation.Data_Value)**2)\n",
    "\n"
   ]
  },
  {
   "cell_type": "code",
   "execution_count": null,
   "metadata": {},
   "outputs": [],
   "source": []
  }
 ],
 "metadata": {
  "kernelspec": {
   "display_name": "Python 3",
   "language": "python",
   "name": "python3"
  },
  "language_info": {
   "codemirror_mode": {
    "name": "ipython",
    "version": 3
   },
   "file_extension": ".py",
   "mimetype": "text/x-python",
   "name": "python",
   "nbconvert_exporter": "python",
   "pygments_lexer": "ipython3",
   "version": "3.6.3"
  }
 },
 "nbformat": 4,
 "nbformat_minor": 2
}
