{
 "cells": [
  {
   "cell_type": "code",
   "execution_count": 187,
   "metadata": {},
   "outputs": [],
   "source": [
    "import pandas as pd\n",
    "import numpy as np\n",
    "from sklearn.model_selection import train_test_split\n",
    "from sklearn import linear_model\n",
    "import matplotlib.pyplot as plt\n",
    "from sklearn.linear_model import Lasso,Ridge\n",
    "\n",
    "\n",
    "\n"
   ]
  },
  {
   "cell_type": "code",
   "execution_count": 2,
   "metadata": {},
   "outputs": [],
   "source": [
    "df = pd.read_csv(\"data/output/output_complete.csv\",sep=\";\")\n",
    "\n"
   ]
  },
  {
   "cell_type": "code",
   "execution_count": 23,
   "metadata": {},
   "outputs": [],
   "source": [
    "dfY=df.iloc[:,1:]\n",
    "dfS=df.drop([\"Year\"],axis=1)\n"
   ]
  },
  {
   "cell_type": "markdown",
   "metadata": {},
   "source": [
    "# Spatial Cross validation"
   ]
  },
  {
   "cell_type": "code",
   "execution_count": 252,
   "metadata": {},
   "outputs": [],
   "source": [
    "train, validation = train_test_split(dfS, test_size=0.2)\n",
    "\n",
    "df_gt = pd.read_csv('data/BRFSS/2011_AA.csv', sep=\";\")\n",
    "states = df_gt[\"LocationDesc\"][0:51]\n"
   ]
  },
  {
   "cell_type": "code",
   "execution_count": 237,
   "metadata": {},
   "outputs": [
    {
     "name": "stdout",
     "output_type": "stream",
     "text": [
      " # mean LM: 0.42153830087\n",
      " # mean Lasso: 0.450547721089\n",
      " # mean Ridge: 0.389936875815\n",
      " # mean time cv:  0.420674299258\n"
     ]
    }
   ],
   "source": [
    "mseLM = []\n",
    "mseLasso = []\n",
    "mseRidge = []\n",
    "# LOO CrossValidation\n",
    "for state in states:\n",
    "    trainK = train.loc[train[\"State\"] == state]\n",
    "    testK = train.drop(trainK.index)\n",
    "\n",
    "    #LM\n",
    "    lm = linear_model.LinearRegression()\n",
    "    model = lm.fit(trainK.iloc[:,1:-1],trainK.iloc[:,-1])\n",
    "    predictions = lm.predict(testK.iloc[:,1:-1])\n",
    "    mseLM.append(np.mean((predictions - testK.iloc[:,-1])**2))\n",
    "\n",
    "\n",
    "    #Lasso\n",
    "    trainKnum = trainK.apply(pd.to_numeric, errors='coerce')\n",
    "    testKnum = testK.apply(pd.to_numeric, errors='coerce')\n",
    "    trainKnum.fillna(0, inplace=True)\n",
    "    testKnum.fillna(0, inplace=True)\n",
    "    \n",
    "    lassoReg = Lasso()\n",
    "    lassoReg.fit(trainK.iloc[:,1:-1],trainK.iloc[:,-1])\n",
    "    predLasso = lassoReg.predict(testK.iloc[:,1:-1])\n",
    "    mseLasso.append(np.mean((predLasso - testK.iloc[:,-1])**2))\n",
    "\n",
    "    #Ridge\n",
    "    ridgeReg = Ridge()\n",
    "    ridgeReg.fit(trainK.iloc[:,1:-1],trainK.iloc[:,-1])\n",
    "    predRidge = ridgeReg.predict(testK.iloc[:,1:-1])\n",
    "    mseRidge.append(np.mean((predRidge - testK.iloc[:,-1])**2))\n",
    "\n",
    "lmod = np.mean(mseLM)\n",
    "las = np.mean(mseLasso)\n",
    "ridge = np.mean(mseRidge)\n",
    "\n",
    "\n",
    "print(\" # mean LM:\",np.mean(mseLM))\n",
    "print(\" # mean Lasso:\",np.mean(mseLasso))\n",
    "print(\" # mean Ridge:\",np.mean(mseRidge))\n",
    "print(\" # mean time cv: \", np.mean([np.mean(mseLM),np.mean(mseLasso),np.mean(mseRidge)]))"
   ]
  },
  {
   "cell_type": "raw",
   "metadata": {},
   "source": [
    "# fit a model\n",
    "lm = linear_model.LinearRegression()\n",
    "model = lm.fit(trainK.iloc[:,1:-1],trainK.iloc[:,-1])\n",
    "predictions = lm.predict(testK.iloc[:,1:-1])\n",
    "np.mean((predictions - testK.iloc[:,-1])**2)"
   ]
  },
  {
   "cell_type": "markdown",
   "metadata": {},
   "source": [
    "# Temporal cross validation"
   ]
  },
  {
   "cell_type": "code",
   "execution_count": 280,
   "metadata": {},
   "outputs": [],
   "source": [
    "train, validation = train_test_split(dfY, test_size=0.2)\n",
    "\n"
   ]
  },
  {
   "cell_type": "code",
   "execution_count": 281,
   "metadata": {},
   "outputs": [
    {
     "name": "stdout",
     "output_type": "stream",
     "text": [
      " # mean LM: 0.273681027602\n",
      " # mean Lasso: 0.228940466016\n",
      " # mean Ridge: 0.274595643301\n",
      " # mean time cv:  0.259072378973\n"
     ]
    }
   ],
   "source": [
    "mseLM = []\n",
    "mseLasso = []\n",
    "mseRidge = []\n",
    "\n",
    "for year in [2011,2012,2013,2014,2015,2016]:\n",
    "    trainK = train.loc[train.Year == year]\n",
    "    testK = train.drop(trainK.index)\n",
    "    \n",
    "    \n",
    "    #lm\n",
    "    lm = linear_model.LinearRegression()\n",
    "    model = lm.fit(trainK.iloc[:,1:-1],trainK.iloc[:,-1])\n",
    "    predictions = lm.predict(testK.iloc[:,1:-1])\n",
    "    mseLM.append(np.mean((predictions - testK.iloc[:,-1])**2))\n",
    "\n",
    "\n",
    "    \n",
    "    #Lasso\n",
    "    trainKnum = trainK.apply(pd.to_numeric, errors='coerce')\n",
    "    testKnum = testK.apply(pd.to_numeric, errors='coerce')\n",
    "    trainKnum.fillna(0, inplace=True)\n",
    "    testKnum.fillna(0, inplace=True)\n",
    "    \n",
    "    lassoReg = Lasso(alpha=1)\n",
    "    lassoReg.fit(trainK.iloc[:,1:-1],trainK.iloc[:,-1])\n",
    "    predLasso = lassoReg.predict(testK.iloc[:,1:-1])\n",
    "    mseLasso.append(np.mean((predLasso - testK.iloc[:,-1])**2))\n",
    "\n",
    "    #Ridge\n",
    "    ridgeReg = Ridge(alpha=1)\n",
    "    ridgeReg.fit(trainK.iloc[:,1:-1],trainK.iloc[:,-1])\n",
    "    predRidge = ridgeReg.predict(testK.iloc[:,1:-1])\n",
    "    mseRidge.append(np.mean((predRidge - testK.iloc[:,-1])**2))\n",
    "\n",
    "lm2 = np.mean(mseLM)\n",
    "las2 = np.mean(mseLasso)\n",
    "ridge2 = np.mean(mseRidge)\n",
    "\n",
    "\n",
    "\n",
    "    \n",
    "\n",
    "print(\" # mean LM:\",np.mean(mseLM))\n",
    "print(\" # mean Lasso:\",np.mean(mseLasso))\n",
    "print(\" # mean Ridge:\",np.mean(mseRidge))\n",
    "print(\" # mean time cv: \", np.mean([np.mean(mseLM),np.mean(mseLasso),np.mean(mseRidge)]))"
   ]
  },
  {
   "cell_type": "code",
   "execution_count": 282,
   "metadata": {},
   "outputs": [
    {
     "name": "stdout",
     "output_type": "stream",
     "text": [
      "lm: 0.347609664236\n",
      "lasso: 0.339744093553\n",
      "ridge: 0.332266259558\n"
     ]
    }
   ],
   "source": [
    "print(\"lm:\", np.mean([lmod,lm2]))\n",
    "print(\"lasso:\", np.mean([las,las2]))\n",
    "print(\"ridge:\", np.mean([ridge,ridge2]))\n"
   ]
  },
  {
   "cell_type": "code",
   "execution_count": 286,
   "metadata": {},
   "outputs": [
    {
     "name": "stdout",
     "output_type": "stream",
     "text": [
      "mse:  0.14110554865448396\n",
      "R squared:  0.239566334832\n"
     ]
    }
   ],
   "source": [
    "# lasso best model\n",
    "from sklearn.linear_model import Lasso\n",
    "lassoReg = Lasso(alpha=0.2)\n",
    "\n",
    "lassoReg.fit(train.iloc[:,1:-1],train.iloc[:,-1])\n",
    "\n",
    "pred2 = lassoReg.predict(validation.iloc[:,1:-1])\n",
    "\n",
    "# calculating mse\n",
    "\n",
    "mse = np.mean((pred2 - validation.iloc[:,-1])**2)\n",
    "\n",
    "print(\"mse: \",mse)\n",
    "print(\"R squared: \",lassoReg.score(validation.iloc[:,1:-1],validation.iloc[:,-1]))\n",
    "\n"
   ]
  },
  {
   "cell_type": "markdown",
   "metadata": {},
   "source": [
    "# Add to your model census features at the US state level (e.g., income data) and discuss how adding them impacts the predictive performance of the model.\n",
    "\n"
   ]
  },
  {
   "cell_type": "code",
   "execution_count": 276,
   "metadata": {},
   "outputs": [],
   "source": [
    "income= pd.read_csv(\"data/Poverty/income.csv\", sep=\";\")"
   ]
  },
  {
   "cell_type": "code",
   "execution_count": 277,
   "metadata": {},
   "outputs": [],
   "source": [
    "dfs=pd.concat([dfS,income.Income],axis=1)\n",
    "X = dfs.drop(\"Data_Value\", axis = 1) \n",
    "y = dfs.Data_Value\n",
    "X = X.apply(pd.to_numeric, errors='coerce')\n",
    "y = y.apply(pd.to_numeric, errors='coerce')\n",
    "X.fillna(0, inplace=True)\n",
    "y.fillna(0, inplace=True)"
   ]
  },
  {
   "cell_type": "code",
   "execution_count": 278,
   "metadata": {},
   "outputs": [],
   "source": [
    "X_train, X_test, y_train, y_test = train_test_split(X, y, test_size=0.33, random_state=42)\n",
    "\n"
   ]
  },
  {
   "cell_type": "code",
   "execution_count": 287,
   "metadata": {},
   "outputs": [
    {
     "name": "stdout",
     "output_type": "stream",
     "text": [
      "mse : 0.125246673343142\n",
      "R squared:  0.377058130858\n"
     ]
    }
   ],
   "source": [
    "from sklearn.linear_model import Lasso\n",
    "lassoReg = Lasso(alpha=0.2)\n",
    "\n",
    "lassoReg.fit(X_train,y_train)\n",
    "\n",
    "pred2 = lassoReg.predict(X_test)\n",
    "\n",
    "# calculating mse\n",
    "\n",
    "mse = np.mean((pred2 - y_test)**2)\n",
    "\n",
    "print(\"mse :\",mse)\n",
    "\n",
    "\n",
    "print(\"R squared: \",lassoReg.score(X_test,y_test))\n",
    "\n"
   ]
  },
  {
   "cell_type": "markdown",
   "metadata": {},
   "source": [
    "### As a result we get better results (mse reduction from 0.14 to 0.12) adding the \"income\" variable."
   ]
  },
  {
   "cell_type": "code",
   "execution_count": null,
   "metadata": {},
   "outputs": [],
   "source": []
  }
 ],
 "metadata": {
  "kernelspec": {
   "display_name": "Python 3",
   "language": "python",
   "name": "python3"
  },
  "language_info": {
   "codemirror_mode": {
    "name": "ipython",
    "version": 3
   },
   "file_extension": ".py",
   "mimetype": "text/x-python",
   "name": "python",
   "nbconvert_exporter": "python",
   "pygments_lexer": "ipython3",
   "version": "3.6.3"
  }
 },
 "nbformat": 4,
 "nbformat_minor": 2
}
