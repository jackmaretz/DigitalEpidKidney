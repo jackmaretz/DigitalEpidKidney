{
 "cells": [
  {
   "cell_type": "code",
   "execution_count": 2,
   "metadata": {},
   "outputs": [],
   "source": [
    "import pandas as pd\n",
    "import numpy as np\n",
    "from pytrends.request import TrendReq\n",
    "pytrends = TrendReq(hl='en-US', tz=360)\n",
    "import matplotlib.pyplot as plt\n",
    "from scipy.stats.stats import pearsonr\n",
    "import warnings\n",
    "warnings.filterwarnings('ignore')\n",
    "import time"
   ]
  },
  {
   "cell_type": "code",
   "execution_count": 3,
   "metadata": {},
   "outputs": [],
   "source": [
    "def build_google_trends_df(kword, states, years=[2011,2012,2013,2014,2015,2016], output=True):\n",
    "    if output:\n",
    "        print(\"calculating indexes for\", kword)\n",
    "    yearly_google_trends_df = pd.DataFrame(index=states, columns=years, dtype=np.float)\n",
    "    for year in years:\n",
    "        values = []\n",
    "        try:\n",
    "            pytrends.build_payload([kword], cat=0, timeframe=str(year)+'-01-01'+ ' ' + str(year) + '-12-31', geo='US', gprop='')\n",
    "            trends_per_region_df = pytrends.interest_by_region()\n",
    "            for state in states:\n",
    "                if state not in trends_per_region_df.index:\n",
    "                    values.append(0)\n",
    "                else: \n",
    "                    values.append(int(trends_per_region_df.loc[state].values))\n",
    "            yearly_google_trends_df[year] = values\n",
    "        except: \n",
    "            raise Exception('Not relevant keyword in GoogleTrends database')\n",
    "    return yearly_google_trends_df"
   ]
  },
  {
   "cell_type": "code",
   "execution_count": 4,
   "metadata": {
    "scrolled": true
   },
   "outputs": [],
   "source": [
    "def overall_correlation_df(gt_filename, google_trends_keywords, years):\n",
    "    df_gt = pd.read_csv(gt_filename, sep=\";\",usecols=[\"LocationDesc\",\"Data_Value\"])\n",
    "    df_gt.dropna(subset=['LocationDesc'], inplace=True)\n",
    "    df_gt.drop(df_gt.tail(2).index, inplace=True)\n",
    "    states = df_gt[\"LocationDesc\"]\n",
    "    bad_keywords = []\n",
    "    year_average_corr = []\n",
    "    for kw in google_trends_keywords:\n",
    "        try:\n",
    "            df = build_google_trends_df(kw, states=states, years=years, output=True )\n",
    "            df[\"ground_truth_value\"] = df_gt[\"Data_Value\"].values\n",
    "            corr_per_year= []\n",
    "            for year in years:\n",
    "                corr = pearsonr(df[year], df[\"ground_truth_value\"])[0]\n",
    "                if np.isnan(corr):\n",
    "                    raise Exception('Pearson correlation resulted in NaN')\n",
    "                corr_per_year.append(corr) # pos0: corr; pos1: p_value\n",
    "            year_average_corr.append(np.mean(corr_per_year))\n",
    "            time.sleep(1)\n",
    "        except:\n",
    "            bad_keywords.append(kw)\n",
    "    good_keywords = [kw for kw in google_trends_keywords if kw not in bad_keywords] # remove the bad keywords, ie. with no results in the period\n",
    "    corr_df = pd.DataFrame(index=good_keywords,data=year_average_corr, columns=[\"correlation\"])\n",
    "    return corr_df"
   ]
  },
  {
   "cell_type": "code",
   "execution_count": null,
   "metadata": {},
   "outputs": [
    {
     "name": "stdout",
     "output_type": "stream",
     "text": [
      "calculating indexes for liver disease\n",
      "calculating indexes for diabetes\n",
      "calculating indexes for renal failure\n",
      "calculating indexes for hypertension\n",
      "calculating indexes for disease\n",
      "calculating indexes for kidney\n",
      "calculating indexes for cardiovascular disease\n",
      "calculating indexes for cirrhosis\n",
      "calculating indexes for nephritis\n",
      "calculating indexes for cardiomyopathy\n",
      "calculating indexes for emphysema\n",
      "calculating indexes for cystic fibrosis\n",
      "calculating indexes for glaucoma\n",
      "calculating indexes for sickle cell anemia\n",
      "calculating indexes for diabetes mellitus\n",
      "calculating indexes for coronary artery disease\n",
      "calculating indexes for juvenile diabetes\n",
      "calculating indexes for congestive heart failure\n",
      "calculating indexes for genetic disorder\n",
      "calculating indexes for anemia\n",
      "calculating indexes for pancreatitis\n"
     ]
    }
   ],
   "source": [
    "wls = pd.read_csv(\"data/kidney_disease_related_terms.csv\",sep=\".\", names=[\"related_terms\"])\n",
    "kw_list = wls[\"related_terms\"].str.strip()\n",
    "years = [2011,2012,2013,2014,2015,2016]\n",
    "\n",
    "folder = 'data/BRFSS/'\n",
    "#files_sufix = ['2011_AA','2012_AA','2013_AA','2014_AA','2015_AA','2016_AA','2011','2012','2013','2014','2015','2016']\n",
    "#files_sufix = ['2011_AA']\n",
    "files_sufix = ['2012_AA','2013_AA','2014_AA','2015_AA','2016_AA','2011','2012','2013','2014','2015','2016']\n",
    "overall_corr_dict = {}\n",
    "for sufix in files_sufix:\n",
    "    df = overall_correlation_df(gt_filename=folder+sufix+'.csv',\n",
    "                                google_trends_keywords=kw_list,\n",
    "                                years = years)\n",
    "    df.to_csv(folder + 'overall_correlation_' + sufix + '.csv',sep=\";\", index=True, header=True, index_label='keyword')\n",
    "    overall_corr_dict[sufix] = df\n",
    "    \n"
   ]
  },
  {
   "cell_type": "code",
   "execution_count": 1,
   "metadata": {},
   "outputs": [
    {
     "ename": "NameError",
     "evalue": "name 'overall_corr_dict' is not defined",
     "output_type": "error",
     "traceback": [
      "\u001b[0;31m---------------------------------------------------------------------------\u001b[0m",
      "\u001b[0;31mNameError\u001b[0m                                 Traceback (most recent call last)",
      "\u001b[0;32m<ipython-input-1-6133e01a6cc3>\u001b[0m in \u001b[0;36m<module>\u001b[0;34m()\u001b[0m\n\u001b[0;32m----> 1\u001b[0;31m \u001b[0moverall_corr_dict\u001b[0m\u001b[0;34m\u001b[0m\u001b[0m\n\u001b[0m",
      "\u001b[0;31mNameError\u001b[0m: name 'overall_corr_dict' is not defined"
     ]
    }
   ],
   "source": [
    "overall_corr_dict"
   ]
  },
  {
   "cell_type": "code",
   "execution_count": 5,
   "metadata": {
    "collapsed": true
   },
   "outputs": [
    {
     "ename": "NameError",
     "evalue": "name 'corr_df' is not defined",
     "output_type": "error",
     "traceback": [
      "\u001b[0;31m---------------------------------------------------------------------------\u001b[0m",
      "\u001b[0;31mNameError\u001b[0m                                 Traceback (most recent call last)",
      "\u001b[0;32m<ipython-input-5-eaaa57571e76>\u001b[0m in \u001b[0;36m<module>\u001b[0;34m()\u001b[0m\n\u001b[0;32m----> 1\u001b[0;31m \u001b[0mmost_correlated\u001b[0m \u001b[0;34m=\u001b[0m \u001b[0mcorr_df\u001b[0m\u001b[0;34m.\u001b[0m\u001b[0mloc\u001b[0m\u001b[0;34m[\u001b[0m\u001b[0mcorr_df\u001b[0m\u001b[0;34m[\u001b[0m\u001b[0;34m\"correlation\"\u001b[0m\u001b[0;34m]\u001b[0m \u001b[0;34m>\u001b[0m \u001b[0;36m0.05\u001b[0m\u001b[0;34m]\u001b[0m\u001b[0;34m.\u001b[0m\u001b[0mvalues\u001b[0m\u001b[0;34m\u001b[0m\u001b[0m\n\u001b[0m",
      "\u001b[0;31mNameError\u001b[0m: name 'corr_df' is not defined"
     ]
    }
   ],
   "source": [
    "most_correlated = corr_df.loc[overall_corr_dict[\"correlation\"] > 0.05].values"
   ]
  },
  {
   "cell_type": "code",
   "execution_count": null,
   "metadata": {},
   "outputs": [],
   "source": [
    "plt.figure(figsize=(13,7))\n",
    "plt.plot(corr_df, label =\"Age Adjusted prevalence\")\n",
    "\n",
    "plt.legend(fontsize=\"small\")\n",
    "plt.xlabel(\"query term\")\n",
    "plt.ylabel(\"Cor value \")\n",
    "plt.title(\"Correlation\")\n",
    "plt.grid()\n",
    "#plt.xticks(queries)\n",
    "\n",
    "plt.show()"
   ]
  },
  {
   "cell_type": "code",
   "execution_count": null,
   "metadata": {},
   "outputs": [],
   "source": [
    "year = 2011\n",
    "kword = \"renal\"\n",
    "pytrends.build_payload([kword], cat=0, timeframe=str(year)+'-01-01'+ ' ' + str(year) + '-12-31', geo='US', gprop='')\n",
    "trends_per_region_df = pytrends.interest_by_region()\n",
    "trends_per_region_df"
   ]
  },
  {
   "cell_type": "code",
   "execution_count": null,
   "metadata": {},
   "outputs": [],
   "source": []
  }
 ],
 "metadata": {
  "kernelspec": {
   "display_name": "Python 3",
   "language": "python",
   "name": "python3"
  },
  "language_info": {
   "codemirror_mode": {
    "name": "ipython",
    "version": 3
   },
   "file_extension": ".py",
   "mimetype": "text/x-python",
   "name": "python",
   "nbconvert_exporter": "python",
   "pygments_lexer": "ipython3",
   "version": "3.6.3"
  }
 },
 "nbformat": 4,
 "nbformat_minor": 2
}
