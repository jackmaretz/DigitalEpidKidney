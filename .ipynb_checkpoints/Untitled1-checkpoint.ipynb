{
 "cells": [
  {
   "cell_type": "code",
   "execution_count": 1,
   "metadata": {},
   "outputs": [],
   "source": [
    "import pandas as pd\n",
    "import numpy as np\n",
    "from pytrends.request import TrendReq\n",
    "pytrends = TrendReq(hl='en-US', tz=360)"
   ]
  },
  {
   "cell_type": "code",
   "execution_count": 2,
   "metadata": {},
   "outputs": [],
   "source": [
    "wls = pd.read_csv(\"kidneyRelatedTerms.csv\",sep=\".\")"
   ]
  },
  {
   "cell_type": "code",
   "execution_count": 3,
   "metadata": {},
   "outputs": [],
   "source": [
    "wordsList = list(wls[\" liver\"])"
   ]
  },
  {
   "cell_type": "code",
   "execution_count": 4,
   "metadata": {},
   "outputs": [],
   "source": [
    "kw_list= []\n",
    "for i in wordsList:\n",
    "    kw_list.append(i.strip())"
   ]
  },
  {
   "cell_type": "code",
   "execution_count": 5,
   "metadata": {},
   "outputs": [],
   "source": [
    "k = np.zeros(shape=(342,len(kw_list)))"
   ]
  },
  {
   "cell_type": "markdown",
   "metadata": {},
   "source": [
    "# testing"
   ]
  },
  {
   "cell_type": "code",
   "execution_count": 6,
   "metadata": {},
   "outputs": [],
   "source": [
    "states = {\n",
    "        'AK': 'Alaska',\n",
    "        'AL': 'Alabama',\n",
    "        'AR': 'Arkansas',\n",
    "        'AS': 'American Samoa',\n",
    "        'AZ': 'Arizona',\n",
    "        'CA': 'California',\n",
    "        'CO': 'Colorado',\n",
    "        'CT': 'Connecticut',\n",
    "        'DC': 'District of Columbia',\n",
    "        'DE': 'Delaware',\n",
    "        'FL': 'Florida',\n",
    "        'GA': 'Georgia',\n",
    "        'GU': 'Guam',\n",
    "        'HI': 'Hawaii',\n",
    "        'IA': 'Iowa',\n",
    "        'ID': 'Idaho',\n",
    "        'IL': 'Illinois',\n",
    "        'IN': 'Indiana',\n",
    "        'KS': 'Kansas',\n",
    "        'KY': 'Kentucky',\n",
    "        'LA': 'Louisiana',\n",
    "        'MA': 'Massachusetts',\n",
    "        'MD': 'Maryland',\n",
    "        'ME': 'Maine',\n",
    "        'MI': 'Michigan',\n",
    "        'MN': 'Minnesota',\n",
    "        'MO': 'Missouri',\n",
    "        'MP': 'Northern Mariana Islands',\n",
    "        'MS': 'Mississippi',\n",
    "        'MT': 'Montana',\n",
    "        'NA': 'National',\n",
    "        'NC': 'North Carolina',\n",
    "        'ND': 'North Dakota',\n",
    "        'NE': 'Nebraska',\n",
    "        'NH': 'New Hampshire',\n",
    "        'NJ': 'New Jersey',\n",
    "        'NM': 'New Mexico',\n",
    "        'NV': 'Nevada',\n",
    "        'NY': 'New York',\n",
    "        'OH': 'Ohio',\n",
    "        'OK': 'Oklahoma',\n",
    "        'OR': 'Oregon',\n",
    "        'PA': 'Pennsylvania',\n",
    "        'PR': 'Puerto Rico',\n",
    "        'RI': 'Rhode Island',\n",
    "        'SC': 'South Carolina',\n",
    "        'SD': 'South Dakota',\n",
    "        'TN': 'Tennessee',\n",
    "        'TX': 'Texas',\n",
    "        'UT': 'Utah',\n",
    "        'VA': 'Virginia',\n",
    "        'VI': 'Virgin Islands',\n",
    "        'VT': 'Vermont',\n",
    "        'WA': 'Washington',\n",
    "        'WI': 'Wisconsin',\n",
    "        'WV': 'West Virginia',\n",
    "        'WY': 'Wyoming'\n",
    "}"
   ]
  },
  {
   "cell_type": "code",
   "execution_count": 7,
   "metadata": {},
   "outputs": [
    {
     "data": {
      "text/html": [
       "<div>\n",
       "<style>\n",
       "    .dataframe thead tr:only-child th {\n",
       "        text-align: right;\n",
       "    }\n",
       "\n",
       "    .dataframe thead th {\n",
       "        text-align: left;\n",
       "    }\n",
       "\n",
       "    .dataframe tbody tr th {\n",
       "        vertical-align: top;\n",
       "    }\n",
       "</style>\n",
       "<table border=\"1\" class=\"dataframe\">\n",
       "  <thead>\n",
       "    <tr style=\"text-align: right;\">\n",
       "      <th></th>\n",
       "      <th>transplantations</th>\n",
       "    </tr>\n",
       "    <tr>\n",
       "      <th>geoName</th>\n",
       "      <th></th>\n",
       "    </tr>\n",
       "  </thead>\n",
       "  <tbody>\n",
       "    <tr>\n",
       "      <th>California</th>\n",
       "      <td>32</td>\n",
       "    </tr>\n",
       "    <tr>\n",
       "      <th>Florida</th>\n",
       "      <td>75</td>\n",
       "    </tr>\n",
       "    <tr>\n",
       "      <th>New York</th>\n",
       "      <td>96</td>\n",
       "    </tr>\n",
       "    <tr>\n",
       "      <th>Texas</th>\n",
       "      <td>100</td>\n",
       "    </tr>\n",
       "  </tbody>\n",
       "</table>\n",
       "</div>"
      ],
      "text/plain": [
       "            transplantations\n",
       "geoName                     \n",
       "California                32\n",
       "Florida                   75\n",
       "New York                  96\n",
       "Texas                    100"
      ]
     },
     "execution_count": 7,
     "metadata": {},
     "output_type": "execute_result"
    }
   ],
   "source": [
    "pytrends.build_payload([\"transplantations\"], cat=0, timeframe='2011-01-01 2011-12-31', geo='US', gprop='')\n",
    "x=pytrends.interest_by_region()\n",
    "s = \"California\"\n",
    "x\n"
   ]
  },
  {
   "cell_type": "code",
   "execution_count": 69,
   "metadata": {},
   "outputs": [],
   "source": [
    "values = []\n",
    "for s in states.values():\n",
    "    if s not in x.index:\n",
    "        values.append(0)\n",
    "    else: values.append(int(x.loc[s].values))\n",
    "        "
   ]
  },
  {
   "cell_type": "code",
   "execution_count": null,
   "metadata": {},
   "outputs": [],
   "source": [
    "values"
   ]
  },
  {
   "cell_type": "markdown",
   "metadata": {},
   "source": [
    "# end testing"
   ]
  },
  {
   "cell_type": "code",
   "execution_count": 8,
   "metadata": {},
   "outputs": [],
   "source": [
    "def buildDF(kword):\n",
    "    k1 =[]\n",
    "    print( \" calculating indexes for \" ,kword)\n",
    "    pytrends.build_payload(kword, cat=0, timeframe='2011-01-01 2011-12-31', geo='US', gprop='')\n",
    "    values = []\n",
    "    x = pytrends.interest_by_region()\n",
    "    for s in states.values():\n",
    "        if s not in x.index:\n",
    "            values.append(0)\n",
    "        else: values.append(int(x.loc[s].values))\n",
    "    \n",
    "    k1.extend(values)\n",
    "    #k1 += values\n",
    "    #print(k1)\n",
    "   \n",
    "    print(\"lunghezza anno2011  \",len(k1))\n",
    "\n",
    "\n",
    "    \n",
    "    pytrends.build_payload(kword, cat=0, timeframe='2012-01-01 2012-12-31', geo='US', gprop='')\n",
    "    values = []\n",
    "\n",
    "\n",
    "    x = pytrends.interest_by_region()\n",
    "    for s in states.values():\n",
    "        if s not in x.index:\n",
    "            values.append(0)\n",
    "        else: values.append(int(x.loc[s].values))\n",
    "    k1.extend(values)\n",
    "    #k1 += values\n",
    "    #print(k1)\n",
    "\n",
    "\n",
    "    print(\"lunghezza anno2012   \",len(k1))\n",
    "\n",
    "    pytrends.build_payload(kword, cat=0, timeframe='2013-01-01 2013-12-31', geo='US', gprop='')\n",
    "    values = []\n",
    "\n",
    "\n",
    "    x = pytrends.interest_by_region()\n",
    "    for s in states.values():\n",
    "        if s not in x.index:\n",
    "            values.append(0)\n",
    "        else: values.append(int(x.loc[s].values))\n",
    "    k1.extend(values)\n",
    "    print(\"lunghezza anno2013.  \",len(k1))\n",
    "\n",
    "\n",
    "    pytrends.build_payload(kword, cat=0, timeframe='2014-01-01 2014-12-31', geo='US', gprop='')\n",
    "    values = []\n",
    "\n",
    "\n",
    "    x = pytrends.interest_by_region()\n",
    "    for s in states.values():\n",
    "        if s not in x.index:\n",
    "            values.append(0)\n",
    "        else: values.append(int(x.loc[s].values))\n",
    "    k1.extend(values)\n",
    "    print(\"lunghezza anno2014   \",len(k1))\n",
    "\n",
    "\n",
    "    pytrends.build_payload(kword, cat=0, timeframe='2015-01-01 2015-12-31', geo='US', gprop='')\n",
    "    values = []\n",
    "\n",
    "\n",
    "    x = pytrends.interest_by_region()\n",
    "    for s in states.values():\n",
    "        if s not in x.index:\n",
    "            values.append(0)\n",
    "        else: values.append(int(x.loc[s].values))\n",
    "    k1.extend(values)\n",
    "    print(\"lunghezza anno2015   \",len(k1))\n",
    "\n",
    "\n",
    "    pytrends.build_payload(kword, cat=0, timeframe='2016-01-01 2016-12-31', geo='US', gprop='')\n",
    "    values = []\n",
    "\n",
    "\n",
    "    x = pytrends.interest_by_region()\n",
    "    for s in states.values():\n",
    "        if s not in x.index:\n",
    "            values.append(0)\n",
    "        else: values.append(int(x.loc[s].values))\n",
    "    k1.extend(values)\n",
    "    print(\"lunghezza anno2016   \",len(k1))\n",
    "\n",
    "\n",
    "    #print(k1)\n",
    "    #for i in range(len(k1)):\n",
    "    #    k1[i]= int(k1[i][0])\n",
    "        #print(int(k[i][0]))\n",
    "    return k1"
   ]
  },
  {
   "cell_type": "code",
   "execution_count": null,
   "metadata": {},
   "outputs": [],
   "source": [
    "i=0\n",
    "for word in kw_list:\n",
    "    k[:,i] = buildDF([word])\n",
    "    i +=1"
   ]
  },
  {
   "cell_type": "raw",
   "metadata": {},
   "source": [
    "k"
   ]
  },
  {
   "cell_type": "code",
   "execution_count": 109,
   "metadata": {},
   "outputs": [
    {
     "data": {
      "text/plain": [
       "(342, 209)"
      ]
     },
     "execution_count": 109,
     "metadata": {},
     "output_type": "execute_result"
    }
   ],
   "source": [
    "k.shape\n"
   ]
  },
  {
   "cell_type": "markdown",
   "metadata": {},
   "source": [
    "## arranging data for 1.1 corr not extending for each year the query results"
   ]
  },
  {
   "cell_type": "code",
   "execution_count": 10,
   "metadata": {},
   "outputs": [],
   "source": [
    "matrix = np.zeros(shape=(57,6))"
   ]
  },
  {
   "cell_type": "code",
   "execution_count": 13,
   "metadata": {},
   "outputs": [],
   "source": [
    "def buildDF1(kword):\n",
    "    k1 =[]\n",
    "    print( \" calculating indexes for \" ,kword)\n",
    "    pytrends.build_payload(kword, cat=0, timeframe='2011-01-01 2011-12-31', geo='US', gprop='')\n",
    "    values = []\n",
    "    x = pytrends.interest_by_region()\n",
    "    for s in states.values():\n",
    "        if s not in x.index:\n",
    "            values.append(0)\n",
    "        else: values.append(int(x.loc[s].values))\n",
    "    #print(values)\n",
    "    matrix[:,0]=(values)\n",
    "    #k1 += values\n",
    "    #print(k1)\n",
    "    print(\"lunghezza anno2011  \",len(k1))\n",
    "\n",
    "\n",
    "    \n",
    "    pytrends.build_payload(kword, cat=0, timeframe='2012-01-01 2012-12-31', geo='US', gprop='')\n",
    "    values = []\n",
    "\n",
    "\n",
    "    x = pytrends.interest_by_region()\n",
    "    for s in states.values():\n",
    "        if s not in x.index:\n",
    "            values.append(0)\n",
    "        else: values.append(int(x.loc[s].values))\n",
    "    matrix[:,1]=(values)\n",
    "\n",
    "    #k1 += values\n",
    "    #print(k1)\n",
    "\n",
    "\n",
    "    print(\"lunghezza anno2012   \",len(k1))\n",
    "\n",
    "    pytrends.build_payload(kword, cat=0, timeframe='2013-01-01 2013-12-31', geo='US', gprop='')\n",
    "    values = []\n",
    "\n",
    "\n",
    "    x = pytrends.interest_by_region()\n",
    "    for s in states.values():\n",
    "        if s not in x.index:\n",
    "            values.append(0)\n",
    "        else: values.append(int(x.loc[s].values))\n",
    "    matrix[:,2]=(values)\n",
    "\n",
    "    print(\"lunghezza anno2013.  \",len(k1))\n",
    "\n",
    "\n",
    "    pytrends.build_payload(kword, cat=0, timeframe='2014-01-01 2014-12-31', geo='US', gprop='')\n",
    "    values = []\n",
    "\n",
    "\n",
    "    x = pytrends.interest_by_region()\n",
    "    for s in states.values():\n",
    "        if s not in x.index:\n",
    "            values.append(0)\n",
    "        else: values.append(int(x.loc[s].values))\n",
    "    matrix[:,3]=(values)\n",
    "    print(\"lunghezza anno2014   \",len(k1))\n",
    "\n",
    "\n",
    "    pytrends.build_payload(kword, cat=0, timeframe='2015-01-01 2015-12-31', geo='US', gprop='')\n",
    "    values = []\n",
    "\n",
    "\n",
    "    x = pytrends.interest_by_region()\n",
    "    for s in states.values():\n",
    "        if s not in x.index:\n",
    "            values.append(0)\n",
    "        else: values.append(int(x.loc[s].values))\n",
    "    matrix[:,4]=(values)\n",
    "\n",
    "    print(\"lunghezza anno2015   \",len(k1))\n",
    "\n",
    "\n",
    "    pytrends.build_payload(kword, cat=0, timeframe='2016-01-01 2016-12-31', geo='US', gprop='')\n",
    "    values = []\n",
    "\n",
    "\n",
    "    x = pytrends.interest_by_region()\n",
    "    for s in states.values():\n",
    "        if s not in x.index:\n",
    "            values.append(0)\n",
    "        else: values.append(int(x.loc[s].values))\n",
    "    matrix[:,5]=(values)\n",
    "\n",
    "    print(\"lunghezza anno2016   \",len(k1))\n",
    "\n",
    "\n",
    "    #print(k1)\n",
    "    #for i in range(len(k1)):\n",
    "    #    k1[i]= int(k1[i][0])\n",
    "        #print(int(k[i][0]))\n",
    "    return matrix"
   ]
  },
  {
   "cell_type": "code",
   "execution_count": 14,
   "metadata": {},
   "outputs": [
    {
     "name": "stdout",
     "output_type": "stream",
     "text": [
      " calculating indexes for  ['renal']\n",
      "lunghezza anno2011   0\n",
      "lunghezza anno2012    0\n",
      "lunghezza anno2013.   0\n",
      "lunghezza anno2014    0\n",
      "lunghezza anno2015    0\n",
      "lunghezza anno2016    0\n"
     ]
    },
    {
     "data": {
      "text/plain": [
       "array([[  58.,   36.,   55.,   50.,   52.,   42.],\n",
       "       [  70.,   70.,   92.,   76.,   94.,   79.],\n",
       "       [  67.,   63.,   95.,   74.,   82.,   75.],\n",
       "       [   0.,    0.,    0.,    0.,    0.,    0.],\n",
       "       [  63.,   62.,   71.,   68.,   75.,   67.],\n",
       "       [  46.,   46.,   58.,   51.,   57.,   50.],\n",
       "       [  48.,   47.,   58.,   52.,   69.,   58.],\n",
       "       [  63.,   60.,   72.,   64.,   83.,   66.],\n",
       "       [  53.,   45.,   60.,   57.,   54.,   50.],\n",
       "       [  44.,   60.,   78.,   67.,   85.,   73.],\n",
       "       [  62.,   56.,   75.,   68.,   77.,   68.],\n",
       "       [  54.,   50.,   63.,   55.,   63.,   60.],\n",
       "       [   0.,    0.,    0.,    0.,    0.,    0.],\n",
       "       [  55.,   53.,   71.,   47.,   57.,   72.],\n",
       "       [  63.,   76.,   81.,   72.,   63.,   57.],\n",
       "       [  50.,   54.,   77.,   57.,   61.,   54.],\n",
       "       [  57.,   55.,   66.,   60.,   64.,   61.],\n",
       "       [  74.,   73.,   79.,   71.,   81.,   66.],\n",
       "       [  62.,   58.,   61.,   56.,   61.,   54.],\n",
       "       [  72.,   76.,   90.,   77.,   85.,   83.],\n",
       "       [  78.,   67.,   75.,   71.,   83.,   74.],\n",
       "       [  61.,   59.,   75.,   65.,   78.,   70.],\n",
       "       [  63.,   61.,   72.,   76.,   76.,   67.],\n",
       "       [  63.,   66.,   73.,   61.,   70.,   68.],\n",
       "       [  69.,   61.,   73.,   68.,   75.,   65.],\n",
       "       [  63.,   63.,   73.,   61.,   75.,   62.],\n",
       "       [  74.,   66.,   73.,   73.,   80.,   75.],\n",
       "       [   0.,    0.,    0.,    0.,    0.,    0.],\n",
       "       [  84.,   75.,   79.,   77.,   75.,   76.],\n",
       "       [  58.,   57.,   62.,   69.,   71.,   47.],\n",
       "       [   0.,    0.,    0.,    0.,    0.,    0.],\n",
       "       [  60.,   57.,   71.,   65.,   66.,   62.],\n",
       "       [  79.,   81.,   86.,   67.,   60.,   68.],\n",
       "       [  68.,   64.,   73.,   66.,   63.,   61.],\n",
       "       [  65.,   59.,   64.,   52.,   69.,   57.],\n",
       "       [  54.,   56.,   63.,   63.,   68.,   60.],\n",
       "       [  71.,   70.,   98.,   66.,   71.,   73.],\n",
       "       [  52.,   42.,   56.,   57.,   57.,   50.],\n",
       "       [  51.,   53.,   61.,   59.,   65.,   64.],\n",
       "       [  69.,   70.,   87.,   76.,   84.,   69.],\n",
       "       [  80.,   61.,   73.,   65.,   72.,   63.],\n",
       "       [  54.,   57.,   69.,   43.,   56.,   54.],\n",
       "       [  72.,   70.,   88.,   78.,   85.,   74.],\n",
       "       [   0.,    0.,    0.,    0.,    0.,    0.],\n",
       "       [  62.,   63.,   72.,   59.,   77.,   75.],\n",
       "       [  68.,   75.,   79.,   63.,   62.,   64.],\n",
       "       [  72.,   69.,   83.,  100.,  100.,   92.],\n",
       "       [ 100.,   94.,  100.,   92.,   98.,   89.],\n",
       "       [  56.,   52.,   70.,   61.,   70.,   65.],\n",
       "       [  51.,   54.,   53.,   48.,   58.,   51.],\n",
       "       [  54.,   52.,   65.,   46.,   47.,   59.],\n",
       "       [   0.,    0.,    0.,    0.,    0.,    0.],\n",
       "       [  45.,   60.,   73.,   62.,   53.,   50.],\n",
       "       [  48.,   41.,   55.,   48.,   57.,   52.],\n",
       "       [  63.,   55.,   67.,   64.,   68.,   59.],\n",
       "       [  91.,  100.,  100.,   86.,   95.,  100.],\n",
       "       [  38.,   34.,   66.,   59.,   69.,   54.]])"
      ]
     },
     "execution_count": 14,
     "metadata": {},
     "output_type": "execute_result"
    }
   ],
   "source": [
    "buildDF1([word])"
   ]
  },
  {
   "cell_type": "code",
   "execution_count": null,
   "metadata": {},
   "outputs": [],
   "source": []
  }
 ],
 "metadata": {
  "kernelspec": {
   "display_name": "Python 3",
   "language": "python",
   "name": "python3"
  },
  "language_info": {
   "codemirror_mode": {
    "name": "ipython",
    "version": 3
   },
   "file_extension": ".py",
   "mimetype": "text/x-python",
   "name": "python",
   "nbconvert_exporter": "python",
   "pygments_lexer": "ipython3",
   "version": "3.6.3"
  }
 },
 "nbformat": 4,
 "nbformat_minor": 2
}
