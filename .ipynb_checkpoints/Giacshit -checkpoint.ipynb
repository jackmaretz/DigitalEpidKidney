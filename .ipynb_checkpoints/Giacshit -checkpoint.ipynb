{
 "cells": [
  {
   "cell_type": "code",
   "execution_count": 187,
   "metadata": {},
   "outputs": [],
   "source": [
    "import pandas as pd\n",
    "import numpy as np\n",
    "from sklearn.model_selection import train_test_split\n",
    "from sklearn import linear_model\n",
    "import matplotlib.pyplot as plt\n",
    "from sklearn.linear_model import Lasso,Ridge\n",
    "\n",
    "\n",
    "\n"
   ]
  },
  {
   "cell_type": "code",
   "execution_count": 2,
   "metadata": {},
   "outputs": [],
   "source": [
    "df = pd.read_csv(\"data/output/output_complete.csv\",sep=\";\")\n",
    "\n"
   ]
  },
  {
   "cell_type": "code",
   "execution_count": 23,
   "metadata": {},
   "outputs": [],
   "source": [
    "dfY=df.iloc[:,1:]\n",
    "dfS=df.drop([\"Year\"],axis=1)\n"
   ]
  },
  {
   "cell_type": "markdown",
   "metadata": {},
   "source": [
    "# Spatial Cross validation"
   ]
  },
  {
   "cell_type": "code",
   "execution_count": 252,
   "metadata": {},
   "outputs": [],
   "source": [
    "train, validation = train_test_split(dfS, test_size=0.2)\n",
    "\n",
    "df_gt = pd.read_csv('data/BRFSS/2011_AA.csv', sep=\";\")\n",
    "states = df_gt[\"LocationDesc\"][0:51]\n"
   ]
  },
  {
   "cell_type": "code",
   "execution_count": 237,
   "metadata": {},
   "outputs": [
    {
     "name": "stdout",
     "output_type": "stream",
     "text": [
      " # mean LM: 0.42153830087\n",
      " # mean Lasso: 0.450547721089\n",
      " # mean Ridge: 0.389936875815\n",
      " # mean time cv:  0.420674299258\n"
     ]
    }
   ],
   "source": [
    "mseLM = []\n",
    "mseLasso = []\n",
    "mseRidge = []\n",
    "# LOO CrossValidation\n",
    "for state in states:\n",
    "    trainK = train.loc[train[\"State\"] == state]\n",
    "    testK = train.drop(trainK.index)\n",
    "\n",
    "    #LM\n",
    "    lm = linear_model.LinearRegression()\n",
    "    model = lm.fit(trainK.iloc[:,1:-1],trainK.iloc[:,-1])\n",
    "    predictions = lm.predict(testK.iloc[:,1:-1])\n",
    "    mseLM.append(np.mean((predictions - testK.iloc[:,-1])**2))\n",
    "\n",
    "\n",
    "    #Lasso\n",
    "    trainKnum = trainK.apply(pd.to_numeric, errors='coerce')\n",
    "    testKnum = testK.apply(pd.to_numeric, errors='coerce')\n",
    "    trainKnum.fillna(0, inplace=True)\n",
    "    testKnum.fillna(0, inplace=True)\n",
    "    \n",
    "    lassoReg = Lasso()\n",
    "    lassoReg.fit(trainK.iloc[:,1:-1],trainK.iloc[:,-1])\n",
    "    predLasso = lassoReg.predict(testK.iloc[:,1:-1])\n",
    "    mseLasso.append(np.mean((predLasso - testK.iloc[:,-1])**2))\n",
    "\n",
    "    #Ridge\n",
    "    ridgeReg = Ridge()\n",
    "    ridgeReg.fit(trainK.iloc[:,1:-1],trainK.iloc[:,-1])\n",
    "    predRidge = ridgeReg.predict(testK.iloc[:,1:-1])\n",
    "    mseRidge.append(np.mean((predRidge - testK.iloc[:,-1])**2))\n",
    "\n",
    "lmod = np.mean(mseLM)\n",
    "las = np.mean(mseLasso)\n",
    "ridge = np.mean(mseRidge)\n",
    "\n",
    "\n",
    "print(\" # mean LM:\",np.mean(mseLM))\n",
    "print(\" # mean Lasso:\",np.mean(mseLasso))\n",
    "print(\" # mean Ridge:\",np.mean(mseRidge))\n",
    "print(\" # mean time cv: \", np.mean([np.mean(mseLM),np.mean(mseLasso),np.mean(mseRidge)]))"
   ]
  },
  {
   "cell_type": "raw",
   "metadata": {},
   "source": [
    "# fit a model\n",
    "lm = linear_model.LinearRegression()\n",
    "model = lm.fit(trainK.iloc[:,1:-1],trainK.iloc[:,-1])\n",
    "predictions = lm.predict(testK.iloc[:,1:-1])\n",
    "np.mean((predictions - testK.iloc[:,-1])**2)"
   ]
  },
  {
   "cell_type": "markdown",
   "metadata": {},
   "source": [
    "# Temporal cross validation"
   ]
  },
  {
   "cell_type": "code",
   "execution_count": 238,
   "metadata": {},
   "outputs": [],
   "source": [
    "train, validation = train_test_split(dfY, test_size=0.2)\n",
    "\n"
   ]
  },
  {
   "cell_type": "code",
   "execution_count": 239,
   "metadata": {},
   "outputs": [
    {
     "name": "stdout",
     "output_type": "stream",
     "text": [
      " # mean LM: 0.313593420436\n",
      " # mean Lasso: 0.248200421478\n",
      " # mean Ridge: 0.313152564446\n",
      " # mean time cv:  0.29164880212\n"
     ]
    }
   ],
   "source": [
    "mseLM = []\n",
    "mseLasso = []\n",
    "mseRidge = []\n",
    "\n",
    "for year in [2011,2012,2013,2014,2015,2016]:\n",
    "    trainK = train.loc[train.Year == year]\n",
    "    testK = train.drop(trainK.index)\n",
    "    \n",
    "    \n",
    "    #lm\n",
    "    lm = linear_model.LinearRegression()\n",
    "    model = lm.fit(trainK.iloc[:,1:-1],trainK.iloc[:,-1])\n",
    "    predictions = lm.predict(testK.iloc[:,1:-1])\n",
    "    mseLM.append(np.mean((predictions - testK.iloc[:,-1])**2))\n",
    "\n",
    "\n",
    "    \n",
    "    #Lasso\n",
    "    trainKnum = trainK.apply(pd.to_numeric, errors='coerce')\n",
    "    testKnum = testK.apply(pd.to_numeric, errors='coerce')\n",
    "    trainKnum.fillna(0, inplace=True)\n",
    "    testKnum.fillna(0, inplace=True)\n",
    "    \n",
    "    lassoReg = Lasso(alpha=1)\n",
    "    lassoReg.fit(trainK.iloc[:,1:-1],trainK.iloc[:,-1])\n",
    "    predLasso = lassoReg.predict(testK.iloc[:,1:-1])\n",
    "    mseLasso.append(np.mean((predLasso - testK.iloc[:,-1])**2))\n",
    "\n",
    "    #Ridge\n",
    "    ridgeReg = Ridge(alpha=1)\n",
    "    ridgeReg.fit(trainK.iloc[:,1:-1],trainK.iloc[:,-1])\n",
    "    predRidge = ridgeReg.predict(testK.iloc[:,1:-1])\n",
    "    mseRidge.append(np.mean((predRidge - testK.iloc[:,-1])**2))\n",
    "\n",
    "lm2 = np.mean(mseLM)\n",
    "las2 = np.mean(mseLasso)\n",
    "ridge2 = np.mean(mseRidge)\n",
    "\n",
    "\n",
    "\n",
    "    \n",
    "\n",
    "print(\" # mean LM:\",np.mean(mseLM))\n",
    "print(\" # mean Lasso:\",np.mean(mseLasso))\n",
    "print(\" # mean Ridge:\",np.mean(mseRidge))\n",
    "print(\" # mean time cv: \", np.mean([np.mean(mseLM),np.mean(mseLasso),np.mean(mseRidge)]))"
   ]
  },
  {
   "cell_type": "code",
   "execution_count": 244,
   "metadata": {},
   "outputs": [
    {
     "name": "stdout",
     "output_type": "stream",
     "text": [
      "lm: 0.367565860653\n",
      "lasso: 0.349374071284\n",
      "ridge: 0.351544720131\n"
     ]
    }
   ],
   "source": [
    "print(\"lm:\", np.mean([lmod,lm2]))\n",
    "print(\"lasso:\", np.mean([las,las2]))\n",
    "print(\"ridge:\", np.mean([ridge,ridge2]))\n"
   ]
  },
  {
   "cell_type": "code",
   "execution_count": 249,
   "metadata": {},
   "outputs": [
    {
     "name": "stdout",
     "output_type": "stream",
     "text": [
      "mse; 0.14206162731477776\n"
     ]
    }
   ],
   "source": [
    "# lasso best model\n",
    "from sklearn.linear_model import Lasso\n",
    "lassoReg = Lasso(alpha=1)\n",
    "\n",
    "lassoReg.fit(train.iloc[:,1:-1],train.iloc[:,-1])\n",
    "\n",
    "pred2 = lassoReg.predict(validation.iloc[:,1:-1])\n",
    "\n",
    "# calculating mse\n",
    "\n",
    "mse = np.mean((pred2 - validation.iloc[:,-1])**2)\n",
    "\n",
    "print(\"mse;\",mse)"
   ]
  },
  {
   "cell_type": "code",
   "execution_count": 250,
   "metadata": {},
   "outputs": [
    {
     "data": {
      "text/plain": [
       "0.37416573867739417"
      ]
     },
     "execution_count": 250,
     "metadata": {},
     "output_type": "execute_result"
    }
   ],
   "source": [
    "np.sqrt(0.14)"
   ]
  },
  {
   "cell_type": "markdown",
   "metadata": {},
   "source": [
    "# Add to your model census features at the US state level (e.g., income data) and discuss how adding them impacts the predictive performance of the model.\n",
    "\n"
   ]
  },
  {
   "cell_type": "code",
   "execution_count": 253,
   "metadata": {},
   "outputs": [],
   "source": [
    "income= pd.read_csv(\"data/Poverty/income.csv\", sep=\";\")"
   ]
  },
  {
   "cell_type": "code",
   "execution_count": 255,
   "metadata": {},
   "outputs": [
    {
     "data": {
      "text/plain": [
       "0      42,116\n",
       "1      69,519\n",
       "2      47,493\n",
       "3      39,469\n",
       "4      58,509\n",
       "5      56,443\n",
       "6      67,223\n",
       "7      60,216\n",
       "8      64,486\n",
       "9      45,169\n",
       "10     46,731\n",
       "11     63,218\n",
       "12      44,36\n",
       "13     54,371\n",
       "14     47,214\n",
       "15     50,366\n",
       "16     49,952\n",
       "17     41,784\n",
       "18     42,303\n",
       "19     46,811\n",
       "20     71,298\n",
       "21     64,311\n",
       "22     46,754\n",
       "23     58,109\n",
       "24     37,515\n",
       "25     46,048\n",
       "26     45,206\n",
       "27     51,209\n",
       "28     49,965\n",
       "29     64,115\n",
       "        ...  \n",
       "276    75,297\n",
       "277    52,492\n",
       "278    65,599\n",
       "279    41,754\n",
       "280    51,746\n",
       "281    50,027\n",
       "282    56,927\n",
       "283     55,18\n",
       "284    70,936\n",
       "285    76,126\n",
       "286    46,748\n",
       "287    62,909\n",
       "288    50,584\n",
       "289    60,656\n",
       "290    52,334\n",
       "291    49,176\n",
       "292    57,532\n",
       "293    56,907\n",
       "294    60,596\n",
       "295    49,501\n",
       "296    54,467\n",
       "297    48,547\n",
       "298    56,565\n",
       "299    65,977\n",
       "300    57,677\n",
       "301    68,114\n",
       "302    67,106\n",
       "303    43,385\n",
       "304    56,811\n",
       "305    59,882\n",
       "Name: Income, Length: 306, dtype: object"
      ]
     },
     "execution_count": 255,
     "metadata": {},
     "output_type": "execute_result"
    }
   ],
   "source": [
    "income.Income"
   ]
  },
  {
   "cell_type": "code",
   "execution_count": null,
   "metadata": {},
   "outputs": [],
   "source": []
  }
 ],
 "metadata": {
  "kernelspec": {
   "display_name": "Python 3",
   "language": "python",
   "name": "python3"
  },
  "language_info": {
   "codemirror_mode": {
    "name": "ipython",
    "version": 3
   },
   "file_extension": ".py",
   "mimetype": "text/x-python",
   "name": "python",
   "nbconvert_exporter": "python",
   "pygments_lexer": "ipython3",
   "version": "3.6.3"
  }
 },
 "nbformat": 4,
 "nbformat_minor": 2
}
