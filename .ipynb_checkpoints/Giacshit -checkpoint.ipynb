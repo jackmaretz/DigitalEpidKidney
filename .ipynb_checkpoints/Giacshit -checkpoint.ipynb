{
 "cells": [
  {
   "cell_type": "code",
   "execution_count": 170,
   "metadata": {},
   "outputs": [],
   "source": [
    "import pandas as pd\n",
    "import numpy as np\n",
    "from sklearn.model_selection import train_test_split\n",
    "from sklearn import linear_model\n",
    "import matplotlib.pyplot as plt\n",
    "from sklearn.linear_model import Lasso,Ridge\n",
    "import random\n",
    "random.seed(123)"
   ]
  },
  {
   "cell_type": "code",
   "execution_count": 171,
   "metadata": {},
   "outputs": [
    {
     "data": {
      "text/html": [
       "<div>\n",
       "<style>\n",
       "    .dataframe thead tr:only-child th {\n",
       "        text-align: right;\n",
       "    }\n",
       "\n",
       "    .dataframe thead th {\n",
       "        text-align: left;\n",
       "    }\n",
       "\n",
       "    .dataframe tbody tr th {\n",
       "        vertical-align: top;\n",
       "    }\n",
       "</style>\n",
       "<table border=\"1\" class=\"dataframe\">\n",
       "  <thead>\n",
       "    <tr style=\"text-align: right;\">\n",
       "      <th></th>\n",
       "      <th>State</th>\n",
       "      <th>Year</th>\n",
       "      <th>nephroptosis</th>\n",
       "      <th>necrobiosis lipoidica</th>\n",
       "      <th>renal insufficiency</th>\n",
       "      <th>high blood pressure</th>\n",
       "      <th>iron overload</th>\n",
       "      <th>pyelitis</th>\n",
       "      <th>pulmonary emphysema</th>\n",
       "      <th>gout</th>\n",
       "      <th>...</th>\n",
       "      <th>sepsis</th>\n",
       "      <th>pemphigus</th>\n",
       "      <th>erythropoietin</th>\n",
       "      <th>diabetes mellitus</th>\n",
       "      <th>Kawasaki Disease</th>\n",
       "      <th>chronic renal failure</th>\n",
       "      <th>rheumatic fever</th>\n",
       "      <th>ballottement</th>\n",
       "      <th>rheumatism</th>\n",
       "      <th>Data_Value</th>\n",
       "    </tr>\n",
       "  </thead>\n",
       "  <tbody>\n",
       "    <tr>\n",
       "      <th>0</th>\n",
       "      <td>Alabama</td>\n",
       "      <td>2011</td>\n",
       "      <td>0</td>\n",
       "      <td>0</td>\n",
       "      <td>0</td>\n",
       "      <td>79</td>\n",
       "      <td>0</td>\n",
       "      <td>0</td>\n",
       "      <td>0</td>\n",
       "      <td>76</td>\n",
       "      <td>...</td>\n",
       "      <td>85</td>\n",
       "      <td>41</td>\n",
       "      <td>72</td>\n",
       "      <td>63</td>\n",
       "      <td>66</td>\n",
       "      <td>0</td>\n",
       "      <td>47</td>\n",
       "      <td>0</td>\n",
       "      <td>58</td>\n",
       "      <td>2.5</td>\n",
       "    </tr>\n",
       "    <tr>\n",
       "      <th>1</th>\n",
       "      <td>Alaska</td>\n",
       "      <td>2011</td>\n",
       "      <td>0</td>\n",
       "      <td>0</td>\n",
       "      <td>0</td>\n",
       "      <td>68</td>\n",
       "      <td>0</td>\n",
       "      <td>0</td>\n",
       "      <td>0</td>\n",
       "      <td>81</td>\n",
       "      <td>...</td>\n",
       "      <td>57</td>\n",
       "      <td>0</td>\n",
       "      <td>0</td>\n",
       "      <td>30</td>\n",
       "      <td>54</td>\n",
       "      <td>0</td>\n",
       "      <td>0</td>\n",
       "      <td>0</td>\n",
       "      <td>0</td>\n",
       "      <td>2.5</td>\n",
       "    </tr>\n",
       "    <tr>\n",
       "      <th>2</th>\n",
       "      <td>Arizona</td>\n",
       "      <td>2011</td>\n",
       "      <td>100</td>\n",
       "      <td>0</td>\n",
       "      <td>0</td>\n",
       "      <td>67</td>\n",
       "      <td>0</td>\n",
       "      <td>0</td>\n",
       "      <td>0</td>\n",
       "      <td>78</td>\n",
       "      <td>...</td>\n",
       "      <td>68</td>\n",
       "      <td>41</td>\n",
       "      <td>41</td>\n",
       "      <td>74</td>\n",
       "      <td>52</td>\n",
       "      <td>35</td>\n",
       "      <td>38</td>\n",
       "      <td>0</td>\n",
       "      <td>43</td>\n",
       "      <td>3.4</td>\n",
       "    </tr>\n",
       "    <tr>\n",
       "      <th>3</th>\n",
       "      <td>Arkansas</td>\n",
       "      <td>2011</td>\n",
       "      <td>0</td>\n",
       "      <td>0</td>\n",
       "      <td>0</td>\n",
       "      <td>89</td>\n",
       "      <td>0</td>\n",
       "      <td>0</td>\n",
       "      <td>0</td>\n",
       "      <td>83</td>\n",
       "      <td>...</td>\n",
       "      <td>79</td>\n",
       "      <td>42</td>\n",
       "      <td>45</td>\n",
       "      <td>63</td>\n",
       "      <td>57</td>\n",
       "      <td>0</td>\n",
       "      <td>62</td>\n",
       "      <td>0</td>\n",
       "      <td>41</td>\n",
       "      <td>2.8</td>\n",
       "    </tr>\n",
       "    <tr>\n",
       "      <th>4</th>\n",
       "      <td>California</td>\n",
       "      <td>2011</td>\n",
       "      <td>14</td>\n",
       "      <td>22</td>\n",
       "      <td>55</td>\n",
       "      <td>57</td>\n",
       "      <td>68</td>\n",
       "      <td>84</td>\n",
       "      <td>70</td>\n",
       "      <td>66</td>\n",
       "      <td>...</td>\n",
       "      <td>58</td>\n",
       "      <td>37</td>\n",
       "      <td>43</td>\n",
       "      <td>52</td>\n",
       "      <td>48</td>\n",
       "      <td>34</td>\n",
       "      <td>29</td>\n",
       "      <td>51</td>\n",
       "      <td>50</td>\n",
       "      <td>2.5</td>\n",
       "    </tr>\n",
       "  </tbody>\n",
       "</table>\n",
       "<p>5 rows × 111 columns</p>\n",
       "</div>"
      ],
      "text/plain": [
       "        State  Year  nephroptosis  necrobiosis lipoidica  renal insufficiency  \\\n",
       "0     Alabama  2011             0                      0                    0   \n",
       "1      Alaska  2011             0                      0                    0   \n",
       "2     Arizona  2011           100                      0                    0   \n",
       "3    Arkansas  2011             0                      0                    0   \n",
       "4  California  2011            14                     22                   55   \n",
       "\n",
       "   high blood pressure  iron overload  pyelitis  pulmonary emphysema  gout  \\\n",
       "0                   79              0         0                    0    76   \n",
       "1                   68              0         0                    0    81   \n",
       "2                   67              0         0                    0    78   \n",
       "3                   89              0         0                    0    83   \n",
       "4                   57             68        84                   70    66   \n",
       "\n",
       "      ...      sepsis  pemphigus  erythropoietin  diabetes mellitus  \\\n",
       "0     ...          85         41              72                 63   \n",
       "1     ...          57          0               0                 30   \n",
       "2     ...          68         41              41                 74   \n",
       "3     ...          79         42              45                 63   \n",
       "4     ...          58         37              43                 52   \n",
       "\n",
       "   Kawasaki Disease  chronic renal failure  rheumatic fever  ballottement  \\\n",
       "0                66                      0               47             0   \n",
       "1                54                      0                0             0   \n",
       "2                52                     35               38             0   \n",
       "3                57                      0               62             0   \n",
       "4                48                     34               29            51   \n",
       "\n",
       "   rheumatism  Data_Value  \n",
       "0          58         2.5  \n",
       "1           0         2.5  \n",
       "2          43         3.4  \n",
       "3          41         2.8  \n",
       "4          50         2.5  \n",
       "\n",
       "[5 rows x 111 columns]"
      ]
     },
     "execution_count": 171,
     "metadata": {},
     "output_type": "execute_result"
    }
   ],
   "source": [
    "df = pd.read_csv(\"data/output/output_complete.csv\",sep=\";\") # loading dataframe build in previous steps.\n",
    "df.head()"
   ]
  },
  {
   "cell_type": "code",
   "execution_count": 172,
   "metadata": {},
   "outputs": [],
   "source": [
    "dfY=df.iloc[:,1:]\n",
    "dfS=df.drop([\"Year\"],axis=1)"
   ]
  },
  {
   "cell_type": "markdown",
   "metadata": {},
   "source": [
    "### In the following steps we selected three linear regression models : a simple linear model, Ridge and Lasso.\n",
    "### For each model we computed the mean squared error."
   ]
  },
  {
   "cell_type": "markdown",
   "metadata": {},
   "source": [
    "# Spatial Cross validation\n",
    "In order to make spatial cross validation we used a sort of Leave-one(state)-out cross validation technique, for each state infact, we splitted the dataframe in train and test set and fitted the models and get a mean."
   ]
  },
  {
   "cell_type": "code",
   "execution_count": 173,
   "metadata": {},
   "outputs": [],
   "source": [
    "train, validation = train_test_split(dfS, test_size=0.2)\n",
    "\n",
    "df_gt = pd.read_csv('data/BRFSS/2011_AA.csv', sep=\";\")\n",
    "states = df_gt[\"LocationDesc\"][0:51]\n"
   ]
  },
  {
   "cell_type": "code",
   "execution_count": 174,
   "metadata": {},
   "outputs": [
    {
     "name": "stderr",
     "output_type": "stream",
     "text": [
      "/Users/giacomomaretto/anaconda3/lib/python3.6/site-packages/sklearn/linear_model/coordinate_descent.py:491: ConvergenceWarning: Objective did not converge. You might want to increase the number of iterations. Fitting data with very small alpha may cause precision problems.\n",
      "  ConvergenceWarning)\n"
     ]
    },
    {
     "name": "stdout",
     "output_type": "stream",
     "text": [
      "Mean mse LM: 0.400532722664\n",
      "Mean mse Lasso: 0.418107230784\n",
      "Mean mse Ridge: 0.374202638898\n",
      "Mean mse in spatial cv:  0.397614197449\n"
     ]
    }
   ],
   "source": [
    "mseLM = []\n",
    "mseLasso = []\n",
    "mseRidge = []\n",
    "# LOO CrossValidation\n",
    "for state in states:\n",
    "    trainK = train.loc[train[\"State\"] == state]\n",
    "    testK = train.drop(trainK.index)\n",
    "\n",
    "    #LM\n",
    "    lm = linear_model.LinearRegression()\n",
    "    model = lm.fit(trainK.iloc[:,1:-1],trainK.iloc[:,-1])\n",
    "    predictions = lm.predict(testK.iloc[:,1:-1])\n",
    "    mseLM.append(np.mean((predictions - testK.iloc[:,-1])**2))\n",
    "\n",
    "    #Lasso\n",
    "    trainKnum = trainK.apply(pd.to_numeric, errors='coerce')\n",
    "    testKnum = testK.apply(pd.to_numeric, errors='coerce')\n",
    "    trainKnum.fillna(0, inplace=True)\n",
    "    testKnum.fillna(0, inplace=True)\n",
    "    \n",
    "    lassoReg = Lasso()\n",
    "    lassoReg.fit(trainK.iloc[:,1:-1],trainK.iloc[:,-1])\n",
    "    predLasso = lassoReg.predict(testK.iloc[:,1:-1])\n",
    "    mseLasso.append(np.mean((predLasso - testK.iloc[:,-1])**2))\n",
    "\n",
    "    #Ridge\n",
    "    ridgeReg = Ridge()\n",
    "    ridgeReg.fit(trainK.iloc[:,1:-1],trainK.iloc[:,-1])\n",
    "    predRidge = ridgeReg.predict(testK.iloc[:,1:-1])\n",
    "    mseRidge.append(np.mean((predRidge - testK.iloc[:,-1])**2))\n",
    "\n",
    "lmod = np.mean(mseLM)\n",
    "las = np.mean(mseLasso)\n",
    "ridge = np.mean(mseRidge)\n",
    "\n",
    "\n",
    "print(\"Mean mse LM:\",np.mean(mseLM))\n",
    "print(\"Mean mse Lasso:\",np.mean(mseLasso))\n",
    "print(\"Mean mse Ridge:\",np.mean(mseRidge))\n",
    "print(\"Mean mse in spatial cv: \", np.mean([np.mean(mseLM),np.mean(mseLasso),np.mean(mseRidge)]))"
   ]
  },
  {
   "cell_type": "code",
   "execution_count": null,
   "metadata": {},
   "outputs": [],
   "source": []
  },
  {
   "cell_type": "markdown",
   "metadata": {},
   "source": [
    "# Temporal cross validation\n",
    "In order to make a temporal cross validation, we divided in folds the dataset , one for each year and divided in train test set according to this division, computed the models in each fold and get a mean of the error."
   ]
  },
  {
   "cell_type": "code",
   "execution_count": 175,
   "metadata": {},
   "outputs": [],
   "source": [
    "train, validation = train_test_split(dfY, test_size=0.2)"
   ]
  },
  {
   "cell_type": "code",
   "execution_count": 176,
   "metadata": {},
   "outputs": [
    {
     "name": "stdout",
     "output_type": "stream",
     "text": [
      "Mean mse LM: 0.310152865613\n",
      "Mean mse Lasso: 0.238407830627\n",
      "Mean mse Ridge: 0.309748084663\n",
      "Mean mse in temporal cv:  0.286102926968\n"
     ]
    }
   ],
   "source": [
    "mseLM = []\n",
    "mseLasso = []\n",
    "mseRidge = []\n",
    "\n",
    "for year in [2011,2012,2013,2014,2015,2016]:\n",
    "    trainK = train.loc[train.Year == year]\n",
    "    testK = train.drop(trainK.index)\n",
    "    \n",
    "    \n",
    "    #lm\n",
    "    lm = linear_model.LinearRegression()\n",
    "    model = lm.fit(trainK.iloc[:,1:-1],trainK.iloc[:,-1])\n",
    "    predictions = lm.predict(testK.iloc[:,1:-1])\n",
    "    mseLM.append(np.mean((predictions - testK.iloc[:,-1])**2))\n",
    "\n",
    "\n",
    "    \n",
    "    #Lasso\n",
    "    trainKnum = trainK.apply(pd.to_numeric, errors='coerce')\n",
    "    testKnum = testK.apply(pd.to_numeric, errors='coerce')\n",
    "    trainKnum.fillna(0, inplace=True)\n",
    "    testKnum.fillna(0, inplace=True)\n",
    "    \n",
    "    lassoReg = Lasso(alpha=1)\n",
    "    lassoReg.fit(trainK.iloc[:,1:-1],trainK.iloc[:,-1])\n",
    "    predLasso = lassoReg.predict(testK.iloc[:,1:-1])\n",
    "    mseLasso.append(np.mean((predLasso - testK.iloc[:,-1])**2))\n",
    "\n",
    "    #Ridge\n",
    "    ridgeReg = Ridge(alpha=1)\n",
    "    ridgeReg.fit(trainK.iloc[:,1:-1],trainK.iloc[:,-1])\n",
    "    predRidge = ridgeReg.predict(testK.iloc[:,1:-1])\n",
    "    mseRidge.append(np.mean((predRidge - testK.iloc[:,-1])**2))\n",
    "\n",
    "lm2 = np.mean(mseLM)\n",
    "las2 = np.mean(mseLasso)\n",
    "ridge2 = np.mean(mseRidge)\n",
    "\n",
    "\n",
    "\n",
    "    \n",
    "\n",
    "print(\"Mean mse LM:\",np.mean(mseLM))\n",
    "print(\"Mean mse Lasso:\",np.mean(mseLasso))\n",
    "print(\"Mean mse Ridge:\",np.mean(mseRidge))\n",
    "print(\"Mean mse in temporal cv: \", np.mean([np.mean(mseLM),np.mean(mseLasso),np.mean(mseRidge)]))"
   ]
  },
  {
   "cell_type": "markdown",
   "metadata": {},
   "source": [
    "## Mean of each model error in the two cross validation types"
   ]
  },
  {
   "cell_type": "code",
   "execution_count": 177,
   "metadata": {},
   "outputs": [
    {
     "name": "stdout",
     "output_type": "stream",
     "text": [
      "lm: 0.355342794139\n",
      "lasso: 0.328257530706\n",
      "ridge: 0.341975361781\n"
     ]
    }
   ],
   "source": [
    "print(\"lm:\", np.mean([lmod,lm2]))\n",
    "print(\"lasso:\", np.mean([las,las2]))\n",
    "print(\"ridge:\", np.mean([ridge,ridge2]))"
   ]
  },
  {
   "cell_type": "markdown",
   "metadata": {},
   "source": [
    "## Lasso was the best performing model so we selected it to train on all the train set and test it on the validation set (not used till now)"
   ]
  },
  {
   "cell_type": "code",
   "execution_count": 178,
   "metadata": {},
   "outputs": [
    {
     "name": "stdout",
     "output_type": "stream",
     "text": [
      "mse:  0.11522886762866626\n",
      "R squared:  0.34019578269\n"
     ]
    }
   ],
   "source": [
    "# lasso best model\n",
    "from sklearn.linear_model import Lasso\n",
    "lassoReg = Lasso(alpha=0.2)\n",
    "lassoReg.fit(train.iloc[:,1:-1],train.iloc[:,-1])\n",
    "pred2 = lassoReg.predict(validation.iloc[:,1:-1])\n",
    "# calculating mse\n",
    "mse = np.mean((pred2 - validation.iloc[:,-1])**2)\n",
    "print(\"mse: \",mse)\n",
    "print(\"R squared: \",lassoReg.score(validation.iloc[:,1:-1],validation.iloc[:,-1]))"
   ]
  },
  {
   "cell_type": "markdown",
   "metadata": {},
   "source": [
    "## We let the Lasso linear model select the variables for us, giving them a null coefficients so making their predicting effect absent in the final model."
   ]
  },
  {
   "cell_type": "code",
   "execution_count": 179,
   "metadata": {},
   "outputs": [
    {
     "data": {
      "image/png": "[encoded data removed]",
      "text/plain": [
       "<matplotlib.figure.Figure at 0x1a15e05908>"
      ]
     },
     "metadata": {},
     "output_type": "display_data"
    },
    {
     "name": "stdout",
     "output_type": "stream",
     "text": [
      "[  1.13337744e-03   2.04849115e-03   1.70005087e-03   1.11146744e-02\n",
      "  -3.63762532e-04   0.00000000e+00   0.00000000e+00   0.00000000e+00\n",
      "   3.60151976e-03  -5.02672697e-04  -1.64283956e-03  -0.00000000e+00\n",
      "  -1.09784071e-03   1.87956082e-04  -0.00000000e+00  -0.00000000e+00\n",
      "   3.32408061e-04  -0.00000000e+00   4.37246891e-03   1.14305611e-03\n",
      "   0.00000000e+00   1.51349959e-03   4.48612530e-03  -0.00000000e+00\n",
      "  -0.00000000e+00   0.00000000e+00   0.00000000e+00   3.04656833e-03\n",
      "   1.75821915e-03   0.00000000e+00   1.20347878e-03  -0.00000000e+00\n",
      "  -2.42694681e-05   0.00000000e+00  -0.00000000e+00   3.78201485e-03\n",
      "   1.80746108e-03   1.98370672e-03  -0.00000000e+00  -1.20862927e-03\n",
      "   2.00917646e-03  -1.02422839e-03   3.26145847e-04   5.50086584e-03\n",
      "   3.08870810e-03   0.00000000e+00  -0.00000000e+00   1.01427718e-04\n",
      "  -1.12731806e-03   1.66757972e-04  -0.00000000e+00  -1.40555217e-04\n",
      "   1.19088386e-03   0.00000000e+00   0.00000000e+00   8.54125109e-04\n",
      "   0.00000000e+00  -2.94640300e-03   3.42365749e-04   3.28233674e-03\n",
      "  -0.00000000e+00   0.00000000e+00  -0.00000000e+00   0.00000000e+00\n",
      "  -1.75234980e-05  -0.00000000e+00   0.00000000e+00   0.00000000e+00\n",
      "   4.24085184e-05  -1.43544355e-03  -0.00000000e+00   1.62116247e-03\n",
      "   0.00000000e+00  -6.12766458e-04  -1.91886394e-03  -1.50825500e-04\n",
      "  -3.58738907e-03  -0.00000000e+00  -0.00000000e+00  -4.51340766e-04\n",
      "  -0.00000000e+00  -1.04554945e-03  -0.00000000e+00  -2.70249693e-03\n",
      "  -0.00000000e+00  -0.00000000e+00  -1.04060805e-05  -2.64034492e-03\n",
      "  -2.59774767e-03  -1.01487673e-04  -0.00000000e+00  -8.53533116e-04\n",
      "  -0.00000000e+00   0.00000000e+00  -1.69924683e-03  -0.00000000e+00\n",
      "  -2.08110280e-03  -5.83613254e-03   0.00000000e+00  -0.00000000e+00\n",
      "   0.00000000e+00   0.00000000e+00  -0.00000000e+00  -4.64459377e-04\n",
      "   0.00000000e+00   0.00000000e+00  -3.99887324e-03  -1.65643210e-03]\n"
     ]
    }
   ],
   "source": [
    "predictors = train.iloc[:,1:-1].columns\n",
    "coef = pd.Series(lassoReg.coef_,predictors).sort_values()\n",
    "plt.figure(figsize=(20,10))\n",
    "coef.plot(kind='bar', title='Modal Coefficients',grid=True)\n",
    "plt.show()\n",
    "print(lassoReg.coef_)"
   ]
  },
  {
   "cell_type": "markdown",
   "metadata": {},
   "source": [
    "## Added to our model census features at the US state level (income data)\n",
    "## Adding the income variable we notice from the mse values that the predicting performance of our lasso model got better.\n",
    "\n",
    "\n"
   ]
  },
  {
   "cell_type": "code",
   "execution_count": 180,
   "metadata": {},
   "outputs": [],
   "source": [
    "income= pd.read_csv(\"DELIVER/income.csv\", sep=\";\")\n",
    "_2011i = income.iloc[:,1]\n",
    "_2012i = income.iloc[:,2]\n",
    "_2013i = income.iloc[:,3]\n",
    "_2014i = income.iloc[:,4]\n",
    "_2015i = income.iloc[:,5]\n",
    "_2016i = income.iloc[:,6]\n",
    "income=pd.concat([_2011i,_2012i,_2013i,_2014i,_2015i,_2016i])\n"
   ]
  },
  {
   "cell_type": "code",
   "execution_count": 181,
   "metadata": {},
   "outputs": [],
   "source": [
    "#dfs=pd.concat([dfS,income],axis=1)\n",
    "dfs=dfS\n",
    "dfs[\"income\"]=income.values\n",
    "X = dfs.drop(\"Data_Value\", axis = 1) \n",
    "y = dfs.Data_Value\n",
    "X = X.apply(pd.to_numeric, errors='coerce')\n",
    "y = y.apply(pd.to_numeric, errors='coerce')\n",
    "X.fillna(0, inplace=True)\n",
    "y.fillna(0, inplace=True)"
   ]
  },
  {
   "cell_type": "code",
   "execution_count": 182,
   "metadata": {},
   "outputs": [],
   "source": [
    "X_train, X_test, y_train, y_test = train_test_split(X, y, test_size=0.33, random_state=42)"
   ]
  },
  {
   "cell_type": "code",
   "execution_count": 183,
   "metadata": {},
   "outputs": [
    {
     "name": "stdout",
     "output_type": "stream",
     "text": [
      "mse : 0.12511227968310087\n",
      "R squared:  0.377726567276\n"
     ]
    }
   ],
   "source": [
    "from sklearn.linear_model import Lasso\n",
    "lassoReg = Lasso(alpha=0.2)\n",
    "lassoReg.fit(X_train,y_train)\n",
    "pred2 = lassoReg.predict(X_test)\n",
    "# calculating mse\n",
    "mse = np.mean((pred2 - y_test)**2)\n",
    "print(\"mse :\",mse)\n",
    "print(\"R squared: \",lassoReg.score(X_test,y_test))"
   ]
  },
  {
   "cell_type": "code",
   "execution_count": 184,
   "metadata": {},
   "outputs": [
    {
     "data": {
      "text/plain": [
       "0.1933583670510416"
      ]
     },
     "execution_count": 184,
     "metadata": {},
     "output_type": "execute_result"
    }
   ],
   "source": [
    "lm = linear_model.LinearRegression()\n",
    "model = lm.fit(X_train,y_train)\n",
    "predictions = lm.predict(X_test)\n",
    "(np.mean((predictions - y_test)**2))\n",
    "\n"
   ]
  },
  {
   "cell_type": "markdown",
   "metadata": {},
   "source": [
    "### As a result we get better results (mse reduction from 0.14 to 0.12) adding the \"income\" variable."
   ]
  },
  {
   "cell_type": "markdown",
   "metadata": {},
   "source": [
    "## We also added a state Health Insurance coverage indicator, for all the years"
   ]
  },
  {
   "cell_type": "code",
   "execution_count": 185,
   "metadata": {},
   "outputs": [],
   "source": [
    "health = pd.read_csv(\"DELIVER/health.csv\",sep=(\";\"))"
   ]
  },
  {
   "cell_type": "code",
   "execution_count": 186,
   "metadata": {},
   "outputs": [],
   "source": [
    "_2011 = health.iloc[:,1]\n",
    "_2012 = health.iloc[:,2]\n",
    "_2013 = health.iloc[:,3]\n",
    "_2014 = health.iloc[:,4]\n",
    "_2015 = health.iloc[:,5]\n",
    "_2016 = health.iloc[:,6]"
   ]
  },
  {
   "cell_type": "code",
   "execution_count": 187,
   "metadata": {},
   "outputs": [],
   "source": [
    "health=pd.concat([_2011,_2012,_2013,_2014,_2015,_2016])"
   ]
  },
  {
   "cell_type": "code",
   "execution_count": 188,
   "metadata": {},
   "outputs": [],
   "source": [
    "#dfs=pd.concat([dfS,income.Income],axis=1)\n",
    "dfs=dfS\n",
    "dfs[\"health\"]=health.values\n",
    "#dfs"
   ]
  },
  {
   "cell_type": "code",
   "execution_count": 189,
   "metadata": {},
   "outputs": [],
   "source": [
    "X = dfs.drop(\"Data_Value\", axis = 1) \n",
    "y = dfs.Data_Value\n",
    "X = dfs.drop(\"State\",axis=1)"
   ]
  },
  {
   "cell_type": "code",
   "execution_count": 190,
   "metadata": {},
   "outputs": [
    {
     "name": "stdout",
     "output_type": "stream",
     "text": [
      "mse : 0.1251122796831009\n",
      "R squared:  0.377726567276\n"
     ]
    }
   ],
   "source": [
    "X_train, X_test, y_train, y_test = train_test_split(X, y, test_size=0.33, random_state=42)\n",
    "lassoReg = Lasso(alpha=0.2)\n",
    "lassoReg.fit(X_train,y_train)\n",
    "pred2 = lassoReg.predict(X_test)\n",
    "# calculating mse\n",
    "mse = np.mean((pred2 - y_test)**2)\n",
    "print(\"mse :\",mse)\n",
    "print(\"R squared: \",lassoReg.score(X_test,y_test))\n",
    "\n"
   ]
  },
  {
   "cell_type": "markdown",
   "metadata": {},
   "source": [
    "## Strangely we got exact same results of the previous model, so we can imagine that the model excluded the \"health\" variable as not usefull for an improvement"
   ]
  },
  {
   "cell_type": "code",
   "execution_count": null,
   "metadata": {},
   "outputs": [],
   "source": []
  },
  {
   "cell_type": "code",
   "execution_count": 191,
   "metadata": {},
   "outputs": [
    {
     "data": {
      "text/plain": [
       "0     13.0\n",
       "1     18.2\n",
       "2     17.3\n",
       "3     17.5\n",
       "4     19.7\n",
       "5     15.7\n",
       "6      8.6\n",
       "7     10.0\n",
       "8      8.4\n",
       "9     19.8\n",
       "10    19.2\n",
       "11     7.8\n",
       "12    16.9\n",
       "13    14.7\n",
       "14    12.0\n",
       "15    10.0\n",
       "16    13.5\n",
       "17    14.4\n",
       "18    20.8\n",
       "19    10.0\n",
       "20    13.8\n",
       "21     3.4\n",
       "22    12.5\n",
       "23     9.2\n",
       "24    16.2\n",
       "25    14.9\n",
       "26    18.3\n",
       "27    12.3\n",
       "28    22.6\n",
       "29    12.5\n",
       "      ... \n",
       "21     2.5\n",
       "22     5.4\n",
       "23     4.1\n",
       "24    11.8\n",
       "25     8.9\n",
       "26     8.1\n",
       "27     8.6\n",
       "28    11.4\n",
       "29     5.9\n",
       "30     8.0\n",
       "31     9.2\n",
       "32     6.1\n",
       "33    10.4\n",
       "34     7.0\n",
       "35     5.6\n",
       "36    13.8\n",
       "37     6.2\n",
       "38     5.6\n",
       "39     4.3\n",
       "40    10.0\n",
       "41     8.7\n",
       "42     9.0\n",
       "43    16.6\n",
       "44     8.8\n",
       "45     3.7\n",
       "46     8.7\n",
       "47     6.0\n",
       "48     5.3\n",
       "49     5.3\n",
       "50    11.5\n",
       "Length: 306, dtype: float64"
      ]
     },
     "execution_count": 191,
     "metadata": {},
     "output_type": "execute_result"
    }
   ],
   "source": [
    "health"
   ]
  },
  {
   "cell_type": "code",
   "execution_count": 192,
   "metadata": {},
   "outputs": [
    {
     "ename": "NameError",
     "evalue": "name 'get' is not defined",
     "output_type": "error",
     "traceback": [
      "\u001b[0;31m---------------------------------------------------------------------------\u001b[0m",
      "\u001b[0;31mNameError\u001b[0m                                 Traceback (most recent call last)",
      "\u001b[0;32m<ipython-input-192-57f549257052>\u001b[0m in \u001b[0;36m<module>\u001b[0;34m()\u001b[0m\n\u001b[0;32m----> 1\u001b[0;31m \u001b[0mget\u001b[0m\u001b[0;34m.\u001b[0m\u001b[0mseed\u001b[0m\u001b[0;34m\u001b[0m\u001b[0m\n\u001b[0m",
      "\u001b[0;31mNameError\u001b[0m: name 'get' is not defined"
     ]
    }
   ],
   "source": [
    "get.seed"
   ]
  },
  {
   "cell_type": "code",
   "execution_count": null,
   "metadata": {},
   "outputs": [],
   "source": []
  }
 ],
 "metadata": {
  "kernelspec": {
   "display_name": "Python 3",
   "language": "python",
   "name": "python3"
  },
  "language_info": {
   "codemirror_mode": {
    "name": "ipython",
    "version": 3
   },
   "file_extension": ".py",
   "mimetype": "text/x-python",
   "name": "python",
   "nbconvert_exporter": "python",
   "pygments_lexer": "ipython3",
   "version": "3.6.3"
  }
 },
 "nbformat": 4,
 "nbformat_minor": 2
}
