{
 "cells": [
  {
   "cell_type": "code",
   "execution_count": 19,
   "metadata": {},
   "outputs": [],
   "source": [
    "import pandas as pd\n",
    "import numpy as np\n",
    "from sklearn.model_selection import train_test_split\n",
    "from sklearn import linear_model\n",
    "import matplotlib.pyplot as plt\n",
    "from sklearn.linear_model import Lasso,Ridge"
   ]
  },
  {
   "cell_type": "code",
   "execution_count": 25,
   "metadata": {},
   "outputs": [
    {
     "data": {
      "text/html": [
       "<div>\n",
       "<style>\n",
       "    .dataframe thead tr:only-child th {\n",
       "        text-align: right;\n",
       "    }\n",
       "\n",
       "    .dataframe thead th {\n",
       "        text-align: left;\n",
       "    }\n",
       "\n",
       "    .dataframe tbody tr th {\n",
       "        vertical-align: top;\n",
       "    }\n",
       "</style>\n",
       "<table border=\"1\" class=\"dataframe\">\n",
       "  <thead>\n",
       "    <tr style=\"text-align: right;\">\n",
       "      <th></th>\n",
       "      <th>State</th>\n",
       "      <th>Year</th>\n",
       "      <th>nephroptosis</th>\n",
       "      <th>necrobiosis lipoidica</th>\n",
       "      <th>renal insufficiency</th>\n",
       "      <th>high blood pressure</th>\n",
       "      <th>iron overload</th>\n",
       "      <th>pyelitis</th>\n",
       "      <th>pulmonary emphysema</th>\n",
       "      <th>gout</th>\n",
       "      <th>...</th>\n",
       "      <th>sepsis</th>\n",
       "      <th>pemphigus</th>\n",
       "      <th>erythropoietin</th>\n",
       "      <th>diabetes mellitus</th>\n",
       "      <th>Kawasaki Disease</th>\n",
       "      <th>chronic renal failure</th>\n",
       "      <th>rheumatic fever</th>\n",
       "      <th>ballottement</th>\n",
       "      <th>rheumatism</th>\n",
       "      <th>Data_Value</th>\n",
       "    </tr>\n",
       "  </thead>\n",
       "  <tbody>\n",
       "    <tr>\n",
       "      <th>0</th>\n",
       "      <td>Alabama</td>\n",
       "      <td>2011</td>\n",
       "      <td>0</td>\n",
       "      <td>0</td>\n",
       "      <td>0</td>\n",
       "      <td>79</td>\n",
       "      <td>0</td>\n",
       "      <td>0</td>\n",
       "      <td>0</td>\n",
       "      <td>76</td>\n",
       "      <td>...</td>\n",
       "      <td>85</td>\n",
       "      <td>41</td>\n",
       "      <td>72</td>\n",
       "      <td>63</td>\n",
       "      <td>66</td>\n",
       "      <td>0</td>\n",
       "      <td>47</td>\n",
       "      <td>0</td>\n",
       "      <td>58</td>\n",
       "      <td>2.5</td>\n",
       "    </tr>\n",
       "    <tr>\n",
       "      <th>1</th>\n",
       "      <td>Alaska</td>\n",
       "      <td>2011</td>\n",
       "      <td>0</td>\n",
       "      <td>0</td>\n",
       "      <td>0</td>\n",
       "      <td>68</td>\n",
       "      <td>0</td>\n",
       "      <td>0</td>\n",
       "      <td>0</td>\n",
       "      <td>81</td>\n",
       "      <td>...</td>\n",
       "      <td>57</td>\n",
       "      <td>0</td>\n",
       "      <td>0</td>\n",
       "      <td>30</td>\n",
       "      <td>54</td>\n",
       "      <td>0</td>\n",
       "      <td>0</td>\n",
       "      <td>0</td>\n",
       "      <td>0</td>\n",
       "      <td>2.5</td>\n",
       "    </tr>\n",
       "    <tr>\n",
       "      <th>2</th>\n",
       "      <td>Arizona</td>\n",
       "      <td>2011</td>\n",
       "      <td>100</td>\n",
       "      <td>0</td>\n",
       "      <td>0</td>\n",
       "      <td>67</td>\n",
       "      <td>0</td>\n",
       "      <td>0</td>\n",
       "      <td>0</td>\n",
       "      <td>78</td>\n",
       "      <td>...</td>\n",
       "      <td>68</td>\n",
       "      <td>41</td>\n",
       "      <td>41</td>\n",
       "      <td>74</td>\n",
       "      <td>52</td>\n",
       "      <td>35</td>\n",
       "      <td>38</td>\n",
       "      <td>0</td>\n",
       "      <td>43</td>\n",
       "      <td>3.4</td>\n",
       "    </tr>\n",
       "    <tr>\n",
       "      <th>3</th>\n",
       "      <td>Arkansas</td>\n",
       "      <td>2011</td>\n",
       "      <td>0</td>\n",
       "      <td>0</td>\n",
       "      <td>0</td>\n",
       "      <td>89</td>\n",
       "      <td>0</td>\n",
       "      <td>0</td>\n",
       "      <td>0</td>\n",
       "      <td>83</td>\n",
       "      <td>...</td>\n",
       "      <td>79</td>\n",
       "      <td>42</td>\n",
       "      <td>45</td>\n",
       "      <td>63</td>\n",
       "      <td>57</td>\n",
       "      <td>0</td>\n",
       "      <td>62</td>\n",
       "      <td>0</td>\n",
       "      <td>41</td>\n",
       "      <td>2.8</td>\n",
       "    </tr>\n",
       "    <tr>\n",
       "      <th>4</th>\n",
       "      <td>California</td>\n",
       "      <td>2011</td>\n",
       "      <td>14</td>\n",
       "      <td>22</td>\n",
       "      <td>55</td>\n",
       "      <td>57</td>\n",
       "      <td>68</td>\n",
       "      <td>84</td>\n",
       "      <td>70</td>\n",
       "      <td>66</td>\n",
       "      <td>...</td>\n",
       "      <td>58</td>\n",
       "      <td>37</td>\n",
       "      <td>43</td>\n",
       "      <td>52</td>\n",
       "      <td>48</td>\n",
       "      <td>34</td>\n",
       "      <td>29</td>\n",
       "      <td>51</td>\n",
       "      <td>50</td>\n",
       "      <td>2.5</td>\n",
       "    </tr>\n",
       "  </tbody>\n",
       "</table>\n",
       "<p>5 rows × 111 columns</p>\n",
       "</div>"
      ],
      "text/plain": [
       "        State  Year  nephroptosis  necrobiosis lipoidica  renal insufficiency  \\\n",
       "0     Alabama  2011             0                      0                    0   \n",
       "1      Alaska  2011             0                      0                    0   \n",
       "2     Arizona  2011           100                      0                    0   \n",
       "3    Arkansas  2011             0                      0                    0   \n",
       "4  California  2011            14                     22                   55   \n",
       "\n",
       "   high blood pressure  iron overload  pyelitis  pulmonary emphysema  gout  \\\n",
       "0                   79              0         0                    0    76   \n",
       "1                   68              0         0                    0    81   \n",
       "2                   67              0         0                    0    78   \n",
       "3                   89              0         0                    0    83   \n",
       "4                   57             68        84                   70    66   \n",
       "\n",
       "      ...      sepsis  pemphigus  erythropoietin  diabetes mellitus  \\\n",
       "0     ...          85         41              72                 63   \n",
       "1     ...          57          0               0                 30   \n",
       "2     ...          68         41              41                 74   \n",
       "3     ...          79         42              45                 63   \n",
       "4     ...          58         37              43                 52   \n",
       "\n",
       "   Kawasaki Disease  chronic renal failure  rheumatic fever  ballottement  \\\n",
       "0                66                      0               47             0   \n",
       "1                54                      0                0             0   \n",
       "2                52                     35               38             0   \n",
       "3                57                      0               62             0   \n",
       "4                48                     34               29            51   \n",
       "\n",
       "   rheumatism  Data_Value  \n",
       "0          58         2.5  \n",
       "1           0         2.5  \n",
       "2          43         3.4  \n",
       "3          41         2.8  \n",
       "4          50         2.5  \n",
       "\n",
       "[5 rows x 111 columns]"
      ]
     },
     "execution_count": 25,
     "metadata": {},
     "output_type": "execute_result"
    }
   ],
   "source": [
    "df = pd.read_csv(\"data/output/output_complete.csv\",sep=\";\") # loading dataframe build in previous steps.\n",
    "df.head()"
   ]
  },
  {
   "cell_type": "code",
   "execution_count": 21,
   "metadata": {},
   "outputs": [],
   "source": [
    "dfY=df.iloc[:,1:]\n",
    "dfS=df.drop([\"Year\"],axis=1)"
   ]
  },
  {
   "cell_type": "markdown",
   "metadata": {},
   "source": [
    "### In the following steps we selected three linear regression models : a simple linear model, Ridge and Lasso.\n",
    "### For each model we computed the mean squared error."
   ]
  },
  {
   "cell_type": "markdown",
   "metadata": {},
   "source": [
    "# Spatial Cross validation\n",
    "In order to make spatial cross validation we used a sort of Leave-one(state)-out cross validation technique, for each state infact, we splitted the dataframe in train and test set and fitted the models and get a mean."
   ]
  },
  {
   "cell_type": "code",
   "execution_count": 50,
   "metadata": {},
   "outputs": [],
   "source": [
    "train, validation = train_test_split(dfS, test_size=0.2)\n",
    "\n",
    "df_gt = pd.read_csv('data/BRFSS/2011_AA.csv', sep=\";\")\n",
    "states = df_gt[\"LocationDesc\"][0:51]\n"
   ]
  },
  {
   "cell_type": "code",
   "execution_count": 53,
   "metadata": {},
   "outputs": [
    {
     "name": "stdout",
     "output_type": "stream",
     "text": [
      "Mean mse LM: 0.438561470771\n",
      "Mean mse Lasso: 0.449942787411\n",
      "Mean mse Ridge: 0.408541184161\n",
      "Mean mse in spatial cv:  0.432348480781\n"
     ]
    }
   ],
   "source": [
    "mseLM = []\n",
    "mseLasso = []\n",
    "mseRidge = []\n",
    "# LOO CrossValidation\n",
    "for state in states:\n",
    "    trainK = train.loc[train[\"State\"] == state]\n",
    "    testK = train.drop(trainK.index)\n",
    "\n",
    "    #LM\n",
    "    lm = linear_model.LinearRegression()\n",
    "    model = lm.fit(trainK.iloc[:,1:-1],trainK.iloc[:,-1])\n",
    "    predictions = lm.predict(testK.iloc[:,1:-1])\n",
    "    mseLM.append(np.mean((predictions - testK.iloc[:,-1])**2))\n",
    "\n",
    "    #Lasso\n",
    "    trainKnum = trainK.apply(pd.to_numeric, errors='coerce')\n",
    "    testKnum = testK.apply(pd.to_numeric, errors='coerce')\n",
    "    trainKnum.fillna(0, inplace=True)\n",
    "    testKnum.fillna(0, inplace=True)\n",
    "    \n",
    "    lassoReg = Lasso()\n",
    "    lassoReg.fit(trainK.iloc[:,1:-1],trainK.iloc[:,-1])\n",
    "    predLasso = lassoReg.predict(testK.iloc[:,1:-1])\n",
    "    mseLasso.append(np.mean((predLasso - testK.iloc[:,-1])**2))\n",
    "\n",
    "    #Ridge\n",
    "    ridgeReg = Ridge()\n",
    "    ridgeReg.fit(trainK.iloc[:,1:-1],trainK.iloc[:,-1])\n",
    "    predRidge = ridgeReg.predict(testK.iloc[:,1:-1])\n",
    "    mseRidge.append(np.mean((predRidge - testK.iloc[:,-1])**2))\n",
    "\n",
    "lmod = np.mean(mseLM)\n",
    "las = np.mean(mseLasso)\n",
    "ridge = np.mean(mseRidge)\n",
    "\n",
    "\n",
    "print(\"Mean mse LM:\",np.mean(mseLM))\n",
    "print(\"Mean mse Lasso:\",np.mean(mseLasso))\n",
    "print(\"Mean mse Ridge:\",np.mean(mseRidge))\n",
    "print(\"Mean mse in spatial cv: \", np.mean([np.mean(mseLM),np.mean(mseLasso),np.mean(mseRidge)]))"
   ]
  },
  {
   "cell_type": "code",
   "execution_count": 28,
   "metadata": {},
   "outputs": [
    {
     "data": {
      "text/plain": [
       "array([ 0.        ,  0.        ,  0.        ,  0.        ,  0.        ,\n",
       "        0.        ,  0.        ,  0.        ,  0.        ,  0.        ,\n",
       "        0.        ,  0.        ,  0.        , -0.        ,  0.        ,\n",
       "        0.        ,  0.        ,  0.        ,  0.        ,  0.        ,\n",
       "        0.00255745,  0.        ,  0.        ,  0.        ,  0.        ,\n",
       "       -0.        ,  0.        ,  0.        ,  0.        ,  0.        ,\n",
       "        0.        ,  0.        ,  0.        ,  0.        ,  0.        ,\n",
       "        0.        ,  0.        ,  0.        ,  0.        ,  0.        ,\n",
       "        0.        ,  0.        ,  0.        ,  0.        , -0.        ,\n",
       "        0.        ,  0.        ,  0.        ,  0.        ,  0.        ,\n",
       "       -0.01300552, -0.        ,  0.        ,  0.        ,  0.        ,\n",
       "        0.        , -0.        ,  0.        ,  0.        ,  0.        ,\n",
       "        0.        ,  0.        ,  0.        ,  0.        ,  0.        ,\n",
       "        0.        ,  0.        ,  0.        ,  0.        ,  0.        ,\n",
       "        0.        ,  0.        ,  0.        ,  0.        , -0.        ,\n",
       "        0.        ,  0.        ,  0.        , -0.        ,  0.        ,\n",
       "        0.        ,  0.        ,  0.        ,  0.        ,  0.        ,\n",
       "        0.        ,  0.        ,  0.        ,  0.        ,  0.        ,\n",
       "       -0.        ,  0.        ,  0.        ,  0.        ,  0.        ,\n",
       "        0.        ,  0.        ,  0.        , -0.        , -0.        ,\n",
       "        0.        ,  0.        , -0.        ,  0.        ,  0.        ,\n",
       "        0.        ,  0.        ,  0.        ])"
      ]
     },
     "execution_count": 28,
     "metadata": {},
     "output_type": "execute_result"
    }
   ],
   "source": []
  },
  {
   "cell_type": "markdown",
   "metadata": {},
   "source": [
    "# Temporal cross validation\n",
    "In order to make a temporal cross validation, we divided in folds the dataset , one for each year and divided in train test set according to this division, computed the models in each fold and get a mean of the error."
   ]
  },
  {
   "cell_type": "code",
   "execution_count": 55,
   "metadata": {},
   "outputs": [],
   "source": [
    "train, validation = train_test_split(dfY, test_size=0.2)"
   ]
  },
  {
   "cell_type": "code",
   "execution_count": 56,
   "metadata": {},
   "outputs": [
    {
     "name": "stdout",
     "output_type": "stream",
     "text": [
      "Mean mse LM: 0.294498121396\n",
      "Mean mse Lasso: 0.237967320947\n",
      "Mean mse Ridge: 0.294709725722\n",
      "Mean mse in temporal cv:  0.275725056021\n"
     ]
    }
   ],
   "source": [
    "mseLM = []\n",
    "mseLasso = []\n",
    "mseRidge = []\n",
    "\n",
    "for year in [2011,2012,2013,2014,2015,2016]:\n",
    "    trainK = train.loc[train.Year == year]\n",
    "    testK = train.drop(trainK.index)\n",
    "    \n",
    "    \n",
    "    #lm\n",
    "    lm = linear_model.LinearRegression()\n",
    "    model = lm.fit(trainK.iloc[:,1:-1],trainK.iloc[:,-1])\n",
    "    predictions = lm.predict(testK.iloc[:,1:-1])\n",
    "    mseLM.append(np.mean((predictions - testK.iloc[:,-1])**2))\n",
    "\n",
    "\n",
    "    \n",
    "    #Lasso\n",
    "    trainKnum = trainK.apply(pd.to_numeric, errors='coerce')\n",
    "    testKnum = testK.apply(pd.to_numeric, errors='coerce')\n",
    "    trainKnum.fillna(0, inplace=True)\n",
    "    testKnum.fillna(0, inplace=True)\n",
    "    \n",
    "    lassoReg = Lasso(alpha=1)\n",
    "    lassoReg.fit(trainK.iloc[:,1:-1],trainK.iloc[:,-1])\n",
    "    predLasso = lassoReg.predict(testK.iloc[:,1:-1])\n",
    "    mseLasso.append(np.mean((predLasso - testK.iloc[:,-1])**2))\n",
    "\n",
    "    #Ridge\n",
    "    ridgeReg = Ridge(alpha=1)\n",
    "    ridgeReg.fit(trainK.iloc[:,1:-1],trainK.iloc[:,-1])\n",
    "    predRidge = ridgeReg.predict(testK.iloc[:,1:-1])\n",
    "    mseRidge.append(np.mean((predRidge - testK.iloc[:,-1])**2))\n",
    "\n",
    "lm2 = np.mean(mseLM)\n",
    "las2 = np.mean(mseLasso)\n",
    "ridge2 = np.mean(mseRidge)\n",
    "\n",
    "\n",
    "\n",
    "    \n",
    "\n",
    "print(\"Mean mse LM:\",np.mean(mseLM))\n",
    "print(\"Mean mse Lasso:\",np.mean(mseLasso))\n",
    "print(\"Mean mse Ridge:\",np.mean(mseRidge))\n",
    "print(\"Mean mse in temporal cv: \", np.mean([np.mean(mseLM),np.mean(mseLasso),np.mean(mseRidge)]))"
   ]
  },
  {
   "cell_type": "markdown",
   "metadata": {},
   "source": [
    "## Mean of each model error in the two cross validation types"
   ]
  },
  {
   "cell_type": "code",
   "execution_count": 8,
   "metadata": {},
   "outputs": [
    {
     "name": "stdout",
     "output_type": "stream",
     "text": [
      "lm: 0.352165460288\n",
      "lasso: 0.327865238565\n",
      "ridge: 0.336222731741\n"
     ]
    }
   ],
   "source": [
    "print(\"lm:\", np.mean([lmod,lm2]))\n",
    "print(\"lasso:\", np.mean([las,las2]))\n",
    "print(\"ridge:\", np.mean([ridge,ridge2]))"
   ]
  },
  {
   "cell_type": "markdown",
   "metadata": {},
   "source": [
    "## Lasso was the best performing model so we selected it to train on all the train set and test it on the validation set (not used till now)"
   ]
  },
  {
   "cell_type": "code",
   "execution_count": 37,
   "metadata": {},
   "outputs": [
    {
     "name": "stdout",
     "output_type": "stream",
     "text": [
      "mse:  0.14188138307511242\n",
      "R squared:  0.365771590082\n"
     ]
    }
   ],
   "source": [
    "# lasso best model\n",
    "from sklearn.linear_model import Lasso\n",
    "lassoReg = Lasso(alpha=0.2)\n",
    "lassoReg.fit(train.iloc[:,1:-1],train.iloc[:,-1])\n",
    "pred2 = lassoReg.predict(validation.iloc[:,1:-1])\n",
    "# calculating mse\n",
    "mse = np.mean((pred2 - validation.iloc[:,-1])**2)\n",
    "print(\"mse: \",mse)\n",
    "print(\"R squared: \",lassoReg.score(validation.iloc[:,1:-1],validation.iloc[:,-1]))"
   ]
  },
  {
   "cell_type": "markdown",
   "metadata": {},
   "source": [
    "## We let the Lasso linear model select the variables for us, giving them a null coefficients so making their predicting effect absent in the final model."
   ]
  },
  {
   "cell_type": "code",
   "execution_count": 44,
   "metadata": {},
   "outputs": [
    {
     "data": {
      "image/png": "[encoded data removed]",
      "text/plain": [
       "<matplotlib.figure.Figure at 0x10af61c18>"
      ]
     },
     "metadata": {},
     "output_type": "display_data"
    },
    {
     "name": "stdout",
     "output_type": "stream",
     "text": [
      "[  1.68685598e-03   1.78483362e-03   5.05350274e-04   7.89603608e-03\n",
      "  -2.93797848e-04   1.04624558e-03   0.00000000e+00   0.00000000e+00\n",
      "   4.05412474e-03  -1.88000405e-04  -1.93141319e-03  -0.00000000e+00\n",
      "  -7.29345213e-04   1.26608881e-03  -0.00000000e+00   0.00000000e+00\n",
      "   1.27265788e-03  -0.00000000e+00   2.71566908e-03   2.07427721e-03\n",
      "   0.00000000e+00   1.27345514e-03   5.01263385e-03  -0.00000000e+00\n",
      "   0.00000000e+00   0.00000000e+00  -0.00000000e+00   3.41409385e-03\n",
      "   1.15711051e-03   7.92040469e-04   2.80953357e-03   8.19044677e-04\n",
      "  -0.00000000e+00   0.00000000e+00  -0.00000000e+00   1.49067174e-03\n",
      "   1.32014444e-03   8.71404413e-04  -2.27887303e-05  -0.00000000e+00\n",
      "   1.72416238e-03  -7.91260613e-04   1.62512256e-03   3.94704545e-03\n",
      "   2.62942201e-03   0.00000000e+00   0.00000000e+00   7.68223001e-04\n",
      "  -0.00000000e+00   1.12880458e-03  -5.28328850e-04  -2.90460546e-04\n",
      "   0.00000000e+00   0.00000000e+00   0.00000000e+00   1.49510465e-03\n",
      "   0.00000000e+00  -3.58776136e-03   2.26671937e-04   9.31544658e-04\n",
      "  -0.00000000e+00   5.00570252e-04  -0.00000000e+00   0.00000000e+00\n",
      "  -0.00000000e+00  -0.00000000e+00  -0.00000000e+00   0.00000000e+00\n",
      "   0.00000000e+00  -6.23432285e-04  -1.78741279e-03   1.41157319e-03\n",
      "   0.00000000e+00  -0.00000000e+00  -6.37693647e-04  -0.00000000e+00\n",
      "  -4.01571305e-03   0.00000000e+00  -7.44235061e-04  -1.33240535e-04\n",
      "  -0.00000000e+00  -8.07126193e-04   0.00000000e+00  -3.89435197e-03\n",
      "  -0.00000000e+00   0.00000000e+00  -0.00000000e+00  -3.62736611e-03\n",
      "  -3.17071143e-03  -1.31860427e-03  -0.00000000e+00  -6.26517451e-04\n",
      "  -4.46642523e-04   0.00000000e+00  -1.85030373e-03  -5.13068996e-04\n",
      "  -0.00000000e+00  -8.27783881e-03  -0.00000000e+00   0.00000000e+00\n",
      "   0.00000000e+00  -0.00000000e+00  -1.03762017e-03  -2.74679191e-04\n",
      "   1.46242933e-03   0.00000000e+00  -2.57712285e-03  -1.20826877e-03]\n"
     ]
    }
   ],
   "source": [
    "predictors = train.iloc[:,1:-1].columns\n",
    "coef = pd.Series(lassoReg.coef_,predictors).sort_values()\n",
    "plt.figure(figsize=(20,10))\n",
    "coef.plot(kind='bar', title='Modal Coefficients',grid=True)\n",
    "plt.show()\n",
    "print(lassoReg.coef_)"
   ]
  },
  {
   "cell_type": "markdown",
   "metadata": {},
   "source": [
    "## Added to our model census features at the US state level (income data)\n",
    "## Adding the income variable we notice from the mse values that the predicting performance of our lasso model got better.\n",
    "\n",
    "\n"
   ]
  },
  {
   "cell_type": "code",
   "execution_count": 10,
   "metadata": {},
   "outputs": [],
   "source": [
    "income= pd.read_csv(\"data/Poverty/income.csv\", sep=\";\")"
   ]
  },
  {
   "cell_type": "code",
   "execution_count": 11,
   "metadata": {},
   "outputs": [],
   "source": [
    "dfs=pd.concat([dfS,income.Income],axis=1)\n",
    "X = dfs.drop(\"Data_Value\", axis = 1) \n",
    "y = dfs.Data_Value\n",
    "X = X.apply(pd.to_numeric, errors='coerce')\n",
    "y = y.apply(pd.to_numeric, errors='coerce')\n",
    "X.fillna(0, inplace=True)\n",
    "y.fillna(0, inplace=True)"
   ]
  },
  {
   "cell_type": "code",
   "execution_count": 12,
   "metadata": {},
   "outputs": [],
   "source": [
    "X_train, X_test, y_train, y_test = train_test_split(X, y, test_size=0.33, random_state=42)"
   ]
  },
  {
   "cell_type": "code",
   "execution_count": 13,
   "metadata": {},
   "outputs": [
    {
     "name": "stdout",
     "output_type": "stream",
     "text": [
      "mse : 0.125246673343142\n",
      "R squared:  0.377058130858\n"
     ]
    }
   ],
   "source": [
    "from sklearn.linear_model import Lasso\n",
    "lassoReg = Lasso(alpha=0.2)\n",
    "lassoReg.fit(X_train,y_train)\n",
    "pred2 = lassoReg.predict(X_test)\n",
    "# calculating mse\n",
    "mse = np.mean((pred2 - y_test)**2)\n",
    "print(\"mse :\",mse)\n",
    "print(\"R squared: \",lassoReg.score(X_test,y_test))"
   ]
  },
  {
   "cell_type": "markdown",
   "metadata": {},
   "source": [
    "### As a result we get better results (mse reduction from 0.14 to 0.12) adding the \"income\" variable."
   ]
  },
  {
   "cell_type": "markdown",
   "metadata": {},
   "source": [
    "## We also added a state Health Insurance coverage indicator, for all the years"
   ]
  },
  {
   "cell_type": "code",
   "execution_count": 14,
   "metadata": {},
   "outputs": [],
   "source": [
    "health = pd.read_csv(\"data/health.csv\",sep=(\";\"))"
   ]
  },
  {
   "cell_type": "code",
   "execution_count": 15,
   "metadata": {},
   "outputs": [],
   "source": [
    "_2011 = health.iloc[:,1]\n",
    "_2012 = health.iloc[:,2]\n",
    "_2013 = health.iloc[:,3]\n",
    "_2014 = health.iloc[:,4]\n",
    "_2015 = health.iloc[:,5]\n",
    "_2016 = health.iloc[:,6]"
   ]
  },
  {
   "cell_type": "code",
   "execution_count": 16,
   "metadata": {},
   "outputs": [],
   "source": [
    "health=pd.concat([_2011,_2012,_2013,_2014,_2015,_2016])"
   ]
  },
  {
   "cell_type": "code",
   "execution_count": 58,
   "metadata": {},
   "outputs": [],
   "source": [
    "dfs=pd.concat([dfS,income.Income],axis=1)\n",
    "dfs[\"health\"]=health.values"
   ]
  },
  {
   "cell_type": "code",
   "execution_count": 59,
   "metadata": {},
   "outputs": [
    {
     "name": "stdout",
     "output_type": "stream",
     "text": [
      "mse : 0.125246673343142\n",
      "R squared:  0.377058130858\n"
     ]
    }
   ],
   "source": [
    "X = dfs.drop(\"Data_Value\", axis = 1) \n",
    "y = dfs.Data_Value\n",
    "X = X.apply(pd.to_numeric, errors='coerce')\n",
    "y = y.apply(pd.to_numeric, errors='coerce')\n",
    "X.fillna(0, inplace=True)\n",
    "y.fillna(0, inplace=True)\n",
    "X_train, X_test, y_train, y_test = train_test_split(X, y, test_size=0.33, random_state=42)\n",
    "lassoReg = Lasso(alpha=0.2)\n",
    "lassoReg.fit(X_train,y_train)\n",
    "pred2 = lassoReg.predict(X_test)\n",
    "# calculating mse\n",
    "mse = np.mean((pred2 - y_test)**2)\n",
    "print(\"mse :\",mse)\n",
    "print(\"R squared: \",lassoReg.score(X_test,y_test))"
   ]
  },
  {
   "cell_type": "markdown",
   "metadata": {},
   "source": [
    "## Strangely we got exact same results of the previous model, so we "
   ]
  },
  {
   "cell_type": "code",
   "execution_count": null,
   "metadata": {},
   "outputs": [],
   "source": []
  }
 ],
 "metadata": {
  "kernelspec": {
   "display_name": "Python 3",
   "language": "python",
   "name": "python3"
  },
  "language_info": {
   "codemirror_mode": {
    "name": "ipython",
    "version": 3
   },
   "file_extension": ".py",
   "mimetype": "text/x-python",
   "name": "python",
   "nbconvert_exporter": "python",
   "pygments_lexer": "ipython3",
   "version": "3.6.3"
  }
 },
 "nbformat": 4,
 "nbformat_minor": 2
}
