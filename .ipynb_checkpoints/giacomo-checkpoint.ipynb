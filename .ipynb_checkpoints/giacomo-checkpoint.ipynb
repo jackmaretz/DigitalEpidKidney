{
 "cells": [
  {
   "cell_type": "markdown",
   "metadata": {},
   "source": [
    "##### 1.1a\n",
    "- Rescaling values required\n",
    "- I want to get a correlation value per state (crude)\n",
    "- I want to get a correlation value per state (age adjusted)"
   ]
  },
  {
   "cell_type": "markdown",
   "metadata": {},
   "source": [
    "##### 1.1b\n",
    "- I want to get a correlation per year of all the states.\n",
    "so: "
   ]
  },
  {
   "cell_type": "code",
   "execution_count": null,
   "metadata": {},
   "outputs": [],
   "source": [
    "for states in states:\n",
    "    cor.append(cor(statesYear1,stateYear1))\n",
    "    "
   ]
  },
  {
   "cell_type": "code",
   "execution_count": 2,
   "metadata": {},
   "outputs": [],
   "source": [
    "import pandas as pd\n",
    "import numpy as np\n",
    "import matplotlib.pyplot as plt"
   ]
  },
  {
   "cell_type": "markdown",
   "metadata": {},
   "source": [
    "### Ground Truth data treatment"
   ]
  },
  {
   "cell_type": "code",
   "execution_count": 3,
   "metadata": {},
   "outputs": [],
   "source": [
    "df_gt = pd.read_csv(\"data/BRFSS/2011.csv\", sep=\";\")#2016 210\n",
    "df_gt = df_gt[np.logical_not(pd.to_numeric(df_gt.LocationAbbr, errors='coerce').notnull())]\n",
    "df_gt = df_gt.dropna(subset=['LocationAbbr'])   #Drop only if NaN in specific column (as asked in the question)"
   ]
  },
  {
   "cell_type": "markdown",
   "metadata": {},
   "source": [
    "### Google data treatment"
   ]
  },
  {
   "cell_type": "code",
   "execution_count": 81,
   "metadata": {},
   "outputs": [
    {
     "name": "stdout",
     "output_type": "stream",
     "text": [
      "                Category: Health\n",
      "Alabama                      100\n",
      "Arizona                       15\n",
      "California                    12\n",
      "Colorado                      31\n",
      "Connecticut                   25\n",
      "Florida                       12\n",
      "Georgia                       20\n",
      "Illinois                      12\n",
      "Indiana                       43\n",
      "Louisiana                     34\n",
      "Massachusetts                 10\n",
      "Michigan                      16\n",
      "Minnesota                     14\n",
      "New Jersey                    31\n",
      "New York                      18\n",
      "North Carolina                10\n",
      "Ohio                          19\n",
      "Pennsylvania                  16\n",
      "Tennessee                     31\n",
      "Texas                         15\n",
      "Virginia                      11\n",
      "Washington                    22\n"
     ]
    },
    {
     "name": "stderr",
     "output_type": "stream",
     "text": [
      "/Users/giacomomaretto/anaconda3/lib/python3.6/site-packages/ipykernel_launcher.py:3: FutureWarning: convert_objects is deprecated.  Use the data-type specific converters pd.to_datetime, pd.to_timedelta and pd.to_numeric.\n",
      "  This is separate from the ipykernel package so we can avoid doing imports until\n"
     ]
    }
   ],
   "source": [
    "gk2011 = pd.read_csv(\"data/GoogleTrends/2011_kidneyDysplasia.csv\",sep=\",\")\n",
    "g = (gk2011[1:])\n",
    "g = g.convert_objects(convert_numeric=True)\n",
    "g = g.sort_index()\n",
    "#g= dict(keys=list(g.index),values = g.values)\n",
    "print((g))\n",
    "google_values = [x[0] for x in g.values]"
   ]
  },
  {
   "cell_type": "code",
   "execution_count": 52,
   "metadata": {},
   "outputs": [
    {
     "data": {
      "text/plain": [
       "['Alabama',\n",
       " 'Arizona',\n",
       " 'California',\n",
       " 'Colorado',\n",
       " 'Connecticut',\n",
       " 'Florida',\n",
       " 'Georgia',\n",
       " 'Illinois',\n",
       " 'Indiana',\n",
       " 'Louisiana',\n",
       " 'Massachusetts',\n",
       " 'Michigan',\n",
       " 'Minnesota',\n",
       " 'New Jersey',\n",
       " 'New York',\n",
       " 'North Carolina',\n",
       " 'Ohio',\n",
       " 'Pennsylvania',\n",
       " 'Tennessee',\n",
       " 'Texas',\n",
       " 'Virginia',\n",
       " 'Washington']"
      ]
     },
     "execution_count": 52,
     "metadata": {},
     "output_type": "execute_result"
    }
   ],
   "source": [
    "list(g.index)"
   ]
  },
  {
   "cell_type": "code",
   "execution_count": null,
   "metadata": {},
   "outputs": [],
   "source": []
  },
  {
   "cell_type": "code",
   "execution_count": 8,
   "metadata": {},
   "outputs": [],
   "source": [
    "states = {\n",
    "        'AK': 'Alaska',\n",
    "        'AL': 'Alabama',\n",
    "        'AR': 'Arkansas',\n",
    "        'AS': 'American Samoa',\n",
    "        'AZ': 'Arizona',\n",
    "        'CA': 'California',\n",
    "        'CO': 'Colorado',\n",
    "        'CT': 'Connecticut',\n",
    "        'DC': 'District of Columbia',\n",
    "        'DE': 'Delaware',\n",
    "        'FL': 'Florida',\n",
    "        'GA': 'Georgia',\n",
    "        'GU': 'Guam',\n",
    "        'HI': 'Hawaii',\n",
    "        'IA': 'Iowa',\n",
    "        'ID': 'Idaho',\n",
    "        'IL': 'Illinois',\n",
    "        'IN': 'Indiana',\n",
    "        'KS': 'Kansas',\n",
    "        'KY': 'Kentucky',\n",
    "        'LA': 'Louisiana',\n",
    "        'MA': 'Massachusetts',\n",
    "        'MD': 'Maryland',\n",
    "        'ME': 'Maine',\n",
    "        'MI': 'Michigan',\n",
    "        'MN': 'Minnesota',\n",
    "        'MO': 'Missouri',\n",
    "        'MP': 'Northern Mariana Islands',\n",
    "        'MS': 'Mississippi',\n",
    "        'MT': 'Montana',\n",
    "        'NA': 'National',\n",
    "        'NC': 'North Carolina',\n",
    "        'ND': 'North Dakota',\n",
    "        'NE': 'Nebraska',\n",
    "        'NH': 'New Hampshire',\n",
    "        'NJ': 'New Jersey',\n",
    "        'NM': 'New Mexico',\n",
    "        'NV': 'Nevada',\n",
    "        'NY': 'New York',\n",
    "        'OH': 'Ohio',\n",
    "        'OK': 'Oklahoma',\n",
    "        'OR': 'Oregon',\n",
    "        'PA': 'Pennsylvania',\n",
    "        'PR': 'Puerto Rico',\n",
    "        'RI': 'Rhode Island',\n",
    "        'SC': 'South Carolina',\n",
    "        'SD': 'South Dakota',\n",
    "        'TN': 'Tennessee',\n",
    "        'TX': 'Texas',\n",
    "        'UT': 'Utah',\n",
    "        'VA': 'Virginia',\n",
    "        'VI': 'Virgin Islands',\n",
    "        'VT': 'Vermont',\n",
    "        'WA': 'Washington',\n",
    "        'WI': 'Wisconsin',\n",
    "        'WV': 'West Virginia',\n",
    "        'WY': 'Wyoming'\n",
    "}\n",
    "\n"
   ]
  },
  {
   "cell_type": "code",
   "execution_count": 56,
   "metadata": {},
   "outputs": [],
   "source": [
    "google_states = []\n",
    "st = dict((y,x) for x, y in states.items())\n",
    "index = list(g.index)\n",
    "google_states = []\n",
    "for state in st:\n",
    "    if state in index:\n",
    "        google_states.append(st[state])\n",
    "#print(len(google_states), len(google_values))\n",
    "#len(set(google_values).difference(set(google_states)))\n",
    "\n"
   ]
  },
  {
   "cell_type": "code",
   "execution_count": 77,
   "metadata": {},
   "outputs": [],
   "source": [
    "d = {'idx': google_values, 'stat': google_states}\n",
    "d = pd.DataFrame(data=d)\n",
    "#dpd.DataFrame(data = df, columns= ['idx','stat'])"
   ]
  },
  {
   "cell_type": "code",
   "execution_count": 83,
   "metadata": {},
   "outputs": [],
   "source": [
    "# select the same states on the GT and the Google data (standardize)\n",
    "df2_gt = df_gt\n",
    "df2_gt = df2_gt[df2_gt['LocationAbbr'].isin(google_states)]\n",
    "\n",
    "# create a compact ground truth dataframe\n",
    "df2_gt = pd.DataFrame(data=list(df2_gt.Data_Value), index=list(df2_gt.LocationAbbr), columns=['value'],\n",
    "                      dtype=np.float)\n",
    "\n",
    "google_df = pd.DataFrame(data=google_values, index=google_states, columns=['value'], dtype=np.float)\n",
    "\n",
    "# normalizing\n",
    "df2_gt = (df2_gt - df2_gt.mean())/df2_gt.std()\n",
    "google_df = (google_df - google_df.mean())/google_df.std()\n",
    "\n",
    "# order\n",
    "df2_gt = df2_gt.sort_index()\n",
    "google_df = google_df.sort_index()\n",
    "\n"
   ]
  },
  {
   "cell_type": "code",
   "execution_count": 92,
   "metadata": {},
   "outputs": [],
   "source": [
    "from pydoc import help\n",
    "from scipy.stats.stats import pearsonr\n",
    "#help(pearsonr)\n",
    "cor11 = pearsonr(df2_gt, google_df)[0][0]\n"
   ]
  },
  {
   "cell_type": "code",
   "execution_count": 93,
   "metadata": {},
   "outputs": [
    {
     "data": {
      "text/plain": [
       "-0.030486570963092766"
      ]
     },
     "execution_count": 93,
     "metadata": {},
     "output_type": "execute_result"
    }
   ],
   "source": [
    "cor11"
   ]
  },
  {
   "cell_type": "code",
   "execution_count": null,
   "metadata": {},
   "outputs": [],
   "source": []
  }
 ],
 "metadata": {
  "kernelspec": {
   "display_name": "Python 3",
   "language": "python",
   "name": "python3"
  },
  "language_info": {
   "codemirror_mode": {
    "name": "ipython",
    "version": 3
   },
   "file_extension": ".py",
   "mimetype": "text/x-python",
   "name": "python",
   "nbconvert_exporter": "python",
   "pygments_lexer": "ipython3",
   "version": "3.6.3"
  }
 },
 "nbformat": 4,
 "nbformat_minor": 2
}
